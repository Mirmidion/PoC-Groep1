{
 "cells": [
  {
   "cell_type": "markdown",
   "id": "442a5527-8309-4140-a8b9-4d0c7be82b2b",
   "metadata": {
    "tags": []
   },
   "source": [
    "# Business Understanding"
   ]
  },
  {
   "cell_type": "markdown",
   "id": "e5d8405d-c508-40f0-aaf9-343914d591f5",
   "metadata": {
    "tags": []
   },
   "source": [
    "## Wie (de opdrachtgever)? \n",
    "\n",
    "Appbakkers (Corné & Guido) is een bedrijf die (mobiele) applicaties ontwikkeld.  \n",
    "\n",
    " \n",
    "\n",
    "## Wat (de opdracht)? \n",
    "\n",
    "Bij opname van een patiënt wordt er een elektrocardiogram (ECG) gemaakt. Hierbij worden alle elektrische impulsen in het hart geregistreerd, waardoor kan worden afgeleid welke gebieden van het hart naar behoren functioneren.  \n",
    "\n",
    "Arts-onderzoekers vragen zich af of het aantal hartslagen per minuut een goede voorspeller kan zijn van de calciumscore. Gebruik de ECG-datasets om per dataset het gemiddelde aantal hartslagen per minuut te bepalen (bedenk goed welke onderdelen van de ECGs je hiervoor allemaal gaat gebruiken): indien deze boven de 100 slagen per minuut is heet dit tachycardie, indien deze onder de 60 slagen per minuut is heet dit bradycardie.  \n",
    "\n",
    "Onderzoek daarna met deze resultaten en de calciumscore uitkomsten of de aanwezigheid van bradycardie/tachycardie/normale hartslag (en meer specifiek het aantal hartslagen per minuut) de calciumscore kan voorspellen. Bepaal hierna of de datasets een regelmatig of onregelmatig hartritme vertonen en probeer je model hiermee te verbeteren. Kan je model nu accuraat de calciumscore voorspellen? Zijn er risico’s bij het gebruik van je model in de praktijk? Als je nog tijd over hebt, is het interessant om je gegevens te combineren met die van opdracht 1. Kan je elkaars modellen verder verbeteren? \n",
    "\n",
    " \n",
    "\n",
    "## Wanneer (tijdsframe)? \n",
    "\n",
    "Deze opdracht voeren we uit vanaf 13 april ’22. Op deze dag hebben we de kennismaking gehad met onze opdrachtgever. Hierin hebben we de opdracht besproken en een aantal afspraken gemaakt. De einddatum van de opdracht zal zijn op 3 juni ’22. \n",
    "\n",
    " \n",
    "\n",
    "## Waarom (doel)? \n",
    "\n",
    "Het doel is om te achterhalen of hartslag een goede voorspeller kan zijn van de calciumscore. \n",
    "\n",
    "Als het model gemaakt is om dit te voorspellen kan deze verbeterd/uitgebreid worden met de resultaten en de calciumscore uitkomsten of de aanwezigheid van bradycardie/tachycardie/normale hartslag (en meer specifiek het aantal hartslagen per minuut) de calciumscore kan voorspellen.  \n",
    "\n",
    " \n",
    "\n",
    "## Wat (wat gaan we gebruiken)? \n",
    "\n",
    "Door middel van Jupyter notebooks gaan wij het model ontwikkelen.  \n",
    "ECG viewer om ECG´s bestanden door te lezen. "
   ]
  },
  {
   "cell_type": "markdown",
   "id": "42ac6956-51d7-458d-9ec2-d6059a4c5827",
   "metadata": {},
   "source": [
    "# Data Understanding"
   ]
  },
  {
   "cell_type": "markdown",
   "id": "14e28c75-6a72-4de5-a74e-4d2eb7b89fdb",
   "metadata": {},
   "source": [
    "Wij hebben 2 publieke datasets gekregen om mee bezig te gaan. Deze zijn \"cardio_train.csv\" en \"riskchartsampledata.xlsx\". Hieronder is te lezen wat de kolommen in deze datasets betekenen."
   ]
  },
  {
   "cell_type": "markdown",
   "id": "c7d8e439-fc89-437e-ad66-b09781fb0a62",
   "metadata": {
    "tags": []
   },
   "source": [
    "### \"cardio_train.csv\""
   ]
  },
  {
   "cell_type": "markdown",
   "id": "5968cadd-0145-46f8-b8bf-2a7912fd608c",
   "metadata": {},
   "source": [
    "* id          \n",
    "    De id van de rij, **integer** <br/>\n",
    "* age         \n",
    "    De leeftijd van de patient in dagen, **integer** <br/>\n",
    "* gender      \n",
    "    Het geslacht van de patient, waarbij 1 een man is en 2 een vrouw, **category** <br/>\n",
    "* height      \n",
    "    De lengte van de patient, gegeven in centimeters, **integer** <br/>\n",
    "* weight      \n",
    "    Het gewicht van de patient, gegeven in kilogram, **float** <br/>\n",
    "* ap_hi       \n",
    "    De bovendruk van de patient, **integer**  <br/>\n",
    "* ap_lo       \n",
    "    De onderdruk van de patient, **integer**  <br/>\n",
    "* cholesterol <br/>\n",
    "    Hoe veel cholesterol de patient heeft, **category**  <br/>\n",
    "* gluc        \n",
    "    Hoe veel glucoses de patient heeft, **category**  <br/>\n",
    "* smoke       \n",
    "    Of de patient rookt, **boolean** <br/>\n",
    "* alco        \n",
    "    Of de patient alcohol drinkt, **boolean** <br/>\n",
    "* active      \n",
    "    Of de patient actief is in het dagelijks leven, **boolean** <br/>\n",
    "* cardio      \n",
    "    Of de patient een cardiovasculaire ziekte heeft, **boolean** <br/>"
   ]
  },
  {
   "cell_type": "markdown",
   "id": "bfca2a42-2a05-4546-98d2-40e3ded9e864",
   "metadata": {},
   "source": [
    "### \"riskchartsampledata.xlsx\""
   ]
  },
  {
   "cell_type": "code",
   "execution_count": 1,
   "id": "c9de3cfd-d692-4f5a-92a0-19044189e14e",
   "metadata": {},
   "outputs": [],
   "source": [
    "import pandas as pd\n",
    "import numpy as np\n",
    "import matplotlib.pyplot as plt\n",
    "import seaborn as sns\n",
    "import pandas_profiling as pp\n",
    "from sklearn.model_selection import train_test_split\n",
    "from sklearn.naive_bayes import GaussianNB\n",
    "from sklearn.preprocessing import StandardScaler\n",
    "from sklearn.neighbors import KNeighborsClassifier"
   ]
  },
  {
   "cell_type": "code",
   "execution_count": 2,
   "id": "bd0edc05",
   "metadata": {},
   "outputs": [],
   "source": [
    "from sklearn.cluster import KMeans\n",
    "from collections import Counter"
   ]
  },
  {
   "cell_type": "code",
   "execution_count": 3,
   "id": "133d1f38-aaad-40a0-99aa-59e790c1026f",
   "metadata": {},
   "outputs": [],
   "source": [
    "cardio_train = pd.read_csv(\"Data/cardio_train.csv\", delimiter=';')"
   ]
  },
  {
   "cell_type": "code",
   "execution_count": 4,
   "id": "cb0848b5-2e40-4ade-85c4-a21603e6acf0",
   "metadata": {},
   "outputs": [],
   "source": [
    "def GiveInformationOfDataframe(df):\n",
    "    print(\"De kolomtypes:\")\n",
    "    print(df.dtypes)\n",
    "    print()\n",
    "    print(\"Beschrijving van de kolommen\")\n",
    "    print(df.describe().transpose())\n",
    "    print()\n",
    "    print(\"    Vorm van de data:\")\n",
    "    print(\"Aantal rijen: \")\n",
    "    print(df.shape[0])\n",
    "    print(\"Aantal kolommen: \")\n",
    "    print(df.shape[1])\n",
    "    print()\n",
    "    print(\"De bovenste rijen: \")\n",
    "    print(df.head(5))\n",
    "    print()\n",
    "    print(\"Verdere info: \")\n",
    "    print(df.info())"
   ]
  },
  {
   "cell_type": "code",
   "execution_count": 5,
   "id": "51e2c7fc-5c35-4823-b0e9-8cf94f2422ff",
   "metadata": {},
   "outputs": [],
   "source": [
    "##pp.ProfileReport(cardio_train)\n",
    "#GiveInformationOfDataframe(cardio_train)"
   ]
  },
  {
   "cell_type": "code",
   "execution_count": 6,
   "id": "65328ba9-7a35-4e6e-bd9a-f7d3ac776054",
   "metadata": {
    "tags": []
   },
   "outputs": [],
   "source": [
    "#sns.pairplot(cardio_train)"
   ]
  },
  {
   "cell_type": "code",
   "execution_count": 7,
   "id": "c2c8efcf-2179-42a2-88d0-fb62bdcba255",
   "metadata": {},
   "outputs": [
    {
     "data": {
      "text/html": [
       "<div>\n",
       "<style scoped>\n",
       "    .dataframe tbody tr th:only-of-type {\n",
       "        vertical-align: middle;\n",
       "    }\n",
       "\n",
       "    .dataframe tbody tr th {\n",
       "        vertical-align: top;\n",
       "    }\n",
       "\n",
       "    .dataframe thead th {\n",
       "        text-align: right;\n",
       "    }\n",
       "</style>\n",
       "<table border=\"1\" class=\"dataframe\">\n",
       "  <thead>\n",
       "    <tr style=\"text-align: right;\">\n",
       "      <th></th>\n",
       "      <th>height</th>\n",
       "    </tr>\n",
       "    <tr>\n",
       "      <th>gender</th>\n",
       "      <th></th>\n",
       "    </tr>\n",
       "  </thead>\n",
       "  <tbody>\n",
       "    <tr>\n",
       "      <th>1</th>\n",
       "      <td>161.355612</td>\n",
       "    </tr>\n",
       "    <tr>\n",
       "      <th>2</th>\n",
       "      <td>169.947895</td>\n",
       "    </tr>\n",
       "  </tbody>\n",
       "</table>\n",
       "</div>"
      ],
      "text/plain": [
       "            height\n",
       "gender            \n",
       "1       161.355612\n",
       "2       169.947895"
      ]
     },
     "execution_count": 7,
     "metadata": {},
     "output_type": "execute_result"
    }
   ],
   "source": [
    "cardio_train[['gender','height']].groupby('gender').agg(np.mean)"
   ]
  },
  {
   "cell_type": "markdown",
   "id": "9c9c51c5-f18e-464f-9ed1-15e3bc100edf",
   "metadata": {},
   "source": [
    "De personen met 2 als gender zijn gemiddeld langer, dus is de 2 een man en 1 een vrouw."
   ]
  },
  {
   "cell_type": "markdown",
   "id": "94ac93c5-31ee-41be-af72-ec8ccff2a71d",
   "metadata": {
    "tags": []
   },
   "source": [
    "# Data Preparation"
   ]
  },
  {
   "cell_type": "code",
   "execution_count": 8,
   "id": "b585df08-d68b-4eda-8f84-b28d57242d77",
   "metadata": {
    "tags": []
   },
   "outputs": [
    {
     "data": {
      "text/html": [
       "<div>\n",
       "<style scoped>\n",
       "    .dataframe tbody tr th:only-of-type {\n",
       "        vertical-align: middle;\n",
       "    }\n",
       "\n",
       "    .dataframe tbody tr th {\n",
       "        vertical-align: top;\n",
       "    }\n",
       "\n",
       "    .dataframe thead th {\n",
       "        text-align: right;\n",
       "    }\n",
       "</style>\n",
       "<table border=\"1\" class=\"dataframe\">\n",
       "  <thead>\n",
       "    <tr style=\"text-align: right;\">\n",
       "      <th></th>\n",
       "      <th>id</th>\n",
       "      <th>age</th>\n",
       "      <th>gender</th>\n",
       "      <th>height</th>\n",
       "      <th>weight</th>\n",
       "      <th>ap_hi</th>\n",
       "      <th>ap_lo</th>\n",
       "      <th>cholesterol</th>\n",
       "      <th>gluc</th>\n",
       "      <th>smoke</th>\n",
       "      <th>alco</th>\n",
       "      <th>active</th>\n",
       "      <th>cardio</th>\n",
       "    </tr>\n",
       "  </thead>\n",
       "  <tbody>\n",
       "    <tr>\n",
       "      <th>0</th>\n",
       "      <td>0</td>\n",
       "      <td>18393</td>\n",
       "      <td>2</td>\n",
       "      <td>168</td>\n",
       "      <td>62.0</td>\n",
       "      <td>110</td>\n",
       "      <td>80</td>\n",
       "      <td>1</td>\n",
       "      <td>1</td>\n",
       "      <td>False</td>\n",
       "      <td>False</td>\n",
       "      <td>True</td>\n",
       "      <td>False</td>\n",
       "    </tr>\n",
       "    <tr>\n",
       "      <th>1</th>\n",
       "      <td>1</td>\n",
       "      <td>20228</td>\n",
       "      <td>1</td>\n",
       "      <td>156</td>\n",
       "      <td>85.0</td>\n",
       "      <td>140</td>\n",
       "      <td>90</td>\n",
       "      <td>3</td>\n",
       "      <td>1</td>\n",
       "      <td>False</td>\n",
       "      <td>False</td>\n",
       "      <td>True</td>\n",
       "      <td>True</td>\n",
       "    </tr>\n",
       "    <tr>\n",
       "      <th>2</th>\n",
       "      <td>2</td>\n",
       "      <td>18857</td>\n",
       "      <td>1</td>\n",
       "      <td>165</td>\n",
       "      <td>64.0</td>\n",
       "      <td>130</td>\n",
       "      <td>70</td>\n",
       "      <td>3</td>\n",
       "      <td>1</td>\n",
       "      <td>False</td>\n",
       "      <td>False</td>\n",
       "      <td>False</td>\n",
       "      <td>True</td>\n",
       "    </tr>\n",
       "    <tr>\n",
       "      <th>3</th>\n",
       "      <td>3</td>\n",
       "      <td>17623</td>\n",
       "      <td>2</td>\n",
       "      <td>169</td>\n",
       "      <td>82.0</td>\n",
       "      <td>150</td>\n",
       "      <td>100</td>\n",
       "      <td>1</td>\n",
       "      <td>1</td>\n",
       "      <td>False</td>\n",
       "      <td>False</td>\n",
       "      <td>True</td>\n",
       "      <td>True</td>\n",
       "    </tr>\n",
       "    <tr>\n",
       "      <th>4</th>\n",
       "      <td>4</td>\n",
       "      <td>17474</td>\n",
       "      <td>1</td>\n",
       "      <td>156</td>\n",
       "      <td>56.0</td>\n",
       "      <td>100</td>\n",
       "      <td>60</td>\n",
       "      <td>1</td>\n",
       "      <td>1</td>\n",
       "      <td>False</td>\n",
       "      <td>False</td>\n",
       "      <td>False</td>\n",
       "      <td>False</td>\n",
       "    </tr>\n",
       "    <tr>\n",
       "      <th>...</th>\n",
       "      <td>...</td>\n",
       "      <td>...</td>\n",
       "      <td>...</td>\n",
       "      <td>...</td>\n",
       "      <td>...</td>\n",
       "      <td>...</td>\n",
       "      <td>...</td>\n",
       "      <td>...</td>\n",
       "      <td>...</td>\n",
       "      <td>...</td>\n",
       "      <td>...</td>\n",
       "      <td>...</td>\n",
       "      <td>...</td>\n",
       "    </tr>\n",
       "    <tr>\n",
       "      <th>69995</th>\n",
       "      <td>99993</td>\n",
       "      <td>19240</td>\n",
       "      <td>2</td>\n",
       "      <td>168</td>\n",
       "      <td>76.0</td>\n",
       "      <td>120</td>\n",
       "      <td>80</td>\n",
       "      <td>1</td>\n",
       "      <td>1</td>\n",
       "      <td>True</td>\n",
       "      <td>False</td>\n",
       "      <td>True</td>\n",
       "      <td>False</td>\n",
       "    </tr>\n",
       "    <tr>\n",
       "      <th>69996</th>\n",
       "      <td>99995</td>\n",
       "      <td>22601</td>\n",
       "      <td>1</td>\n",
       "      <td>158</td>\n",
       "      <td>126.0</td>\n",
       "      <td>140</td>\n",
       "      <td>90</td>\n",
       "      <td>2</td>\n",
       "      <td>2</td>\n",
       "      <td>False</td>\n",
       "      <td>False</td>\n",
       "      <td>True</td>\n",
       "      <td>True</td>\n",
       "    </tr>\n",
       "    <tr>\n",
       "      <th>69997</th>\n",
       "      <td>99996</td>\n",
       "      <td>19066</td>\n",
       "      <td>2</td>\n",
       "      <td>183</td>\n",
       "      <td>105.0</td>\n",
       "      <td>180</td>\n",
       "      <td>90</td>\n",
       "      <td>3</td>\n",
       "      <td>1</td>\n",
       "      <td>False</td>\n",
       "      <td>True</td>\n",
       "      <td>False</td>\n",
       "      <td>True</td>\n",
       "    </tr>\n",
       "    <tr>\n",
       "      <th>69998</th>\n",
       "      <td>99998</td>\n",
       "      <td>22431</td>\n",
       "      <td>1</td>\n",
       "      <td>163</td>\n",
       "      <td>72.0</td>\n",
       "      <td>135</td>\n",
       "      <td>80</td>\n",
       "      <td>1</td>\n",
       "      <td>2</td>\n",
       "      <td>False</td>\n",
       "      <td>False</td>\n",
       "      <td>False</td>\n",
       "      <td>True</td>\n",
       "    </tr>\n",
       "    <tr>\n",
       "      <th>69999</th>\n",
       "      <td>99999</td>\n",
       "      <td>20540</td>\n",
       "      <td>1</td>\n",
       "      <td>170</td>\n",
       "      <td>72.0</td>\n",
       "      <td>120</td>\n",
       "      <td>80</td>\n",
       "      <td>2</td>\n",
       "      <td>1</td>\n",
       "      <td>False</td>\n",
       "      <td>False</td>\n",
       "      <td>True</td>\n",
       "      <td>False</td>\n",
       "    </tr>\n",
       "  </tbody>\n",
       "</table>\n",
       "<p>70000 rows × 13 columns</p>\n",
       "</div>"
      ],
      "text/plain": [
       "          id    age gender  height  weight  ap_hi  ap_lo cholesterol gluc  \\\n",
       "0          0  18393      2     168    62.0    110     80           1    1   \n",
       "1          1  20228      1     156    85.0    140     90           3    1   \n",
       "2          2  18857      1     165    64.0    130     70           3    1   \n",
       "3          3  17623      2     169    82.0    150    100           1    1   \n",
       "4          4  17474      1     156    56.0    100     60           1    1   \n",
       "...      ...    ...    ...     ...     ...    ...    ...         ...  ...   \n",
       "69995  99993  19240      2     168    76.0    120     80           1    1   \n",
       "69996  99995  22601      1     158   126.0    140     90           2    2   \n",
       "69997  99996  19066      2     183   105.0    180     90           3    1   \n",
       "69998  99998  22431      1     163    72.0    135     80           1    2   \n",
       "69999  99999  20540      1     170    72.0    120     80           2    1   \n",
       "\n",
       "       smoke   alco  active  cardio  \n",
       "0      False  False    True   False  \n",
       "1      False  False    True    True  \n",
       "2      False  False   False    True  \n",
       "3      False  False    True    True  \n",
       "4      False  False   False   False  \n",
       "...      ...    ...     ...     ...  \n",
       "69995   True  False    True   False  \n",
       "69996  False  False    True    True  \n",
       "69997  False   True   False    True  \n",
       "69998  False  False   False    True  \n",
       "69999  False  False    True   False  \n",
       "\n",
       "[70000 rows x 13 columns]"
      ]
     },
     "execution_count": 8,
     "metadata": {},
     "output_type": "execute_result"
    }
   ],
   "source": [
    "cardio_train.astype({'gender':'category','cholesterol':'category','gluc':'category','smoke':'bool','alco':'bool','active':'bool','cardio':'bool'}, copy=False)"
   ]
  },
  {
   "cell_type": "markdown",
   "id": "9be98d68-4af5-456f-8cd8-0c1e3d29f26e",
   "metadata": {},
   "source": [
    "## Aanpassen van data"
   ]
  },
  {
   "cell_type": "code",
   "execution_count": 9,
   "id": "08418c88-02e3-41dd-9049-aab778ca1441",
   "metadata": {},
   "outputs": [],
   "source": [
    "cardio_train.astype('category',copy=False)\n",
    "\n",
    "# Het uitrekenen van de leeftijd in jaren\n",
    "cardio_train['age_in_years'] = (cardio_train['age']/365).agg(np.round)\n",
    "\n",
    "# Het uitrekenen van de BMI\n",
    "cardio_train['bmi'] = cardio_train['weight'] / (cardio_train['height']/100)**2 \n",
    "\n",
    "# Het verschil tussen de hoge en lage bloeddruk berekenen.\n",
    "cardio_train['ap_difference'] = cardio_train['ap_hi'] - cardio_train['ap_lo']"
   ]
  },
  {
   "cell_type": "code",
   "execution_count": 10,
   "id": "cddefbd9",
   "metadata": {},
   "outputs": [],
   "source": [
    "cardio_train.drop_duplicates(inplace=True)\n",
    "data = cardio_train\n",
    "\n",
    "# BMI verwijderen hoger dan 60.\n",
    "data = data[~(data['bmi']>60)]\n",
    "\n",
    "# ap_hi kan niet lager zijn dan ap_lo\n",
    "data = data[:][data['ap_hi'] > data['ap_lo']]\n",
    "\n",
    "# Hoge bloeddruk boven 220 & lage bloeddruk boven 180 verwijderen.\n",
    "high_ap_filter = ((data[\"ap_hi\"]>220) | (data[\"ap_lo\"]>180))\n",
    "data = data[~high_ap_filter]\n",
    "\n",
    "# Lage bloeddruk onder 40 & lage bloeddruk onder 40 verwijderen.\n",
    "low_ap_filter = ((data[\"ap_hi\"] < 40) | (data[\"ap_lo\"] < 40))\n",
    "data = data[~low_ap_filter]\n",
    "\n",
    "labels = data['cardio']"
   ]
  },
  {
   "cell_type": "markdown",
   "id": "ccd31265",
   "metadata": {},
   "source": [
    "## Normalisatie"
   ]
  },
  {
   "cell_type": "code",
   "execution_count": 11,
   "id": "1de408aa",
   "metadata": {},
   "outputs": [],
   "source": [
    "#df_norm = df.drop(columns=['kolommen_met_text']).copy()\n",
    "df_norm = data\n",
    "df_norm = df_norm - df_norm.mean()\n",
    "df_norm = df_norm / df_norm.std()"
   ]
  },
  {
   "cell_type": "code",
   "execution_count": 12,
   "id": "6f210101",
   "metadata": {},
   "outputs": [],
   "source": [
    "#df_norm.describe()"
   ]
  },
  {
   "cell_type": "markdown",
   "id": "3f215b26",
   "metadata": {},
   "source": [
    "## Outliers verwijderen"
   ]
  },
  {
   "cell_type": "code",
   "execution_count": 13,
   "id": "6bff4752",
   "metadata": {},
   "outputs": [],
   "source": [
    "def remove_outliers(df, features):\n",
    "    for col in features:\n",
    "        #Q1 = mediaan van de eerste helft\n",
    "        Q1 = df[col].quantile(0.25)\n",
    "        #Q3 = mediaan van tweede helft\n",
    "        Q3 = df[col].quantile(0.75)\n",
    "        \n",
    "        IQR = Q3 - Q1\n",
    "        inner_lower_fence = Q1 - 1.5 * IQR   \n",
    "        outer_lower_fence = Q3 + 1.5 * IQR\n",
    "        \n",
    "        # outliers omzetten naar nan\n",
    "        df.loc[df[col] < inner_lower_fence,col] = np.nan\n",
    "        df.loc[df[col] > outer_lower_fence,col] = np.nan\n",
    "        \n",
    "        # nan droppen en returnen\n",
    "    return df.dropna()"
   ]
  },
  {
   "cell_type": "code",
   "execution_count": 14,
   "id": "b202bfb3",
   "metadata": {},
   "outputs": [],
   "source": [
    "# dataset, list of features\n",
    "#df_out = remove_outliers(df_norm, [\"age\", \"height\", \"weight\", \"ap_hi\", \"ap_lo\", \"bmi\", \"ap_difference\", \"age_in_years\"])"
   ]
  },
  {
   "cell_type": "code",
   "execution_count": 15,
   "id": "976cef73",
   "metadata": {},
   "outputs": [],
   "source": [
    "df_out = df_norm"
   ]
  },
  {
   "cell_type": "markdown",
   "id": "1510fdd0",
   "metadata": {},
   "source": [
    "# Modeling"
   ]
  },
  {
   "cell_type": "markdown",
   "id": "fd150211",
   "metadata": {},
   "source": [
    "## KMeans"
   ]
  },
  {
   "cell_type": "code",
   "execution_count": 16,
   "id": "ec824734",
   "metadata": {},
   "outputs": [],
   "source": [
    "# Overige kollommen verwijderen\n",
    "df_kmeans = df_out[[\"age\", \"height\", \"weight\", \"ap_hi\", \"ap_lo\", \"bmi\", \"ap_difference\", \"age_in_years\"]]\n",
    "                   "
   ]
  },
  {
   "cell_type": "markdown",
   "id": "e4b96b27",
   "metadata": {},
   "source": [
    "### Elbowplot maken"
   ]
  },
  {
   "cell_type": "code",
   "execution_count": 17,
   "id": "f9ec73a9-b0e8-41b3-b19f-5f5369297173",
   "metadata": {},
   "outputs": [
    {
     "data": {
      "text/plain": [
       "<AxesSubplot:title={'center':'Elleboog Grafiek'}, xlabel='Aantal clusters'>"
      ]
     },
     "execution_count": 17,
     "metadata": {},
     "output_type": "execute_result"
    }
   ],
   "source": [
    "cluster_options = [1,2,3,4,5,6,7,8,9]\n",
    "inertia_vs_no_clusters = []\n",
    "for no_clusters in cluster_options:\n",
    "    \n",
    "    kmeans = KMeans(n_clusters=no_clusters)\n",
    "    \n",
    "    inertia_vs_no_clusters.append(kmeans.fit(df_kmeans).inertia_)\n",
    "    \n",
    "inertia_results = pd.DataFrame({\"Aantal clusters\": cluster_options, \"Inertie\":inertia_vs_no_clusters})\n",
    "\n",
    "inertia_results.plot(x='Aantal clusters', y=\"Inertie\", title='Elleboog Grafiek')"
   ]
  },
  {
   "cell_type": "markdown",
   "id": "db703d6d",
   "metadata": {},
   "source": [
    "Uit de Elbowplot is op te maken dat "
   ]
  },
  {
   "cell_type": "markdown",
   "id": "1e680a47",
   "metadata": {},
   "source": [
    "### KMeans uitvoeren"
   ]
  },
  {
   "cell_type": "code",
   "execution_count": 18,
   "id": "89d32964",
   "metadata": {},
   "outputs": [],
   "source": [
    "kmeans = KMeans(n_clusters=3) #Gekozen clusters invullen\n",
    "cardio_train_kmeans = kmeans.fit(df_out)"
   ]
  },
  {
   "cell_type": "markdown",
   "id": "2132f231",
   "metadata": {},
   "source": [
    "### Labels toevoegen aan niet genormaliseerde data"
   ]
  },
  {
   "cell_type": "code",
   "execution_count": 20,
   "id": "94cf18c4",
   "metadata": {},
   "outputs": [],
   "source": [
    "data['cluster'] = cardio_train_kmeans.labels_"
   ]
  },
  {
   "cell_type": "markdown",
   "id": "11de60bc",
   "metadata": {},
   "source": [
    "### Pairplot op niet genormailiseerde data, kleuring op clustering, kollom cluster gedropt."
   ]
  },
  {
   "cell_type": "code",
   "execution_count": 22,
   "id": "afc2b943",
   "metadata": {},
   "outputs": [
    {
     "data": {
      "text/plain": [
       "<seaborn.axisgrid.PairGrid at 0x1d767d6e910>"
      ]
     },
     "execution_count": 22,
     "metadata": {},
     "output_type": "execute_result"
    }
   ],
   "source": [
    "sns.pairplot(data, hue='cluster', vars=data.drop(columns=['cluster']).columns)"
   ]
  },
  {
   "cell_type": "code",
   "execution_count": null,
   "id": "d2c625ea",
   "metadata": {},
   "outputs": [],
   "source": []
  },
  {
   "cell_type": "code",
   "execution_count": null,
   "id": "89a5447d",
   "metadata": {},
   "outputs": [],
   "source": []
  },
  {
   "cell_type": "code",
   "execution_count": null,
   "id": "7c5de122",
   "metadata": {},
   "outputs": [],
   "source": []
  },
  {
   "cell_type": "code",
   "execution_count": null,
   "id": "c50396bb",
   "metadata": {},
   "outputs": [],
   "source": []
  },
  {
   "cell_type": "markdown",
   "id": "f0bf84ab",
   "metadata": {},
   "source": [
    "\n"
   ]
  }
 ],
 "metadata": {
  "kernelspec": {
   "display_name": "Python 3 (ipykernel)",
   "language": "python",
   "name": "python3"
  },
  "language_info": {
   "codemirror_mode": {
    "name": "ipython",
    "version": 3
   },
   "file_extension": ".py",
   "mimetype": "text/x-python",
   "name": "python",
   "nbconvert_exporter": "python",
   "pygments_lexer": "ipython3",
   "version": "3.9.7"
  }
 },
 "nbformat": 4,
 "nbformat_minor": 5
}
