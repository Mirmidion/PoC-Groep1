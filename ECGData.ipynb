{
 "cells": [
  {
   "cell_type": "markdown",
   "id": "e5d8405d-c508-40f0-aaf9-343914d591f5",
   "metadata": {
    "slideshow": {
     "slide_type": "slide"
    },
    "tags": []
   },
   "source": [
    "# Business Understanding\n",
    "\n"
   ]
  },
  {
   "cell_type": "markdown",
   "id": "00d2c7d6",
   "metadata": {
    "slideshow": {
     "slide_type": "skip"
    }
   },
   "source": [
    "## Wie (de opdrachtgever)? \n",
    "\n",
    "Appbakkers (Corné & Guido) is een bedrijf die (mobiele) applicaties ontwikkeld.  \n"
   ]
  },
  {
   "cell_type": "markdown",
   "id": "f96bb855",
   "metadata": {
    "slideshow": {
     "slide_type": "subslide"
    }
   },
   "source": [
    "## Wat (de opdracht)? \n",
    "\n",
    "Bij opname van een patiënt wordt er een elektrocardiogram (ECG) gemaakt. Hierbij worden alle elektrische impulsen in het hart geregistreerd, waardoor kan worden afgeleid welke gebieden van het hart naar behoren functioneren.  \n",
    "\n",
    "Als een ECG is gemaakt, wordt het nu door een deskundige bekeken en gelabeld. Zo kan worden gezien of de patient een cardiovasculaire ziekte heeft. Nu kost dit labelen veel tijd en zijn er niet veel deskundigen die het accuraat kunnen labelen/onderzoeken. Om het labelen ervan makkelijker te maken is er een behoefte naar een model die de categorie kan bepalen aan de hand van een ECG.\n",
    "\n",
    "<a id='categorieën'>De categorieën waarin deze ECG's zich kunnen bevinden:</a>\n",
    "\n",
    "N - 0\n",
    "* Normal\n",
    "* Left/Right bundle branch block\n",
    "* Atrial escape\n",
    "* Nodal escape</br>\n",
    "\n",
    "S - 1\n",
    "* Atrial premature\n",
    "* Aberrant atrial premature\n",
    "* Nodal premature\n",
    "* Supra-ventricular premature</br>\n",
    "\n",
    "V - 2\n",
    "* Premature ventricular contraction\n",
    "* Ventricular escape</br>\n",
    "\n",
    "F - 3\n",
    "* Fusion of ventricular and normal</br>\n",
    "\n",
    "Q - 4\n",
    "* Paced\n",
    "* Fusion of paced and normal\n",
    "* Unclassifiable\n"
   ]
  },
  {
   "cell_type": "markdown",
   "id": "af2ab9af",
   "metadata": {
    "slideshow": {
     "slide_type": "skip"
    }
   },
   "source": [
    "## Wanneer (tijdsframe)? \n",
    "\n",
    "Deze opdracht voeren we uit vanaf 13 april ’22. Op deze dag hebben we de kennismaking gehad met onze opdrachtgever. Hierin hebben we de opdracht besproken en een aantal afspraken gemaakt. De einddatum van de opdracht zal zijn op 3 juni ’22. "
   ]
  },
  {
   "cell_type": "markdown",
   "id": "818e7b1d",
   "metadata": {
    "slideshow": {
     "slide_type": "subslide"
    }
   },
   "source": [
    "## Waarom (doel)? \n",
    "\n",
    "Het doel is om te achterhalen of hartslag een goede voorspeller kan zijn van de calciumscore. \n",
    "\n",
    "Als het model gemaakt is om dit te voorspellen kan deze verbeterd/uitgebreid worden met de resultaten en de calciumscore uitkomsten of de aanwezigheid van bradycardie/tachycardie/normale hartslag (en meer specifiek het aantal hartslagen per minuut) de calciumscore kan voorspellen.  "
   ]
  },
  {
   "cell_type": "markdown",
   "id": "a30e08c9",
   "metadata": {
    "slideshow": {
     "slide_type": "skip"
    }
   },
   "source": [
    "## Wat (wat gaan we gebruiken)? \n",
    "\n",
    "Door middel van Jupyter notebooks gaan wij het model ontwikkelen.  "
   ]
  },
  {
   "cell_type": "markdown",
   "id": "9ed5f2d8",
   "metadata": {},
   "source": [
    "# Data Understanding"
   ]
  },
  {
   "cell_type": "markdown",
   "id": "baf70543",
   "metadata": {},
   "source": [
    "Frequentie van de ECG's: 125Hz </br>\n",
    "Data bron: Physionet's MIT-BIH Arrhythmia Dataset\n",
    "\n",
    "### \"mitbih_train.csv\" en \"mitbih_test.csv\"\n",
    "\n",
    "* Kolom 0 t/m 186          \n",
    "    Een reeks aan voltages binnen een bereik van 0 tot 1, die één hartslag omvatten, **float** <br/>\n",
    "* Kolom 187         \n",
    "    [De categorie waarin deze bevind](#categorieën) , **integer**<br/>"
   ]
  },
  {
   "cell_type": "code",
   "execution_count": 2,
   "id": "0d885ed2",
   "metadata": {
    "slideshow": {
     "slide_type": "skip"
    }
   },
   "outputs": [],
   "source": [
    "import pandas as pd\n",
    "import matplotlib.pyplot as plt\n",
    "import numpy as np\n",
    "import seaborn as sns\n",
    "import pandas_profiling as pp\n",
    "import itertools\n",
    "\n",
    "from sklearn.preprocessing import OneHotEncoder\n",
    "from sklearn.model_selection import train_test_split\n",
    "from sklearn.metrics import confusion_matrix # this creates a confusion matrix\n",
    "from sklearn.metrics import plot_confusion_matrix # draws a confusion matrix\n",
    "\n",
    "import tensorflow\n",
    "import tensorflow.keras\n",
    "from tensorflow.keras import layers\n",
    "from tensorflow.keras import models\n",
    "\n",
    "from keras.models import Model\n",
    "from keras.layers import Input, Dense, Conv1D, MaxPooling1D, Softmax, Add, Flatten, Activation\n",
    "\n",
    "from keras.callbacks import LearningRateScheduler, ModelCheckpoint\n",
    "\n",
    "%matplotlib inline"
   ]
  },
  {
   "cell_type": "code",
   "execution_count": 11,
   "id": "1e2e138f",
   "metadata": {
    "slideshow": {
     "slide_type": "skip"
    }
   },
   "outputs": [
    {
     "data": {
      "text/html": [
       "<div>\n",
       "<style scoped>\n",
       "    .dataframe tbody tr th:only-of-type {\n",
       "        vertical-align: middle;\n",
       "    }\n",
       "\n",
       "    .dataframe tbody tr th {\n",
       "        vertical-align: top;\n",
       "    }\n",
       "\n",
       "    .dataframe thead th {\n",
       "        text-align: right;\n",
       "    }\n",
       "</style>\n",
       "<table border=\"1\" class=\"dataframe\">\n",
       "  <thead>\n",
       "    <tr style=\"text-align: right;\">\n",
       "      <th></th>\n",
       "      <th>samplenr</th>\n",
       "      <th>I</th>\n",
       "      <th>II</th>\n",
       "      <th>III</th>\n",
       "      <th>aVR</th>\n",
       "      <th>aVL</th>\n",
       "      <th>aVF</th>\n",
       "      <th>V1</th>\n",
       "      <th>V2</th>\n",
       "      <th>V3</th>\n",
       "      <th>V4</th>\n",
       "      <th>V5</th>\n",
       "      <th>V6</th>\n",
       "      <th>measurement</th>\n",
       "    </tr>\n",
       "  </thead>\n",
       "  <tbody>\n",
       "    <tr>\n",
       "      <th>0</th>\n",
       "      <td>0</td>\n",
       "      <td>180</td>\n",
       "      <td>220</td>\n",
       "      <td>40</td>\n",
       "      <td>-200</td>\n",
       "      <td>80</td>\n",
       "      <td>120</td>\n",
       "      <td>-20</td>\n",
       "      <td>380</td>\n",
       "      <td>260</td>\n",
       "      <td>160</td>\n",
       "      <td>120</td>\n",
       "      <td>160</td>\n",
       "      <td>NaN</td>\n",
       "    </tr>\n",
       "    <tr>\n",
       "      <th>1</th>\n",
       "      <td>1</td>\n",
       "      <td>160</td>\n",
       "      <td>200</td>\n",
       "      <td>40</td>\n",
       "      <td>-180</td>\n",
       "      <td>60</td>\n",
       "      <td>120</td>\n",
       "      <td>0</td>\n",
       "      <td>360</td>\n",
       "      <td>260</td>\n",
       "      <td>160</td>\n",
       "      <td>120</td>\n",
       "      <td>160</td>\n",
       "      <td>NaN</td>\n",
       "    </tr>\n",
       "    <tr>\n",
       "      <th>2</th>\n",
       "      <td>2</td>\n",
       "      <td>160</td>\n",
       "      <td>180</td>\n",
       "      <td>20</td>\n",
       "      <td>-180</td>\n",
       "      <td>60</td>\n",
       "      <td>100</td>\n",
       "      <td>-20</td>\n",
       "      <td>320</td>\n",
       "      <td>260</td>\n",
       "      <td>160</td>\n",
       "      <td>120</td>\n",
       "      <td>160</td>\n",
       "      <td>NaN</td>\n",
       "    </tr>\n",
       "    <tr>\n",
       "      <th>3</th>\n",
       "      <td>3</td>\n",
       "      <td>140</td>\n",
       "      <td>180</td>\n",
       "      <td>40</td>\n",
       "      <td>-160</td>\n",
       "      <td>40</td>\n",
       "      <td>100</td>\n",
       "      <td>0</td>\n",
       "      <td>300</td>\n",
       "      <td>240</td>\n",
       "      <td>140</td>\n",
       "      <td>100</td>\n",
       "      <td>140</td>\n",
       "      <td>NaN</td>\n",
       "    </tr>\n",
       "    <tr>\n",
       "      <th>4</th>\n",
       "      <td>4</td>\n",
       "      <td>140</td>\n",
       "      <td>180</td>\n",
       "      <td>40</td>\n",
       "      <td>-160</td>\n",
       "      <td>60</td>\n",
       "      <td>100</td>\n",
       "      <td>0</td>\n",
       "      <td>280</td>\n",
       "      <td>240</td>\n",
       "      <td>140</td>\n",
       "      <td>100</td>\n",
       "      <td>140</td>\n",
       "      <td>NaN</td>\n",
       "    </tr>\n",
       "    <tr>\n",
       "      <th>...</th>\n",
       "      <td>...</td>\n",
       "      <td>...</td>\n",
       "      <td>...</td>\n",
       "      <td>...</td>\n",
       "      <td>...</td>\n",
       "      <td>...</td>\n",
       "      <td>...</td>\n",
       "      <td>...</td>\n",
       "      <td>...</td>\n",
       "      <td>...</td>\n",
       "      <td>...</td>\n",
       "      <td>...</td>\n",
       "      <td>...</td>\n",
       "      <td>...</td>\n",
       "    </tr>\n",
       "    <tr>\n",
       "      <th>4995</th>\n",
       "      <td>4995</td>\n",
       "      <td>-80</td>\n",
       "      <td>-40</td>\n",
       "      <td>60</td>\n",
       "      <td>60</td>\n",
       "      <td>-60</td>\n",
       "      <td>20</td>\n",
       "      <td>60</td>\n",
       "      <td>-60</td>\n",
       "      <td>-20</td>\n",
       "      <td>20</td>\n",
       "      <td>20</td>\n",
       "      <td>-60</td>\n",
       "      <td>NaN</td>\n",
       "    </tr>\n",
       "    <tr>\n",
       "      <th>4996</th>\n",
       "      <td>4996</td>\n",
       "      <td>-80</td>\n",
       "      <td>-40</td>\n",
       "      <td>40</td>\n",
       "      <td>60</td>\n",
       "      <td>-60</td>\n",
       "      <td>0</td>\n",
       "      <td>60</td>\n",
       "      <td>-60</td>\n",
       "      <td>-20</td>\n",
       "      <td>20</td>\n",
       "      <td>20</td>\n",
       "      <td>-60</td>\n",
       "      <td>NaN</td>\n",
       "    </tr>\n",
       "    <tr>\n",
       "      <th>4997</th>\n",
       "      <td>4997</td>\n",
       "      <td>-80</td>\n",
       "      <td>-40</td>\n",
       "      <td>40</td>\n",
       "      <td>60</td>\n",
       "      <td>-60</td>\n",
       "      <td>-20</td>\n",
       "      <td>60</td>\n",
       "      <td>-60</td>\n",
       "      <td>-20</td>\n",
       "      <td>20</td>\n",
       "      <td>20</td>\n",
       "      <td>-60</td>\n",
       "      <td>NaN</td>\n",
       "    </tr>\n",
       "    <tr>\n",
       "      <th>4998</th>\n",
       "      <td>4998</td>\n",
       "      <td>-80</td>\n",
       "      <td>-40</td>\n",
       "      <td>60</td>\n",
       "      <td>60</td>\n",
       "      <td>-80</td>\n",
       "      <td>0</td>\n",
       "      <td>60</td>\n",
       "      <td>-60</td>\n",
       "      <td>-20</td>\n",
       "      <td>20</td>\n",
       "      <td>20</td>\n",
       "      <td>-60</td>\n",
       "      <td>NaN</td>\n",
       "    </tr>\n",
       "    <tr>\n",
       "      <th>4999</th>\n",
       "      <td>4999</td>\n",
       "      <td>-80</td>\n",
       "      <td>-40</td>\n",
       "      <td>40</td>\n",
       "      <td>60</td>\n",
       "      <td>-60</td>\n",
       "      <td>0</td>\n",
       "      <td>60</td>\n",
       "      <td>-60</td>\n",
       "      <td>0</td>\n",
       "      <td>20</td>\n",
       "      <td>20</td>\n",
       "      <td>-60</td>\n",
       "      <td>NaN</td>\n",
       "    </tr>\n",
       "  </tbody>\n",
       "</table>\n",
       "<p>5000 rows × 14 columns</p>\n",
       "</div>"
      ],
      "text/plain": [
       "      samplenr    I   II  III  aVR  aVL  aVF  V1   V2   V3   V4   V5   V6  \\\n",
       "0            0  180  220   40 -200   80  120 -20  380  260  160  120  160   \n",
       "1            1  160  200   40 -180   60  120   0  360  260  160  120  160   \n",
       "2            2  160  180   20 -180   60  100 -20  320  260  160  120  160   \n",
       "3            3  140  180   40 -160   40  100   0  300  240  140  100  140   \n",
       "4            4  140  180   40 -160   60  100   0  280  240  140  100  140   \n",
       "...        ...  ...  ...  ...  ...  ...  ...  ..  ...  ...  ...  ...  ...   \n",
       "4995      4995  -80  -40   60   60  -60   20  60  -60  -20   20   20  -60   \n",
       "4996      4996  -80  -40   40   60  -60    0  60  -60  -20   20   20  -60   \n",
       "4997      4997  -80  -40   40   60  -60  -20  60  -60  -20   20   20  -60   \n",
       "4998      4998  -80  -40   60   60  -80    0  60  -60  -20   20   20  -60   \n",
       "4999      4999  -80  -40   40   60  -60    0  60  -60    0   20   20  -60   \n",
       "\n",
       "      measurement  \n",
       "0             NaN  \n",
       "1             NaN  \n",
       "2             NaN  \n",
       "3             NaN  \n",
       "4             NaN  \n",
       "...           ...  \n",
       "4995          NaN  \n",
       "4996          NaN  \n",
       "4997          NaN  \n",
       "4998          NaN  \n",
       "4999          NaN  \n",
       "\n",
       "[5000 rows x 14 columns]"
      ]
     },
     "execution_count": 11,
     "metadata": {},
     "output_type": "execute_result"
    }
   ],
   "source": [
    "ecg1_train = pd.read_csv('Data/ECG/mitbih_train.csv',delimiter=',', header=None)\n",
    "ecg1_test = pd.read_csv('Data/ECG/mitbih_test.csv',delimiter=',', header=None)\n",
    "ecg_data = pd.concat([ecg1_train, ecg1_test], axis=0)\n",
    "ecg_data.shape\n",
    "\n",
    "whole_ecg = pd.read_csv('Data/ECG/ecg.csv', delimiter='\\t')\n",
    "whole_ecg"
   ]
  },
  {
   "cell_type": "code",
   "execution_count": 24,
   "id": "c37f5d66",
   "metadata": {},
   "outputs": [
    {
     "data": {
      "text/plain": [
       "[<matplotlib.lines.Line2D at 0x18fcb0aff40>]"
      ]
     },
     "execution_count": 24,
     "metadata": {},
     "output_type": "execute_result"
    },
    {
     "data": {
      "image/png": "[encoded data removed]",
      "text/plain": [
       "<Figure size 432x288 with 1 Axes>"
      ]
     },
     "metadata": {
      "needs_background": "light"
     },
     "output_type": "display_data"
    }
   ],
   "source": [
    "plt.plot((whole_ecg['II']-whole_ecg['II'].min()).pct_change().pct_change().pct_change().pct_change().pct_change())"
   ]
  },
  {
   "cell_type": "code",
   "execution_count": 26,
   "id": "31836b04",
   "metadata": {},
   "outputs": [
    {
     "data": {
      "text/plain": [
       "[<matplotlib.lines.Line2D at 0x18fcb17dc70>]"
      ]
     },
     "execution_count": 26,
     "metadata": {},
     "output_type": "execute_result"
    },
    {
     "data": {
      "image/png": "[encoded data removed]",
      "text/plain": [
       "<Figure size 432x288 with 1 Axes>"
      ]
     },
     "metadata": {
      "needs_background": "light"
     },
     "output_type": "display_data"
    }
   ],
   "source": [
    "two = (whole_ecg['II']-whole_ecg['II'].min())\n",
    "plt.plot(two)"
   ]
  },
  {
   "cell_type": "code",
   "execution_count": 66,
   "id": "4e281128",
   "metadata": {},
   "outputs": [
    {
     "name": "stdout",
     "output_type": "stream",
     "text": [
      "209\n",
      "336\n",
      "333\n",
      "328\n",
      "335\n",
      "328\n",
      "328\n",
      "327\n",
      "330\n",
      "324\n",
      "322\n",
      "321\n",
      "322\n",
      "334\n",
      "309\n"
     ]
    },
    {
     "data": {
      "text/plain": [
       "[209,\n",
       " 545,\n",
       " 878,\n",
       " 1206,\n",
       " 1541,\n",
       " 1869,\n",
       " 2197,\n",
       " 2524,\n",
       " 2854,\n",
       " 3178,\n",
       " 3500,\n",
       " 3821,\n",
       " 4143,\n",
       " 4477,\n",
       " 4786]"
      ]
     },
     "execution_count": 66,
     "metadata": {},
     "output_type": "execute_result"
    },
    {
     "data": {
      "image/png": "[encoded data removed]",
      "text/plain": [
       "<Figure size 432x288 with 1 Axes>"
      ]
     },
     "metadata": {
      "needs_background": "light"
     },
     "output_type": "display_data"
    }
   ],
   "source": [
    "peak = [1 if x > 510 else 0 for x in two]\n",
    "#plt.plot(peak)\n",
    "\n",
    "counter = 0\n",
    "change = []\n",
    "indices = []\n",
    "index = 0\n",
    "for row in peak:\n",
    "    index = index + 1\n",
    "    counter = counter + 1\n",
    "    if (row == 1):\n",
    "        if (counter > 100):\n",
    "            print(counter)\n",
    "            counter=0\n",
    "    if (counter == 0):\n",
    "        change.append(1)\n",
    "        indices.append(index)\n",
    "    else:\n",
    "        change.append(0)\n",
    "        \n",
    "            \n",
    "np.sum(peak)\n",
    "\n",
    "\n",
    "plt.plot(change)\n",
    "indices"
   ]
  },
  {
   "cell_type": "markdown",
   "id": "bc6e0953",
   "metadata": {},
   "source": [
    "## Value Distribution"
   ]
  },
  {
   "cell_type": "code",
   "execution_count": null,
   "id": "fbb81a34",
   "metadata": {},
   "outputs": [],
   "source": [
    "ecg_data[187].value_counts()"
   ]
  },
  {
   "cell_type": "code",
   "execution_count": null,
   "id": "0a59f8ae",
   "metadata": {},
   "outputs": [],
   "source": [
    "percentage = [x/len(ecg_data) for x in ecg_data[187].value_counts().sort_index()]\n",
    "plt.rcParams[\"figure.figsize\"] = (10,10)\n",
    "fig = plt.pie(percentage, labels=['N','S','V','F','Q'], autopct='%1.1f%%', normalize=False)\n",
    "plt.title('Percentage per category')\n",
    "plt.show()"
   ]
  },
  {
   "cell_type": "markdown",
   "id": "13ff4c07",
   "metadata": {
    "slideshow": {
     "slide_type": "skip"
    }
   },
   "source": [
    "Zoals je kan zien, zijn de verschillende categorieën niet evenredig verdeeld. Om het model goed te kunnen trainen op alle categorieën, moeten we zo bij Data Preparation er voor zorgen dat elke categorie evenveel gerepresenteerd is in de data."
   ]
  },
  {
   "cell_type": "code",
   "execution_count": null,
   "id": "61a62203",
   "metadata": {
    "slideshow": {
     "slide_type": "skip"
    }
   },
   "outputs": [],
   "source": [
    "titles = ['N','S','V','F','Q']\n",
    "fig, ax = plt.subplots(3, 2, figsize=(18,10))\n",
    "plt.subplots_adjust(left=None, bottom=None, right=None, top=None, wspace=None, hspace=0.5)\n",
    "x_label = np.arange(0, 187)*8/1000\n",
    "x = 0\n",
    "y = 0\n",
    "for i in range(0,5):\n",
    "    if (x == 2):\n",
    "        y += 1\n",
    "        x = 0\n",
    "    current_ax = ax[y,x]\n",
    "    current_ax.plot(x_label,ecg_data[ecg_data[187] == i].iloc[0][:187])\n",
    "    current_ax.set_title(\"Een hartslag in categorie \" + titles[i])\n",
    "    current_ax.set_ylabel(\"Amplitude\", fontsize=12)\n",
    "    current_ax.set_xlabel(\"Tijd (s)\", fontsize=12)\n",
    "    x += 1\n",
    "fig.delaxes(ax[2,1])\n",
    "fig.suptitle('Een hartslag in elke categorie', fontsize=25)\n",
    "plt.show()"
   ]
  },
  {
   "cell_type": "code",
   "execution_count": null,
   "id": "248b9dfe",
   "metadata": {
    "slideshow": {
     "slide_type": "skip"
    }
   },
   "outputs": [],
   "source": [
    "plt.plot(x_label,ecg_data.mean()[:187])\n",
    "plt.title('Gemiddelde waardes voor elk punt')\n",
    "plt.xlabel('Tijd (s)')\n",
    "plt.ylabel('Amplitude')"
   ]
  },
  {
   "cell_type": "code",
   "execution_count": null,
   "id": "fb1cfd54",
   "metadata": {
    "slideshow": {
     "slide_type": "skip"
    }
   },
   "outputs": [],
   "source": [
    "fig, ax = plt.subplots(3, 2, figsize=(18,10))\n",
    "plt.subplots_adjust(left=None, bottom=None, right=None, top=None, wspace=None, hspace=0.5)\n",
    "x = 0\n",
    "y = 0\n",
    "for i in range(0,5):\n",
    "    if (x == 2):\n",
    "        y += 1\n",
    "        x = 0\n",
    "    current_ax = ax[y,x]\n",
    "    current_ax.plot(x_label,ecg_data[ecg_data[187] == i].mean()[:187])\n",
    "    current_ax.set_title(\"Gemiddelde in categorie \" + titles[i])\n",
    "    current_ax.set_ylabel(\"Amplitude\", fontsize=12)\n",
    "    current_ax.set_xlabel(\"Tijd (s)\", fontsize=12)\n",
    "    x += 1\n",
    "fig.delaxes(ax[2,1])\n",
    "fig.suptitle('Gemiddelde waardes in elke categorie', fontsize=25)\n",
    "plt.show()"
   ]
  },
  {
   "cell_type": "code",
   "execution_count": null,
   "id": "0d42d2d5",
   "metadata": {
    "slideshow": {
     "slide_type": "skip"
    }
   },
   "outputs": [],
   "source": [
    "plt.plot(ecg_data[:187].mean()[:187].pct_change())\n",
    "plt.title('% verschil van het gemiddelde')\n",
    "plt.xlabel('Tijd (s)')\n",
    "plt.ylabel('Verschil in %')"
   ]
  },
  {
   "cell_type": "code",
   "execution_count": null,
   "id": "cfde7725",
   "metadata": {
    "slideshow": {
     "slide_type": "skip"
    }
   },
   "outputs": [],
   "source": [
    "fig, ax = plt.subplots(3, 2, figsize=(18,10))\n",
    "plt.subplots_adjust(left=None, bottom=None, right=None, top=None, wspace=None, hspace=0.5)\n",
    "x = 0\n",
    "y = 0\n",
    "for i in range(0,5):\n",
    "    if (x == 2):\n",
    "        y += 1\n",
    "        x = 0\n",
    "    current_ax = ax[y,x]\n",
    "    current_ax.plot(x_label,ecg_data[ecg_data[187] == i].mean()[:187].pct_change())\n",
    "    current_ax.set_title(\"% verschil in \" + titles[i])\n",
    "    current_ax.set_ylabel(\"Amplitude\", fontsize=12)\n",
    "    current_ax.set_xlabel(\"Tijd (s)\", fontsize=12)\n",
    "    x += 1\n",
    "fig.delaxes(ax[2,1])\n",
    "fig.suptitle('% verschil van het gemiddelde in elke categorie', fontsize=25)\n",
    "plt.show()"
   ]
  },
  {
   "cell_type": "markdown",
   "id": "6597ddc5",
   "metadata": {
    "slideshow": {
     "slide_type": "skip"
    }
   },
   "source": [
    "Hieruit is op te merken dat in een slechtere categorie de waardes minder vlak zijn en meer uitschieten."
   ]
  },
  {
   "cell_type": "code",
   "execution_count": null,
   "id": "6306870a",
   "metadata": {
    "slideshow": {
     "slide_type": "skip"
    }
   },
   "outputs": [],
   "source": [
    "def plot_histogram(category,start,end,ax):\n",
    "    bins = end-start\n",
    "    #x_label = np.arange(start, end)*8/1000\n",
    "    \n",
    "    img=ecg_data[ecg_data[187]==category].values\n",
    "    img=img[:,start:end]\n",
    "    y=img.flatten()\n",
    "    \n",
    "    x=np.arange(start,end)\n",
    "    for i in range(img.shape[0]-1):\n",
    "        row=np.arange(start, end)\n",
    "        x=np.concatenate((x, row), axis=None)\n",
    "    ax.hist2d(x, y, bins=(bins,bins), cmap=plt.cm.jet)\n",
    "    ax.set_title('Category ' + str(category))\n",
    "    ax.set_ylabel(\"Amplitude\", fontsize=15)\n",
    "    ax.set_xlabel(\"Kolom\", fontsize=15)\n",
    "    "
   ]
  },
  {
   "cell_type": "code",
   "execution_count": null,
   "id": "bfbc20c9",
   "metadata": {
    "slideshow": {
     "slide_type": "slide"
    }
   },
   "outputs": [],
   "source": [
    "fig, ax = plt.subplots(3, 2, figsize=(18,20))\n",
    "plt.subplots_adjust(left=None, bottom=None, right=None, top=None, wspace=None, hspace=0.5)\n",
    "x = 0\n",
    "y = 0\n",
    "\n",
    "params = [5,70,5,70,5,70,5,70,5,70]\n",
    "for i in range(0,5):\n",
    "    if (x == 2):\n",
    "        y += 1\n",
    "        x = 0\n",
    "    plot_histogram(i,params[i*2],params[i*2+1],ax[y,x])\n",
    "    #.plot(ecg1_train[ecg1_train[187] == i].iloc[2][:187])\n",
    "    #ax[y,x].set_title(\"Waarde histogram van categorie \" + titles[i])\n",
    "    x += 1\n",
    "fig.delaxes(ax[2,1])\n",
    "fig.suptitle('Value Occurrence per Category', fontsize=25)\n",
    "plt.show()"
   ]
  },
  {
   "cell_type": "markdown",
   "id": "8eb1b110",
   "metadata": {
    "slideshow": {
     "slide_type": "skip"
    }
   },
   "source": [
    "# Data Preparation"
   ]
  },
  {
   "cell_type": "markdown",
   "id": "d74ddc47",
   "metadata": {
    "slideshow": {
     "slide_type": "skip"
    }
   },
   "source": [
    "Hierbij gaan we er eerst voor zorgen dat de data bestaat uit evenveel rijen van elke categorie. De eerste manier is door te resamplen."
   ]
  },
  {
   "cell_type": "code",
   "execution_count": null,
   "id": "3219d940",
   "metadata": {
    "slideshow": {
     "slide_type": "skip"
    }
   },
   "outputs": [],
   "source": [
    "#ecg_data = pd.get_dummies(ecg_data, columns=[187])"
   ]
  },
  {
   "cell_type": "code",
   "execution_count": null,
   "id": "db694820",
   "metadata": {
    "scrolled": true,
    "slideshow": {
     "slide_type": "skip"
    }
   },
   "outputs": [],
   "source": [
    "#ecg_data = ecg_data.rename({'187_0.0':'N','187_1.0':'S','187_2.0':'V','187_3.0':'F','187_4.0':'Q'}, axis=1)"
   ]
  },
  {
   "cell_type": "markdown",
   "id": "dc7ae851",
   "metadata": {},
   "source": [
    "### Manier 1 Upsampling"
   ]
  },
  {
   "cell_type": "code",
   "execution_count": null,
   "id": "77d23db2",
   "metadata": {
    "slideshow": {
     "slide_type": "skip"
    }
   },
   "outputs": [],
   "source": [
    "cat_1_data = ecg_data[ecg_data[187] == 0]\n",
    "cat_2_data = ecg_data[ecg_data[187] == 1]\n",
    "cat_3_data = ecg_data[ecg_data[187] == 2]\n",
    "cat_4_data = ecg_data[ecg_data[187] == 3]\n",
    "cat_5_data = ecg_data[ecg_data[187] == 4]"
   ]
  },
  {
   "cell_type": "code",
   "execution_count": null,
   "id": "e7865497",
   "metadata": {
    "slideshow": {
     "slide_type": "skip"
    }
   },
   "outputs": [],
   "source": [
    "from sklearn.utils import resample\n",
    "\n",
    "C1 = cat_1_data.sample(n=20000,random_state=42)\n",
    "C2 = resample(cat_2_data,replace=True,n_samples=20000,random_state=43)\n",
    "C3 = resample(cat_3_data,replace=True,n_samples=20000,random_state=44)\n",
    "C4 = resample(cat_4_data,replace=True,n_samples=20000,random_state=45)\n",
    "C5 = resample(cat_5_data,replace=True,n_samples=20000,random_state=46)"
   ]
  },
  {
   "cell_type": "code",
   "execution_count": null,
   "id": "d2437fdd",
   "metadata": {
    "slideshow": {
     "slide_type": "skip"
    }
   },
   "outputs": [],
   "source": [
    "ecg_data_u = pd.concat([C1,C2,C3,C4,C5])\n",
    "ecg_data_u[187].value_counts()"
   ]
  },
  {
   "cell_type": "code",
   "execution_count": null,
   "id": "6bdd1160",
   "metadata": {
    "slideshow": {
     "slide_type": "skip"
    }
   },
   "outputs": [],
   "source": [
    "values = ecg_data_u.values\n",
    "ecg_train_u = values[:, :-1]\n",
    "ecg_label_u = values[:, -1].astype(int)\n",
    "\n",
    "ecg_train_u = np.expand_dims(ecg_train_u, 2)\n",
    "\n",
    "ohe = OneHotEncoder()\n",
    "ecg_label_u = ohe.fit_transform(ecg_label_u.reshape(-1,1)).todense()\n",
    "\n",
    "data_train_u, data_test_u, label_train_u, label_test_u = train_test_split(ecg_train_u, ecg_label_u, random_state=42, test_size=0.3)\n",
    "\n",
    "NN_data_train_u, NN_val_data_train_u, NN_label_train_u, NN_val_label_train_u = train_test_split(data_train_u, label_train_u, random_state=42, test_size=0.5)"
   ]
  },
  {
   "cell_type": "markdown",
   "id": "bcc0f668",
   "metadata": {},
   "source": [
    "### Manier 2 Gelijke verdeling in test data"
   ]
  },
  {
   "cell_type": "code",
   "execution_count": null,
   "id": "e9ff6186",
   "metadata": {},
   "outputs": [],
   "source": [
    "C1 = cat_1_data.sample(n=300,random_state=42)\n",
    "C2 = cat_2_data.sample(n=300,random_state=43)\n",
    "C3 = cat_3_data.sample(n=300,random_state=44)\n",
    "C4 = cat_4_data.sample(n=300,random_state=45)\n",
    "C5 = cat_5_data.sample(n=300,random_state=46)\n",
    "data_test_t = pd.concat([C1,C2,C3,C4,C5])\n",
    "data_train_t = pd.concat([ecg_data, data_test_t, data_test_t]).drop_duplicates(keep=False)\n",
    "\n",
    "\n",
    "\n",
    "values = data_test_t.values\n",
    "data_test_t = values[:, :-1]\n",
    "label_test_t = values[:, -1].astype(int)\n",
    "\n",
    "values = data_train_t.values\n",
    "data_train_t = values[:, :-1]\n",
    "label_train_t = values[:, -1].astype(int)\n",
    "\n",
    "data_test_t = np.expand_dims(data_test_t, 2)\n",
    "data_train_t = np.expand_dims(data_train_t, 2)\n",
    "\n",
    "ohe = OneHotEncoder()\n",
    "label_test_t = ohe.fit_transform(label_test_t.reshape(-1,1)).todense()\n",
    "label_train_t = ohe.transform(label_train_t.reshape(-1,1)).todense()\n",
    "\n",
    "NN_data_train_t, NN_val_data_train_t, NN_label_train_t, NN_val_label_train_t = train_test_split(data_train_t, label_train_t, random_state=42, test_size=0.5)"
   ]
  },
  {
   "cell_type": "markdown",
   "id": "1214051b",
   "metadata": {},
   "source": [
    "### Manier 3 Downsampling"
   ]
  },
  {
   "cell_type": "code",
   "execution_count": null,
   "id": "fbda4364",
   "metadata": {
    "slideshow": {
     "slide_type": "skip"
    }
   },
   "outputs": [],
   "source": [
    "C1 = cat_1_data.sample(n=800,random_state=42)\n",
    "C2 = cat_2_data.sample(n=800,random_state=43)\n",
    "C3 = cat_3_data.sample(n=800,random_state=44)\n",
    "C4 = cat_4_data.sample(n=800,random_state=45)\n",
    "C5 = cat_5_data.sample(n=800,random_state=46)"
   ]
  },
  {
   "cell_type": "code",
   "execution_count": null,
   "id": "4e89574e",
   "metadata": {
    "slideshow": {
     "slide_type": "skip"
    }
   },
   "outputs": [],
   "source": [
    "ecg_data_d = pd.concat([C1,C2,C3,C4,C5])\n",
    "ecg_data_d[187].value_counts()"
   ]
  },
  {
   "cell_type": "code",
   "execution_count": null,
   "id": "993b13a4",
   "metadata": {
    "slideshow": {
     "slide_type": "skip"
    }
   },
   "outputs": [],
   "source": [
    "values = ecg_data_d.values\n",
    "ecg_train_d = values[:, :-1]\n",
    "ecg_label_d = values[:, -1].astype(int)\n",
    "\n",
    "ecg_train_d = np.expand_dims(ecg_train_d, 2)\n",
    "\n",
    "ohe = OneHotEncoder()\n",
    "ecg_label_d = ohe.fit_transform(ecg_label_d.reshape(-1,1)).todense()\n",
    "\n",
    "data_train_d, data_test_d, label_train_d, label_test_d = train_test_split(ecg_train_d, ecg_label_d, random_state=42, test_size=0.3)\n",
    "\n",
    "NN_data_train_d, NN_val_data_train_d, NN_label_train_d, NN_val_label_train_d = train_test_split(data_train_d, label_train_d, random_state=42, test_size=0.5)"
   ]
  },
  {
   "cell_type": "markdown",
   "id": "ddfa0dd1",
   "metadata": {},
   "source": [
    "### Normale Data"
   ]
  },
  {
   "cell_type": "code",
   "execution_count": null,
   "id": "47cd2c60",
   "metadata": {},
   "outputs": [],
   "source": [
    "values = ecg_data.values\n",
    "data_n = values[:, :-1]\n",
    "label_n = values[:, -1].astype(int)\n",
    "\n",
    "data_n = np.expand_dims(data_n, 2)\n",
    "\n",
    "ohe = OneHotEncoder()\n",
    "label_n = ohe.fit_transform(label_n.reshape(-1,1)).todense()\n",
    "\n",
    "data_train_n, data_test_n, label_train_n, label_test_n = train_test_split(data_n, label_n, random_state=42, test_size=0.3)\n",
    "NN_data_train_n, NN_val_data_train_n, NN_label_train_n, NN_val_label_train_n = train_test_split(data_train_n, label_train_n, random_state=42, test_size=0.5)"
   ]
  },
  {
   "cell_type": "code",
   "execution_count": null,
   "id": "30efc11d",
   "metadata": {},
   "outputs": [],
   "source": [
    "len(ecg_data)"
   ]
  },
  {
   "cell_type": "markdown",
   "id": "1c7ded97",
   "metadata": {
    "slideshow": {
     "slide_type": "skip"
    }
   },
   "source": [
    "# Modeling"
   ]
  },
  {
   "cell_type": "code",
   "execution_count": 93,
   "id": "a7368946",
   "metadata": {
    "slideshow": {
     "slide_type": "skip"
    }
   },
   "outputs": [],
   "source": [
    "def GetModel(data_shape):\n",
    "    _, feature, depth = data_shape.shape\n",
    "    \n",
    "    inp = Input(shape=(feature, depth))\n",
    "    first = Conv1D(32, 5)(inp)\n",
    "\n",
    "    layers = Conv1D(32, 5, padding='same')(first)\n",
    "    layers = Activation(\"relu\")(layers)\n",
    "    layers = Conv1D(32, 5, padding='same')(layers)\n",
    "    layers = Add()([layers, first])\n",
    "    layers = Activation(\"relu\")(layers)\n",
    "    layers = MaxPooling1D(5, 2)(layers)\n",
    "\n",
    "    layers = Flatten()(layers)\n",
    "\n",
    "    layers = Dense(32)(layers)\n",
    "    layers = Activation(\"relu\")(layers)\n",
    "    layers = Dense(32)(layers)\n",
    "    layers = Dense(5)(layers)\n",
    "    layers = Softmax()(layers)\n",
    "\n",
    "    model = Model(inputs=inp, outputs=layers)\n",
    "    return model\n",
    "\n",
    "def PlotHistory(history):\n",
    "    history_dict = history.history\n",
    "    loss_values = history_dict[\"loss\"]\n",
    "    val_loss_values = history_dict[\"val_loss\"]\n",
    "    epochs = range(1, len(loss_values) + 1)\n",
    "    loss_diff = np.abs(np.array(loss_values) - np.array(val_loss_values))\n",
    "    plt.plot(epochs, loss_values, \"bo\", label=\"Training loss\")\n",
    "    plt.plot(epochs, val_loss_values, \"b\", label=\"Validation loss\")\n",
    "    plt.plot(epochs, loss_diff, \"r\", label=\"Difference\")\n",
    "    plt.title(\"Training and validation loss\")\n",
    "    plt.xlabel(\"Epochs\")\n",
    "    plt.ylabel(\"Loss\")\n",
    "    plt.legend()\n",
    "    plt.show()\n",
    "    plt.clf()\n",
    "\n",
    "    acc = history_dict[\"accuracy\"]\n",
    "    val_acc = history_dict[\"val_accuracy\"]\n",
    "    acc_diff = np.abs(np.array(acc) - np.array(val_acc))\n",
    "    plt.plot(epochs, acc, \"bo\", label=\"Training acc\")\n",
    "    plt.plot(epochs, val_acc, \"b\", label=\"Validation acc\")\n",
    "    plt.plot(epochs, acc_diff, \"r\", label=\"Difference\")\n",
    "    plt.title(\"Training and validation accuracy\")\n",
    "    plt.xlabel(\"Epochs\")\n",
    "    plt.ylabel(\"Accuracy\")\n",
    "    plt.legend()\n",
    "    plt.show()"
   ]
  },
  {
   "cell_type": "code",
   "execution_count": 123,
   "id": "e8d68c28",
   "metadata": {
    "slideshow": {
     "slide_type": "skip"
    }
   },
   "outputs": [],
   "source": [
    "from sklearn.metrics import accuracy_score\n",
    "from sklearn.metrics import confusion_matrix\n",
    "from sklearn.metrics import ConfusionMatrixDisplay\n",
    "\n",
    "def EvaluateModel(model, data_train, data_test, label_train, label_test):\n",
    "    prediction = model.predict(data_test)\n",
    "    prediction = prediction > 0.5\n",
    "    conf_mat = confusion_matrix(label_test, prediction)\n",
    "    falsePositive = conf_mat[1][0]\n",
    "\n",
    "    print(conf_mat)\n",
    "    print(str(falsePositive) + \" people of the \" + str(conf_mat[1].sum()) + \" that have a CVD didnt get diagnosed with it\")\n",
    "    print(\"That is \" + str(round(falsePositive/conf_mat.sum()*100,2)) + \"% of all patients that died because of no treatment!\")\n",
    "    pred = model.predict(data_train)>0.5\n",
    "    pred = [bool(x) for x in pred]\n",
    "    acc_train = round(((pred==label_train).sum())/(len(label_train))*100, 4)\n",
    "    print(\"Accuracy van de training data: \" + str(acc_train) + \"%\")\n",
    "    pred = model.predict(data_test)>0.5\n",
    "    pred = [bool(x) for x in pred]\n",
    "    acc_test = round(((pred==label_test).sum())/(len(label_test))*100, 4)\n",
    "    print(\"Accuracy van de test data: \" + str(acc_test) + \"%\")\n",
    "    print(\"Verschil: \" + str(round(acc_test-acc_train,2)) + \"%\")\n",
    "    \n",
    "def plot_confusion_matrix(cm, classes,\n",
    "                          normalize=False,\n",
    "                          title='Confusion matrix',\n",
    "                          cmap=plt.cm.Blues):\n",
    "    \"\"\"\n",
    "    This function prints and plots the confusion matrix.\n",
    "    Normalization can be applied by setting `normalize=True`.\n",
    "    \"\"\"\n",
    "    if normalize:\n",
    "        cm = cm.astype('float') / cm.sum(axis=1)[:, np.newaxis]\n",
    "        print(\"Normalized confusion matrix\")\n",
    "    else:\n",
    "        print('Confusion matrix, without normalization')\n",
    "\n",
    "    plt.imshow(cm, interpolation='nearest', cmap=cmap)\n",
    "    plt.title(title)\n",
    "    plt.colorbar()\n",
    "    tick_marks = np.arange(len(classes))\n",
    "    plt.xticks(tick_marks, classes, rotation=45)\n",
    "    plt.yticks(tick_marks, classes)\n",
    "\n",
    "    fmt = '.2f' if normalize else 'd'\n",
    "    thresh = cm.max() / 2.\n",
    "    for i, j in itertools.product(range(cm.shape[0]), range(cm.shape[1])):\n",
    "        plt.text(j, i, format(cm[i, j], fmt),\n",
    "                 horizontalalignment=\"center\",\n",
    "                 color=\"white\" if cm[i, j] > thresh else \"black\")\n",
    "\n",
    "    plt.tight_layout()\n",
    "    plt.ylabel('True label')\n",
    "    plt.xlabel('Predicted label')\n",
    "    \n",
    "def GenerateAndTrainModel(data_train, label_train, val_data_train, val_label_train, label_test, data_test, epochs):\n",
    "    model = GetModel(data_train)\n",
    "    model.compile(loss='categorical_crossentropy', optimizer='adam', metrics=['accuracy'])\n",
    "    history = model.fit(data_train, label_train, \n",
    "                    epochs=epochs, \n",
    "                    batch_size=500,verbose=2, validation_data=(val_data_train,val_label_train))\n",
    "    PlotHistory(history)\n",
    "    prediction = model.predict(data_train)\n",
    "    cnf_matrix = confusion_matrix(label_train.argmax(axis=1), prediction.argmax(axis=1))\n",
    "    \n",
    "    total = cnf_matrix[0,0] + cnf_matrix[1,1] + cnf_matrix[2,2] + cnf_matrix[3,3] + cnf_matrix[4,4] \n",
    "    percent = round(total / len(label_train),3)\n",
    "    print(str(percent) + \"% is correct with the train data\")\n",
    "    print(\"Counts: correct = \" + str(total) + \" total = \" + str(len(label_train)))\n",
    "    \n",
    "    prediction = model.predict(data_test)\n",
    "    cnf_matrix = confusion_matrix(label_test.argmax(axis=1), prediction.argmax(axis=1))\n",
    "    \n",
    "    total = cnf_matrix[0,0] + cnf_matrix[1,1] + cnf_matrix[2,2] + cnf_matrix[3,3] + cnf_matrix[4,4] \n",
    "    percent = round(total / len(label_test),3)\n",
    "    print(str(percent) + \"% is correct with the test data\")\n",
    "    print(\"Counts: correct = \" + str(total) + \" total = \" + str(len(label_test)))\n",
    "    \n",
    "    np.set_printoptions(precision=2)\n",
    "\n",
    "    plt.figure(figsize=(10, 10))\n",
    "    plot_confusion_matrix(cnf_matrix, normalize=False, classes=['N', 'S', 'V', 'F', 'Q'],\n",
    "                          title='Confusion matrix, with normalization')\n",
    "    plt.show()\n"
   ]
  },
  {
   "cell_type": "code",
   "execution_count": 124,
   "id": "279a5850",
   "metadata": {},
   "outputs": [
    {
     "name": "stdout",
     "output_type": "stream",
     "text": [
      "Epoch 1/10\n",
      "3/3 - 1s - loss: 1.5879 - accuracy: 0.2307 - val_loss: 1.5051 - val_accuracy: 0.3864 - 627ms/epoch - 209ms/step\n",
      "Epoch 2/10\n",
      "3/3 - 0s - loss: 1.4621 - accuracy: 0.4329 - val_loss: 1.3496 - val_accuracy: 0.5943 - 225ms/epoch - 75ms/step\n",
      "Epoch 3/10\n",
      "3/3 - 0s - loss: 1.2928 - accuracy: 0.6000 - val_loss: 1.1655 - val_accuracy: 0.6107 - 259ms/epoch - 86ms/step\n",
      "Epoch 4/10\n",
      "3/3 - 0s - loss: 1.1073 - accuracy: 0.6221 - val_loss: 1.0101 - val_accuracy: 0.6436 - 257ms/epoch - 86ms/step\n",
      "Epoch 5/10\n",
      "3/3 - 0s - loss: 0.9812 - accuracy: 0.6314 - val_loss: 0.9418 - val_accuracy: 0.6536 - 224ms/epoch - 75ms/step\n",
      "Epoch 6/10\n",
      "3/3 - 0s - loss: 0.9122 - accuracy: 0.6557 - val_loss: 0.9206 - val_accuracy: 0.6714 - 229ms/epoch - 76ms/step\n",
      "Epoch 7/10\n",
      "3/3 - 0s - loss: 0.8722 - accuracy: 0.6800 - val_loss: 0.8611 - val_accuracy: 0.6843 - 235ms/epoch - 78ms/step\n",
      "Epoch 8/10\n",
      "3/3 - 0s - loss: 0.8173 - accuracy: 0.6979 - val_loss: 0.8344 - val_accuracy: 0.7200 - 230ms/epoch - 77ms/step\n",
      "Epoch 9/10\n",
      "3/3 - 0s - loss: 0.7825 - accuracy: 0.7143 - val_loss: 0.7803 - val_accuracy: 0.7150 - 220ms/epoch - 73ms/step\n",
      "Epoch 10/10\n",
      "3/3 - 0s - loss: 0.7414 - accuracy: 0.7171 - val_loss: 0.7504 - val_accuracy: 0.7464 - 228ms/epoch - 76ms/step\n"
     ]
    },
    {
     "data": {
      "image/png": "[encoded data removed]",
      "text/plain": [
       "<Figure size 432x288 with 1 Axes>"
      ]
     },
     "metadata": {
      "needs_background": "light"
     },
     "output_type": "display_data"
    },
    {
     "data": {
      "image/png": "[encoded data removed]",
      "text/plain": [
       "<Figure size 432x288 with 1 Axes>"
      ]
     },
     "metadata": {
      "needs_background": "light"
     },
     "output_type": "display_data"
    },
    {
     "name": "stdout",
     "output_type": "stream",
     "text": [
      "0.752% is correct with the train data\n",
      "Counts: correct = 1053 total = 1400\n",
      "0.712% is correct with the test data\n",
      "Counts: correct = 855 total = 1200\n",
      "Confusion matrix, without normalization\n"
     ]
    },
    {
     "data": {
      "image/png": "[encoded data removed]",
      "text/plain": [
       "<Figure size 720x720 with 2 Axes>"
      ]
     },
     "metadata": {
      "needs_background": "light"
     },
     "output_type": "display_data"
    }
   ],
   "source": [
    "GenerateAndTrainModel(NN_data_train_d,NN_label_train_d,NN_val_data_train_d,NN_val_label_train_d,label_test_d,data_test_d,10)"
   ]
  },
  {
   "cell_type": "code",
   "execution_count": 125,
   "id": "ea349f48",
   "metadata": {
    "scrolled": false
   },
   "outputs": [
    {
     "name": "stdout",
     "output_type": "stream",
     "text": [
      "Epoch 1/15\n",
      "108/108 - 9s - loss: 0.4437 - accuracy: 0.8819 - val_loss: 0.2483 - val_accuracy: 0.9274 - 9s/epoch - 84ms/step\n",
      "Epoch 2/15\n",
      "108/108 - 9s - loss: 0.2134 - accuracy: 0.9383 - val_loss: 0.1868 - val_accuracy: 0.9474 - 9s/epoch - 83ms/step\n",
      "Epoch 3/15\n",
      "108/108 - 9s - loss: 0.1693 - accuracy: 0.9516 - val_loss: 0.1608 - val_accuracy: 0.9538 - 9s/epoch - 84ms/step\n",
      "Epoch 4/15\n",
      "108/108 - 9s - loss: 0.1385 - accuracy: 0.9607 - val_loss: 0.1316 - val_accuracy: 0.9645 - 9s/epoch - 80ms/step\n",
      "Epoch 5/15\n",
      "108/108 - 8s - loss: 0.1156 - accuracy: 0.9671 - val_loss: 0.1090 - val_accuracy: 0.9708 - 8s/epoch - 77ms/step\n",
      "Epoch 6/15\n",
      "108/108 - 9s - loss: 0.1000 - accuracy: 0.9721 - val_loss: 0.1041 - val_accuracy: 0.9706 - 9s/epoch - 79ms/step\n",
      "Epoch 7/15\n",
      "108/108 - 9s - loss: 0.0922 - accuracy: 0.9744 - val_loss: 0.0912 - val_accuracy: 0.9751 - 9s/epoch - 80ms/step\n",
      "Epoch 8/15\n",
      "108/108 - 8s - loss: 0.0839 - accuracy: 0.9765 - val_loss: 0.0894 - val_accuracy: 0.9745 - 8s/epoch - 78ms/step\n",
      "Epoch 9/15\n",
      "108/108 - 8s - loss: 0.0793 - accuracy: 0.9777 - val_loss: 0.0869 - val_accuracy: 0.9765 - 8s/epoch - 77ms/step\n",
      "Epoch 10/15\n",
      "108/108 - 8s - loss: 0.0751 - accuracy: 0.9788 - val_loss: 0.0865 - val_accuracy: 0.9766 - 8s/epoch - 77ms/step\n",
      "Epoch 11/15\n",
      "108/108 - 8s - loss: 0.0698 - accuracy: 0.9804 - val_loss: 0.0960 - val_accuracy: 0.9737 - 8s/epoch - 77ms/step\n",
      "Epoch 12/15\n",
      "108/108 - 8s - loss: 0.0675 - accuracy: 0.9812 - val_loss: 0.0829 - val_accuracy: 0.9777 - 8s/epoch - 77ms/step\n",
      "Epoch 13/15\n",
      "108/108 - 8s - loss: 0.0610 - accuracy: 0.9822 - val_loss: 0.0778 - val_accuracy: 0.9788 - 8s/epoch - 77ms/step\n",
      "Epoch 14/15\n",
      "108/108 - 8s - loss: 0.0591 - accuracy: 0.9833 - val_loss: 0.0739 - val_accuracy: 0.9797 - 8s/epoch - 77ms/step\n",
      "Epoch 15/15\n",
      "108/108 - 8s - loss: 0.0554 - accuracy: 0.9836 - val_loss: 0.0693 - val_accuracy: 0.9811 - 8s/epoch - 77ms/step\n"
     ]
    },
    {
     "data": {
      "image/png": "[encoded data removed]",
      "text/plain": [
       "<Figure size 432x288 with 1 Axes>"
      ]
     },
     "metadata": {
      "needs_background": "light"
     },
     "output_type": "display_data"
    },
    {
     "data": {
      "image/png": "[encoded data removed]",
      "text/plain": [
       "<Figure size 432x288 with 1 Axes>"
      ]
     },
     "metadata": {
      "needs_background": "light"
     },
     "output_type": "display_data"
    },
    {
     "name": "stdout",
     "output_type": "stream",
     "text": [
      "0.987% is correct with the train data\n",
      "Counts: correct = 53246 total = 53973\n",
      "0.837% is correct with the test data\n",
      "Counts: correct = 1255 total = 1500\n",
      "Confusion matrix, without normalization\n"
     ]
    },
    {
     "data": {
      "image/png": "[encoded data removed]",
      "text/plain": [
       "<Figure size 720x720 with 2 Axes>"
      ]
     },
     "metadata": {
      "needs_background": "light"
     },
     "output_type": "display_data"
    }
   ],
   "source": [
    "GenerateAndTrainModel(NN_data_train_t,NN_label_train_t,NN_val_data_train_t,NN_val_label_train_t,label_test_t,data_test_t,15)"
   ]
  },
  {
   "cell_type": "code",
   "execution_count": 128,
   "id": "7c08982d",
   "metadata": {
    "scrolled": false
   },
   "outputs": [
    {
     "name": "stdout",
     "output_type": "stream",
     "text": [
      "Epoch 1/13\n",
      "70/70 - 6s - loss: 0.8811 - accuracy: 0.6706 - val_loss: 0.5766 - val_accuracy: 0.7944 - 6s/epoch - 83ms/step\n",
      "Epoch 2/13\n",
      "70/70 - 5s - loss: 0.4628 - accuracy: 0.8357 - val_loss: 0.3994 - val_accuracy: 0.8578 - 5s/epoch - 76ms/step\n",
      "Epoch 3/13\n",
      "70/70 - 5s - loss: 0.3424 - accuracy: 0.8809 - val_loss: 0.3092 - val_accuracy: 0.8896 - 5s/epoch - 77ms/step\n",
      "Epoch 4/13\n",
      "70/70 - 5s - loss: 0.2761 - accuracy: 0.9030 - val_loss: 0.2586 - val_accuracy: 0.9072 - 5s/epoch - 77ms/step\n",
      "Epoch 5/13\n",
      "70/70 - 5s - loss: 0.2341 - accuracy: 0.9178 - val_loss: 0.2561 - val_accuracy: 0.9103 - 5s/epoch - 76ms/step\n",
      "Epoch 6/13\n",
      "70/70 - 5s - loss: 0.2080 - accuracy: 0.9273 - val_loss: 0.2068 - val_accuracy: 0.9259 - 5s/epoch - 76ms/step\n",
      "Epoch 7/13\n",
      "70/70 - 5s - loss: 0.1886 - accuracy: 0.9348 - val_loss: 0.1922 - val_accuracy: 0.9317 - 5s/epoch - 76ms/step\n",
      "Epoch 8/13\n",
      "70/70 - 5s - loss: 0.1674 - accuracy: 0.9416 - val_loss: 0.1728 - val_accuracy: 0.9407 - 5s/epoch - 77ms/step\n",
      "Epoch 9/13\n",
      "70/70 - 5s - loss: 0.1519 - accuracy: 0.9477 - val_loss: 0.1624 - val_accuracy: 0.9431 - 5s/epoch - 76ms/step\n",
      "Epoch 10/13\n",
      "70/70 - 5s - loss: 0.1399 - accuracy: 0.9515 - val_loss: 0.1579 - val_accuracy: 0.9447 - 5s/epoch - 76ms/step\n",
      "Epoch 11/13\n",
      "70/70 - 5s - loss: 0.1252 - accuracy: 0.9567 - val_loss: 0.1429 - val_accuracy: 0.9498 - 5s/epoch - 76ms/step\n",
      "Epoch 12/13\n",
      "70/70 - 5s - loss: 0.1128 - accuracy: 0.9615 - val_loss: 0.1448 - val_accuracy: 0.9520 - 5s/epoch - 76ms/step\n",
      "Epoch 13/13\n",
      "70/70 - 5s - loss: 0.1099 - accuracy: 0.9618 - val_loss: 0.1305 - val_accuracy: 0.9559 - 5s/epoch - 76ms/step\n"
     ]
    },
    {
     "data": {
      "image/png": "[encoded data removed]",
      "text/plain": [
       "<Figure size 432x288 with 1 Axes>"
      ]
     },
     "metadata": {
      "needs_background": "light"
     },
     "output_type": "display_data"
    },
    {
     "data": {
      "image/png": "[encoded data removed]",
      "text/plain": [
       "<Figure size 432x288 with 1 Axes>"
      ]
     },
     "metadata": {
      "needs_background": "light"
     },
     "output_type": "display_data"
    },
    {
     "name": "stdout",
     "output_type": "stream",
     "text": [
      "0.969% is correct with the train data\n",
      "Counts: correct = 33920 total = 35000\n",
      "0.957% is correct with the test data\n",
      "Counts: correct = 28697 total = 30000\n",
      "Confusion matrix, without normalization\n"
     ]
    },
    {
     "data": {
      "image/png": "[encoded data removed]",
      "text/plain": [
       "<Figure size 720x720 with 2 Axes>"
      ]
     },
     "metadata": {
      "needs_background": "light"
     },
     "output_type": "display_data"
    }
   ],
   "source": [
    "GenerateAndTrainModel(NN_data_train_u,NN_label_train_u,NN_val_data_train_u,NN_val_label_train_u,label_test_u,data_test_u,13)"
   ]
  },
  {
   "cell_type": "code",
   "execution_count": 102,
   "id": "b9c6c0ea",
   "metadata": {},
   "outputs": [],
   "source": [
    "#model.save('ECGModel_95%_upsample.h5')"
   ]
  },
  {
   "cell_type": "code",
   "execution_count": 129,
   "id": "f6497cb4",
   "metadata": {},
   "outputs": [
    {
     "data": {
      "text/plain": [
       "(1200, 5)"
      ]
     },
     "execution_count": 129,
     "metadata": {},
     "output_type": "execute_result"
    }
   ],
   "source": [
    "label_test.shape"
   ]
  },
  {
   "cell_type": "code",
   "execution_count": 130,
   "id": "384a1131",
   "metadata": {},
   "outputs": [
    {
     "data": {
      "text/plain": [
       "(1200, 187, 1)"
      ]
     },
     "execution_count": 130,
     "metadata": {},
     "output_type": "execute_result"
    }
   ],
   "source": [
    "data_test.shape"
   ]
  },
  {
   "cell_type": "code",
   "execution_count": null,
   "id": "3b823d2a",
   "metadata": {},
   "outputs": [],
   "source": []
  }
 ],
 "metadata": {
  "celltoolbar": "Diavoorstelling",
  "kernelspec": {
   "display_name": "Python 3 (ipykernel)",
   "language": "python",
   "name": "python3"
  },
  "language_info": {
   "codemirror_mode": {
    "name": "ipython",
    "version": 3
   },
   "file_extension": ".py",
   "mimetype": "text/x-python",
   "name": "python",
   "nbconvert_exporter": "python",
   "pygments_lexer": "ipython3",
   "version": "3.9.7"
  }
 },
 "nbformat": 4,
 "nbformat_minor": 5
}
