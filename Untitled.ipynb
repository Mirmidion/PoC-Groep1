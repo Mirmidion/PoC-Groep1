{
 "cells": [
  {
   "cell_type": "markdown",
   "id": "e5d8405d-c508-40f0-aaf9-343914d591f5",
   "metadata": {
    "slideshow": {
     "slide_type": "slide"
    },
    "tags": []
   },
   "source": [
    "# Business Understanding\n",
    "\n",
    "## Wie (de opdrachtgever)? \n",
    "\n",
    "Appbakkers (Corné & Guido) is een bedrijf die (mobiele) applicaties ontwikkeld.  "
   ]
  },
  {
   "cell_type": "markdown",
   "id": "f96bb855",
   "metadata": {
    "slideshow": {
     "slide_type": "subslide"
    }
   },
   "source": [
    "## Wat (de opdracht)? \n",
    "\n",
    "Bij opname van een patiënt wordt er een elektrocardiogram (ECG) gemaakt. Hierbij worden alle elektrische impulsen in het hart geregistreerd, waardoor kan worden afgeleid welke gebieden van het hart naar behoren functioneren.  \n",
    "\n",
    "Het maken van een ECG kost tijd en geld, en het zou mooi zijn om het maken van een ECG te voorkomen voor mensen die uiteindelijk niets mankeren. Dit voorkomen doen we met de risicoformulieren die de patient van te voren invult. Hierbij is ook van belang dat we zoveel mogelijk de false negative uitkomsten zo laag houden, omdat we mensen die uiteindelijk wel een CVD hebben, niet willen afwijzen."
   ]
  },
  {
   "cell_type": "markdown",
   "id": "af2ab9af",
   "metadata": {
    "slideshow": {
     "slide_type": "subslide"
    }
   },
   "source": [
    "## Wanneer (tijdsframe)? \n",
    "\n",
    "Deze opdracht voeren we uit vanaf 13 april ’22. Op deze dag hebben we de kennismaking gehad met onze opdrachtgever. Hierin hebben we de opdracht besproken en een aantal afspraken gemaakt. De einddatum van de opdracht zal zijn op 3 juni ’22. "
   ]
  },
  {
   "cell_type": "markdown",
   "id": "818e7b1d",
   "metadata": {
    "slideshow": {
     "slide_type": "subslide"
    }
   },
   "source": [
    "## Waarom (doel)? \n",
    "\n",
    "Het doel is om te achterhalen of hartslag een goede voorspeller kan zijn van de calciumscore. \n",
    "\n",
    "Als het model gemaakt is om dit te voorspellen kan deze verbeterd/uitgebreid worden met de resultaten en de calciumscore uitkomsten of de aanwezigheid van bradycardie/tachycardie/normale hartslag (en meer specifiek het aantal hartslagen per minuut) de calciumscore kan voorspellen.  "
   ]
  },
  {
   "cell_type": "markdown",
   "id": "a30e08c9",
   "metadata": {
    "slideshow": {
     "slide_type": "subslide"
    }
   },
   "source": [
    "## Wat (wat gaan we gebruiken)? \n",
    "\n",
    "Door middel van Jupyter notebooks gaan wij het model ontwikkelen.  \n",
    "ECG viewer om ECG´s bestanden door te lezen. "
   ]
  },
  {
   "cell_type": "markdown",
   "id": "14e28c75-6a72-4de5-a74e-4d2eb7b89fdb",
   "metadata": {
    "slideshow": {
     "slide_type": "slide"
    }
   },
   "source": [
    "# Data Understanding\n",
    "\n",
    "Wij hebben 2 publieke datasets gekregen om mee bezig te gaan. Deze zijn \"cardio_train.csv\" en \"riskchartsampledata.xlsx\". Wij gaan gebruik maken van \"cardio_train.csv\", omdat deze het meeste lijkt op de data die we komende week ontvangen. Hieronder is te lezen wat de kolommen in deze dataset betekenen."
   ]
  },
  {
   "cell_type": "markdown",
   "id": "5968cadd-0145-46f8-b8bf-2a7912fd608c",
   "metadata": {
    "slideshow": {
     "slide_type": "subslide"
    }
   },
   "source": [
    "### \"cardio_train.csv\"\n",
    "\n",
    "* id          \n",
    "    De id van de rij, **integer** <br/>\n",
    "* age         \n",
    "    De leeftijd van de patient in dagen, **integer** <br/>\n",
    "* gender      \n",
    "    Het geslacht van de patient, waarbij 1 een man is en 2 een vrouw, **category** <br/>\n",
    "* height      \n",
    "    De lengte van de patient, gegeven in centimeters, **integer** <br/>\n",
    "* weight      \n",
    "    Het gewicht van de patient, gegeven in kilogram, **float** <br/>\n",
    "* ap_hi       \n",
    "    De bovendruk van de patient, **integer**  <br/>\n",
    "* ap_lo       \n",
    "    De onderdruk van de patient, **integer**  <br/>\n",
    "* cholesterol <br/>\n",
    "    Hoe veel cholesterol de patient heeft, **category**  <br/>\n",
    "* gluc        \n",
    "    Hoe veel glucoses de patient heeft, **category**  <br/>\n",
    "* smoke       \n",
    "    Of de patient rookt, **boolean** <br/>\n",
    "* alco        \n",
    "    Of de patient alcohol drinkt, **boolean** <br/>\n",
    "* active      \n",
    "    Of de patient actief is in het dagelijks leven, **boolean** <br/>\n",
    "* cardio      \n",
    "    Of de patient een cardiovasculaire ziekte heeft, **boolean** <br/>"
   ]
  },
  {
   "cell_type": "code",
   "execution_count": 82,
   "id": "c9de3cfd-d692-4f5a-92a0-19044189e14e",
   "metadata": {
    "slideshow": {
     "slide_type": "skip"
    }
   },
   "outputs": [],
   "source": [
    "import pandas as pd\n",
    "import numpy as np\n",
    "import matplotlib.pyplot as plt\n",
    "import seaborn as sns\n",
    "import pandas_profiling as pp\n",
    "from sklearn.model_selection import train_test_split\n",
    "from sklearn.naive_bayes import GaussianNB\n",
    "%matplotlib inline"
   ]
  },
  {
   "cell_type": "code",
   "execution_count": 83,
   "id": "133d1f38-aaad-40a0-99aa-59e790c1026f",
   "metadata": {
    "slideshow": {
     "slide_type": "skip"
    }
   },
   "outputs": [],
   "source": [
    "cardio_train = pd.read_csv(\"Data/cardio_train.csv\", delimiter=';')"
   ]
  },
  {
   "cell_type": "code",
   "execution_count": 84,
   "id": "51e2c7fc-5c35-4823-b0e9-8cf94f2422ff",
   "metadata": {
    "scrolled": false,
    "slideshow": {
     "slide_type": "subslide"
    }
   },
   "outputs": [],
   "source": [
    "#report1 = pp.ProfileReport(cardio_train, progress_bar=False)\n",
    "#report1.to_file('report1.html')\n"
   ]
  },
  {
   "cell_type": "markdown",
   "id": "f157f1d1",
   "metadata": {
    "slideshow": {
     "slide_type": "-"
    }
   },
   "source": [
    "[Report van cardio_train](report1.html)"
   ]
  },
  {
   "cell_type": "markdown",
   "id": "73f073ba",
   "metadata": {
    "slideshow": {
     "slide_type": "subslide"
    }
   },
   "source": [
    "## Gender in cardio_train"
   ]
  },
  {
   "cell_type": "code",
   "execution_count": 85,
   "id": "c2c8efcf-2179-42a2-88d0-fb62bdcba255",
   "metadata": {
    "scrolled": false,
    "slideshow": {
     "slide_type": "-"
    }
   },
   "outputs": [
    {
     "data": {
      "text/html": [
       "<div>\n",
       "<style scoped>\n",
       "    .dataframe tbody tr th:only-of-type {\n",
       "        vertical-align: middle;\n",
       "    }\n",
       "\n",
       "    .dataframe tbody tr th {\n",
       "        vertical-align: top;\n",
       "    }\n",
       "\n",
       "    .dataframe thead th {\n",
       "        text-align: right;\n",
       "    }\n",
       "</style>\n",
       "<table border=\"1\" class=\"dataframe\">\n",
       "  <thead>\n",
       "    <tr style=\"text-align: right;\">\n",
       "      <th></th>\n",
       "      <th>height</th>\n",
       "    </tr>\n",
       "    <tr>\n",
       "      <th>gender</th>\n",
       "      <th></th>\n",
       "    </tr>\n",
       "  </thead>\n",
       "  <tbody>\n",
       "    <tr>\n",
       "      <th>1</th>\n",
       "      <td>161.355612</td>\n",
       "    </tr>\n",
       "    <tr>\n",
       "      <th>2</th>\n",
       "      <td>169.947895</td>\n",
       "    </tr>\n",
       "  </tbody>\n",
       "</table>\n",
       "</div>"
      ],
      "text/plain": [
       "            height\n",
       "gender            \n",
       "1       161.355612\n",
       "2       169.947895"
      ]
     },
     "execution_count": 85,
     "metadata": {},
     "output_type": "execute_result"
    }
   ],
   "source": [
    "cardio_train[['gender','height']].groupby('gender').agg(np.mean)\n"
   ]
  },
  {
   "cell_type": "markdown",
   "id": "9c9c51c5-f18e-464f-9ed1-15e3bc100edf",
   "metadata": {
    "slideshow": {
     "slide_type": "skip"
    }
   },
   "source": [
    "De personen met 2 als gender zijn gemiddeld langer, dus is de 2 een man en 1 een vrouw."
   ]
  },
  {
   "cell_type": "markdown",
   "id": "1944a02a",
   "metadata": {},
   "source": [
    "### Data Relationships"
   ]
  },
  {
   "cell_type": "code",
   "execution_count": 117,
   "id": "8e234407",
   "metadata": {},
   "outputs": [
    {
     "data": {
      "text/plain": [
       "<AxesSubplot:ylabel='count'>"
      ]
     },
     "execution_count": 117,
     "metadata": {},
     "output_type": "execute_result"
    },
    {
     "data": {
      "image/png": "[encoded data removed]",
      "text/plain": [
       "<Figure size 432x288 with 1 Axes>"
      ]
     },
     "metadata": {
      "needs_background": "light"
     },
     "output_type": "display_data"
    }
   ],
   "source": [
    "sns.countplot(x=pd.Series(['Male' if x == 2 else 'Female' for x in cardio_train['gender']]).astype('category'))"
   ]
  },
  {
   "cell_type": "code",
   "execution_count": 114,
   "id": "f3a85368",
   "metadata": {},
   "outputs": [
    {
     "data": {
      "text/plain": [
       "Text(0.5, 1.0, 'Age Composition based on gender')"
      ]
     },
     "execution_count": 114,
     "metadata": {},
     "output_type": "execute_result"
    },
    {
     "data": {
      "image/png": "[encoded data removed]",
      "text/plain": [
       "<Figure size 432x288 with 1 Axes>"
      ]
     },
     "metadata": {
      "needs_background": "light"
     },
     "output_type": "display_data"
    }
   ],
   "source": [
    "ax = sns.violinplot(x=pd.Series([0 for x in cardio_train]), \n",
    "                    y=cardio_train[\"age\"]/365, \n",
    "                    hue=pd.Series(['Male' if x == 2 else 'Female' for x in cardio_train['gender']]).astype('category'),\n",
    "                    data=cardio_train, palette=\"Set2\", split=True,\n",
    "                    scale=\"count\",\n",
    "                    hue_order=['Male','Female'])\n",
    "ax.set_title('Age Composition based on gender')"
   ]
  },
  {
   "cell_type": "markdown",
   "id": "4c7cd8e8",
   "metadata": {},
   "source": [
    "Hieruit is te leiden dat de mannen een groter leeftijdsbereik hebben dan de vrouwen."
   ]
  },
  {
   "cell_type": "code",
   "execution_count": 116,
   "id": "684350eb",
   "metadata": {},
   "outputs": [
    {
     "data": {
      "text/plain": [
       "Text(0.5, 1.0, 'Composition of cardiovascular disease in gender')"
      ]
     },
     "execution_count": 116,
     "metadata": {},
     "output_type": "execute_result"
    },
    {
     "data": {
      "image/png": "[encoded data removed]",
      "text/plain": [
       "<Figure size 432x288 with 1 Axes>"
      ]
     },
     "metadata": {
      "needs_background": "light"
     },
     "output_type": "display_data"
    }
   ],
   "source": [
    "ax = sns.countplot(hue=pd.Series(['Male' if x == 1 else 'Female' for x in cardio_train['gender']]).astype('category'),\n",
    "                   x=pd.Series([True if x == 0 else False for x in cardio_train['cardio']]))\n",
    "ax.set_title('Composition of cardiovascular disease in gender')"
   ]
  },
  {
   "cell_type": "markdown",
   "id": "2b5d41bd",
   "metadata": {},
   "source": [
    "Hieruit is te leiden dat de data gelijk is verdeeld in de kolom cardio. 50% had uiteindelijk een cvd, en 50% niet."
   ]
  },
  {
   "cell_type": "code",
   "execution_count": null,
   "id": "c87ece87",
   "metadata": {},
   "outputs": [],
   "source": []
  },
  {
   "cell_type": "markdown",
   "id": "94ac93c5-31ee-41be-af72-ec8ccff2a71d",
   "metadata": {
    "slideshow": {
     "slide_type": "slide"
    },
    "tags": []
   },
   "source": [
    "# Data Preparation"
   ]
  },
  {
   "cell_type": "code",
   "execution_count": 5,
   "id": "b585df08-d68b-4eda-8f84-b28d57242d77",
   "metadata": {
    "slideshow": {
     "slide_type": "skip"
    },
    "tags": []
   },
   "outputs": [],
   "source": [
    "#cardio_train.astype({'gender':'category','cholesterol':'category','gluc':'category','smoke':'bool','alco':'bool','active':'bool','cardio':'bool'}, copy=False)"
   ]
  },
  {
   "cell_type": "markdown",
   "id": "9be98d68-4af5-456f-8cd8-0c1e3d29f26e",
   "metadata": {
    "slideshow": {
     "slide_type": "-"
    }
   },
   "source": [
    "## Feature Engineering"
   ]
  },
  {
   "cell_type": "code",
   "execution_count": 6,
   "id": "51eeed6b-e7ca-4e82-9b0e-6bb4f8d50e47",
   "metadata": {
    "slideshow": {
     "slide_type": "skip"
    }
   },
   "outputs": [],
   "source": [
    "#if (1 in cardio_train['gender'].unique()):\n",
    "#    cardio_train['gender'] = ['male' if x is 2 else 'female' for x in cardio_train['gender']]\n",
    "#cardio_train.astype('category',copy=False)\n",
    "\n",
    "\n",
    "#cardio_train['age_category'] = pd.cut(cardio_train['age_in_years'], range(5,105,10))\n",
    "#age_cat = [str(x.left) + '-' + str(x.right-1) for x in cardio_train['age_category']]\n",
    "#cardio_train['age_category'] = age_cat\n",
    "#cardio_train['age_category'].astype('category',copy=False)"
   ]
  },
  {
   "cell_type": "code",
   "execution_count": 7,
   "id": "08418c88-02e3-41dd-9049-aab778ca1441",
   "metadata": {
    "slideshow": {
     "slide_type": "-"
    }
   },
   "outputs": [],
   "source": [
    "cardio_train['age'] = (cardio_train['age']/365).apply(lambda x: int(x))\n",
    "\n",
    "\n",
    "cardio_train['bmi'] = cardio_train['weight'] / (cardio_train['height']/100)**2 \n",
    "\n",
    "cardio_train['ap_difference'] = cardio_train['ap_hi'] - cardio_train['ap_lo']\n"
   ]
  },
  {
   "cell_type": "markdown",
   "id": "591aa945",
   "metadata": {},
   "source": [
    "## Outlier filtering"
   ]
  },
  {
   "cell_type": "code",
   "execution_count": 8,
   "id": "74fa7100",
   "metadata": {},
   "outputs": [],
   "source": [
    "cardio_train = cardio_train[~(cardio_train['bmi']>60)]\n",
    "\n",
    "\n",
    "high_ap_filter = ((cardio_train[\"ap_hi\"]>220) | (cardio_train[\"ap_lo\"]>180))\n",
    "cardio_train = cardio_train[~high_ap_filter]\n",
    "\n",
    "low_ap_filter = ((cardio_train[\"ap_hi\"] < 40) | (cardio_train[\"ap_lo\"] < 40))\n",
    "cardio_train = cardio_train[~low_ap_filter]"
   ]
  },
  {
   "cell_type": "markdown",
   "id": "55fe9472",
   "metadata": {
    "slideshow": {
     "slide_type": "-"
    }
   },
   "source": [
    "## Bovendruk kan niet lager zijn dan onderdruk"
   ]
  },
  {
   "cell_type": "code",
   "execution_count": 9,
   "id": "95a5d34f",
   "metadata": {
    "slideshow": {
     "slide_type": "-"
    }
   },
   "outputs": [
    {
     "data": {
      "text/plain": [
       "(68602, 15)"
      ]
     },
     "execution_count": 9,
     "metadata": {},
     "output_type": "execute_result"
    }
   ],
   "source": [
    "# ap_hi kan niet lager zijn dan ap_lo\n",
    "cardio_train = cardio_train[:][cardio_train['ap_hi'] > cardio_train['ap_lo']]\n",
    "cardio_train.shape\n"
   ]
  },
  {
   "cell_type": "markdown",
   "id": "1d71193c",
   "metadata": {},
   "source": [
    "## Drop Duplicates\n",
    "\n",
    "### How many?"
   ]
  },
  {
   "cell_type": "code",
   "execution_count": 10,
   "id": "b2cb62bd",
   "metadata": {
    "scrolled": true
   },
   "outputs": [
    {
     "data": {
      "text/plain": [
       "0"
      ]
     },
     "execution_count": 10,
     "metadata": {},
     "output_type": "execute_result"
    }
   ],
   "source": [
    "cardio_train.duplicated().sum()"
   ]
  },
  {
   "cell_type": "code",
   "execution_count": 11,
   "id": "16a72dc5",
   "metadata": {},
   "outputs": [
    {
     "data": {
      "text/plain": [
       "(68602, 15)"
      ]
     },
     "execution_count": 11,
     "metadata": {},
     "output_type": "execute_result"
    }
   ],
   "source": [
    "cardio_train.drop_duplicates(inplace=True)\n",
    "cardio_train.shape"
   ]
  },
  {
   "cell_type": "markdown",
   "id": "692df66c",
   "metadata": {},
   "source": [
    "## Splitting"
   ]
  },
  {
   "cell_type": "code",
   "execution_count": 12,
   "id": "77583f0f",
   "metadata": {},
   "outputs": [],
   "source": [
    "def CopyAndNormalize(train, test, columnNames):\n",
    "    norm = train.copy()\n",
    "    normtest = test.copy()\n",
    "    norm['gender'] = norm['gender']-1\n",
    "    normtest['gender'] = normtest['gender']-1\n",
    "    for col in columnNames:\n",
    "        normtest[col] = (normtest[col]-norm[col].min()) / (norm[col].max()-norm[col].min())\n",
    "        norm[col] = (norm[col]-norm[col].min()) / (norm[col].max()-norm[col].min())\n",
    "    return (norm, normtest)\n",
    "\n",
    "def GetValidationSet(data_train, label_train):\n",
    "    output = train_data.copy()\n",
    "    return train_test_split(data_train, label_train, test_size=0.5, random_state=42)\n",
    "\n",
    "def FilterDataFrame(df, columns):\n",
    "    for column in columns:\n",
    "        df = df.loc[:, df.columns != column]\n",
    "    return df"
   ]
  },
  {
   "cell_type": "code",
   "execution_count": 13,
   "id": "78f0e3eb",
   "metadata": {},
   "outputs": [],
   "source": [
    "#Get labels\n",
    "labels = cardio_train['cardio']\n",
    "cardio_train = FilterDataFrame(cardio_train, columns = ['cardio'])\n",
    "\n",
    "#Split to train and test\n",
    "data_train, data_test, label_train, label_test = train_test_split(cardio_train, labels, random_state=42, test_size=0.3, stratify=cardio_train['gender'])\n",
    "\n",
    "#Normalize the data\n",
    "cols = ['age','ap_hi','ap_lo','cholesterol','bmi','ap_difference','gluc']\n",
    "normalized_train, normalized_test = CopyAndNormalize(data_train,data_test,cols)"
   ]
  },
  {
   "cell_type": "markdown",
   "id": "e0b66050",
   "metadata": {},
   "source": [
    "### Remove columns for the models (per model)"
   ]
  },
  {
   "cell_type": "code",
   "execution_count": 14,
   "id": "7fcaa93c-d7b3-4fcf-a0c6-5c6924867741",
   "metadata": {
    "slideshow": {
     "slide_type": "subslide"
    }
   },
   "outputs": [],
   "source": [
    "# Use this as a filter for which columns you dont want in your model\n",
    "columns_to_remove = ['id','height','weight','gluc']\n",
    "\n",
    "NB_data_train = FilterDataFrame(data_train, columns = columns_to_remove)\n",
    "NB_data_test = FilterDataFrame(data_test, columns = columns_to_remove)"
   ]
  },
  {
   "cell_type": "code",
   "execution_count": 15,
   "id": "faff439e",
   "metadata": {},
   "outputs": [],
   "source": [
    "columns_to_remove = ['id','height','weight']\n",
    "normalized_test = FilterDataFrame(normalized_test, columns = columns_to_remove)\n",
    "NN_val_data_train, NN_data_train, NN_val_lab_train, NN_lab_train = train_test_split(FilterDataFrame(normalized_train, columns = columns_to_remove), label_train, test_size=0.5, random_state=42)\n"
   ]
  },
  {
   "cell_type": "markdown",
   "id": "970d4798",
   "metadata": {
    "slideshow": {
     "slide_type": "slide"
    }
   },
   "source": [
    "# Modeling"
   ]
  },
  {
   "cell_type": "code",
   "execution_count": 16,
   "id": "3c08ef72",
   "metadata": {},
   "outputs": [],
   "source": [
    "from sklearn.metrics import accuracy_score\n",
    "from sklearn.metrics import confusion_matrix\n",
    "from sklearn.metrics import ConfusionMatrixDisplay\n",
    "\n",
    "def EvaluateModel(model, data_train, data_test, label_train, label_test):\n",
    "    prediction = model.predict(data_test)\n",
    "    \n",
    "    conf_mat = confusion_matrix(label_test, prediction)\n",
    "    falsePositive = conf_mat[1][0]\n",
    "\n",
    "    print(conf_mat)\n",
    "    print(str(falsePositive) + \" people of the \" + str(conf_mat[1].sum()) + \" that have a CVD didnt get diagnosed with it\")\n",
    "    print(\"That is \" + str(round(falsePositive/conf_mat.sum()*100,2)) + \"% of all patients that died because of no treatment!\")\n",
    "    \n",
    "    acc_train = round(model.score(data_train,label_train)*100, 4)\n",
    "    print(\"Accuracy van de training data: \" + str(acc_train) + \"%\")\n",
    "\n",
    "    acc_test = round(model.score(data_test,label_test)*100, 4)\n",
    "    print(\"Accuracy van de test data: \" + str(acc_test) + \"%\")\n",
    "    print(\"Verschil: \" + str(round(acc_test-acc_train,2)) + \"%\")"
   ]
  },
  {
   "cell_type": "markdown",
   "id": "76fbb58d",
   "metadata": {},
   "source": [
    "### Naive Bayes Model"
   ]
  },
  {
   "cell_type": "code",
   "execution_count": 17,
   "id": "f9ec73a9-b0e8-41b3-b19f-5f5369297173",
   "metadata": {
    "slideshow": {
     "slide_type": "-"
    }
   },
   "outputs": [
    {
     "name": "stdout",
     "output_type": "stream",
     "text": [
      "[[8710 1755]\n",
      " [3981 6135]]\n",
      "3981 people of the 10116 that have a CVD didnt get diagnosed with it\n",
      "That is 19.34% of all patients that died because of no treatment!\n",
      "Accuracy van de training data: 72.1393%\n",
      "Accuracy van de test data: 72.1296%\n",
      "Verschil: -0.01%\n"
     ]
    }
   ],
   "source": [
    "model = GaussianNB()\n",
    "model.fit(NB_data_train, label_train)\n",
    "EvaluateModel(model, NB_data_train, NB_data_test, label_train, label_test)\n",
    "y_pred = model.predict(NB_data_test)\n"
   ]
  },
  {
   "cell_type": "markdown",
   "id": "044a45c2",
   "metadata": {},
   "source": [
    "### Neural Network"
   ]
  },
  {
   "cell_type": "code",
   "execution_count": 18,
   "id": "2bcbd545",
   "metadata": {},
   "outputs": [],
   "source": [
    "from tensorflow import keras\n",
    "from tensorflow.keras import layers"
   ]
  },
  {
   "cell_type": "code",
   "execution_count": 35,
   "id": "2a1f70d7",
   "metadata": {},
   "outputs": [
    {
     "name": "stdout",
     "output_type": "stream",
     "text": [
      "Model: \"sequential_4\"\n",
      "_________________________________________________________________\n",
      " Layer (type)                Output Shape              Param #   \n",
      "=================================================================\n",
      " dense_16 (Dense)            (None, 32)                384       \n",
      "                                                                 \n",
      " dense_17 (Dense)            (None, 64)                2112      \n",
      "                                                                 \n",
      " dense_18 (Dense)            (None, 128)               8320      \n",
      "                                                                 \n",
      " dense_19 (Dense)            (None, 1)                 129       \n",
      "                                                                 \n",
      "=================================================================\n",
      "Total params: 10,945\n",
      "Trainable params: 10,945\n",
      "Non-trainable params: 0\n",
      "_________________________________________________________________\n"
     ]
    }
   ],
   "source": [
    "# Import the sequential model and dense layer\n",
    "from keras.models import Sequential\n",
    "from keras.layers import Dense\n",
    "from tensorflow.python.keras.optimizer_v2.adam import Adam\n",
    "\n",
    "# Create a sequential model\n",
    "modelNN = Sequential()\n",
    "\n",
    "# Add a dense layer \n",
    "modelNN.add(Dense(32, input_shape=(11,), activation='relu'))\n",
    "modelNN.add(Dense(64, activation='relu'))\n",
    "modelNN.add(Dense(128, activation='relu'))\n",
    "#modelNN.add(Dense(256, activation='relu'))\n",
    "#modelNN.add(Dense(512, activation='relu'))\n",
    "modelNN.add(Dense(1, activation='sigmoid'))\n",
    "\n",
    "# Compile your model\n",
    "modelNN.compile(loss='binary_crossentropy', optimizer='adam', metrics=['accuracy'],)\n",
    "\n",
    "# Display a summary of your model\n",
    "modelNN.summary()"
   ]
  },
  {
   "cell_type": "code",
   "execution_count": 36,
   "id": "b8f369b9",
   "metadata": {
    "scrolled": true
   },
   "outputs": [
    {
     "name": "stdout",
     "output_type": "stream",
     "text": [
      "Epoch 1/23\n",
      "751/751 [==============================] - 2s 2ms/step - loss: 0.5946 - accuracy: 0.6861 - val_loss: 0.5595 - val_accuracy: 0.7228\n",
      "Epoch 2/23\n",
      "751/751 [==============================] - 1s 2ms/step - loss: 0.5634 - accuracy: 0.7208 - val_loss: 0.5525 - val_accuracy: 0.7284\n",
      "Epoch 3/23\n",
      "751/751 [==============================] - 1s 1ms/step - loss: 0.5603 - accuracy: 0.7218 - val_loss: 0.5478 - val_accuracy: 0.7297\n",
      "Epoch 4/23\n",
      "751/751 [==============================] - 1s 1ms/step - loss: 0.5578 - accuracy: 0.7225 - val_loss: 0.5521 - val_accuracy: 0.7287\n",
      "Epoch 5/23\n",
      "751/751 [==============================] - 1s 1ms/step - loss: 0.5535 - accuracy: 0.7254 - val_loss: 0.5515 - val_accuracy: 0.7272\n",
      "Epoch 6/23\n",
      "751/751 [==============================] - 1s 1ms/step - loss: 0.5511 - accuracy: 0.7284 - val_loss: 0.5466 - val_accuracy: 0.7312\n",
      "Epoch 7/23\n",
      "751/751 [==============================] - 1s 1ms/step - loss: 0.5516 - accuracy: 0.7300 - val_loss: 0.5507 - val_accuracy: 0.7247\n",
      "Epoch 8/23\n",
      "751/751 [==============================] - 1s 2ms/step - loss: 0.5498 - accuracy: 0.7292 - val_loss: 0.5460 - val_accuracy: 0.7312\n",
      "Epoch 9/23\n",
      "751/751 [==============================] - 1s 1ms/step - loss: 0.5498 - accuracy: 0.7289 - val_loss: 0.5486 - val_accuracy: 0.7337\n",
      "Epoch 10/23\n",
      "751/751 [==============================] - 1s 2ms/step - loss: 0.5479 - accuracy: 0.7290 - val_loss: 0.5450 - val_accuracy: 0.7326\n",
      "Epoch 11/23\n",
      "751/751 [==============================] - 1s 2ms/step - loss: 0.5482 - accuracy: 0.7298 - val_loss: 0.5551 - val_accuracy: 0.7209\n",
      "Epoch 12/23\n",
      "751/751 [==============================] - 1s 2ms/step - loss: 0.5471 - accuracy: 0.7320 - val_loss: 0.5505 - val_accuracy: 0.7247\n",
      "Epoch 13/23\n",
      "751/751 [==============================] - 1s 2ms/step - loss: 0.5466 - accuracy: 0.7288 - val_loss: 0.5584 - val_accuracy: 0.7256\n",
      "Epoch 14/23\n",
      "751/751 [==============================] - 1s 1ms/step - loss: 0.5466 - accuracy: 0.7312 - val_loss: 0.5434 - val_accuracy: 0.7319\n",
      "Epoch 15/23\n",
      "751/751 [==============================] - 1s 1ms/step - loss: 0.5458 - accuracy: 0.7307 - val_loss: 0.5445 - val_accuracy: 0.7294\n",
      "Epoch 16/23\n",
      "751/751 [==============================] - 1s 2ms/step - loss: 0.5453 - accuracy: 0.7325 - val_loss: 0.5442 - val_accuracy: 0.7353\n",
      "Epoch 17/23\n",
      "751/751 [==============================] - 1s 1ms/step - loss: 0.5458 - accuracy: 0.7326 - val_loss: 0.5429 - val_accuracy: 0.7352\n",
      "Epoch 18/23\n",
      "751/751 [==============================] - 1s 1ms/step - loss: 0.5454 - accuracy: 0.7309 - val_loss: 0.5435 - val_accuracy: 0.7346\n",
      "Epoch 19/23\n",
      "751/751 [==============================] - 1s 1ms/step - loss: 0.5443 - accuracy: 0.7304 - val_loss: 0.5441 - val_accuracy: 0.7337\n",
      "Epoch 20/23\n",
      "751/751 [==============================] - 1s 2ms/step - loss: 0.5447 - accuracy: 0.7313 - val_loss: 0.5474 - val_accuracy: 0.7297\n",
      "Epoch 21/23\n",
      "751/751 [==============================] - 1s 1ms/step - loss: 0.5440 - accuracy: 0.7297 - val_loss: 0.5454 - val_accuracy: 0.7301\n",
      "Epoch 22/23\n",
      "751/751 [==============================] - 1s 2ms/step - loss: 0.5443 - accuracy: 0.7332 - val_loss: 0.5432 - val_accuracy: 0.7330\n",
      "Epoch 23/23\n",
      "751/751 [==============================] - 1s 2ms/step - loss: 0.5428 - accuracy: 0.7327 - val_loss: 0.5444 - val_accuracy: 0.7324\n"
     ]
    }
   ],
   "source": [
    "history = modelNN.fit(NN_data_train, NN_lab_train , epochs=23, validation_data=(NN_val_data_train,NN_val_lab_train))"
   ]
  },
  {
   "cell_type": "code",
   "execution_count": 37,
   "id": "6d0b89f7",
   "metadata": {},
   "outputs": [
    {
     "name": "stdout",
     "output_type": "stream",
     "text": [
      "0.7354841844419611%\n",
      "[[8179 2286]\n",
      " [3158 6958]]\n",
      "3158 people of the 10116 that have a CVD didnt get diagnosed with it\n",
      "That is 15.34% of all patients that died because of no treatment!\n"
     ]
    }
   ],
   "source": [
    "pred = modelNN.predict(normalized_test)\n",
    "pred = pred > 0.5\n",
    "pred = [bool(x) for x in pred]\n",
    "acc = label_test == pred\n",
    "print(str(acc.sum() / len(label_test)) +  \"%\")\n",
    "\n",
    "conf_mat = confusion_matrix(label_test, pred)\n",
    "falsePositive = conf_mat[1][0]\n",
    "\n",
    "print(conf_mat)\n",
    "print(str(falsePositive) + \" people of the \" + str(conf_mat[1].sum()) + \" that have a CVD didnt get diagnosed with it\")\n",
    "print(\"That is \" + str(round(falsePositive/conf_mat.sum()*100,2)) + \"% of all patients that died because of no treatment!\")"
   ]
  },
  {
   "cell_type": "code",
   "execution_count": 38,
   "id": "e6ddde09",
   "metadata": {},
   "outputs": [
    {
     "data": {
      "image/png": "[encoded data removed]",
      "text/plain": [
       "<Figure size 432x288 with 1 Axes>"
      ]
     },
     "metadata": {
      "needs_background": "light"
     },
     "output_type": "display_data"
    },
    {
     "data": {
      "image/png": "[encoded data removed]",
      "text/plain": [
       "<Figure size 432x288 with 1 Axes>"
      ]
     },
     "metadata": {
      "needs_background": "light"
     },
     "output_type": "display_data"
    }
   ],
   "source": [
    "history_dict = history.history\n",
    "loss_values = history_dict[\"loss\"]\n",
    "val_loss_values = history_dict[\"val_loss\"]\n",
    "epochs = range(1, len(loss_values) + 1)\n",
    "\n",
    "plt.plot(epochs, loss_values, \"bo\", label=\"Training loss\")\n",
    "plt.plot(epochs, val_loss_values, \"b\", label=\"Validation loss\")\n",
    "plt.title(\"Training and validation loss\")\n",
    "plt.xlabel(\"Epochs\")\n",
    "plt.ylabel(\"Loss\")\n",
    "plt.legend()\n",
    "plt.show()\n",
    "plt.clf()\n",
    "\n",
    "acc = history_dict[\"accuracy\"]\n",
    "val_acc = history_dict[\"val_accuracy\"]\n",
    "plt.plot(epochs, acc, \"bo\", label=\"Training acc\")\n",
    "plt.plot(epochs, val_acc, \"b\", label=\"Validation acc\")\n",
    "plt.title(\"Training and validation accuracy\")\n",
    "plt.xlabel(\"Epochs\")\n",
    "plt.ylabel(\"Accuracy\")\n",
    "plt.legend()\n",
    "plt.show()"
   ]
  },
  {
   "cell_type": "code",
   "execution_count": 277,
   "id": "41587c67",
   "metadata": {},
   "outputs": [
    {
     "name": "stdout",
     "output_type": "stream",
     "text": [
      "INFO:tensorflow:Assets written to: NNModel_11.8%\\assets\n"
     ]
    }
   ],
   "source": [
    "#modelNN.save('NNModel_11.8%')"
   ]
  },
  {
   "cell_type": "markdown",
   "id": "9d614719",
   "metadata": {
    "slideshow": {
     "slide_type": "slide"
    }
   },
   "source": [
    "# Hoe nu verder?\n",
    "\n",
    "* Tot nu toe hebben we:</br>\n",
    "    Business Understanding</br>\n",
    "    Data Understanding</br>\n",
    "    Data Preparation</br>\n",
    "    Modeling van Naive Bayes</br>\n",
    "    </br>\n",
    "* Hoe nu verder:</br>\n",
    "    Modeling van meerdere algoritmes</br>\n",
    "    Volgende week (hopen we) bezig met echte data </br>\n",
    "    \n",
    "    \n",
    "Moeten we een foutmarge accepteren van 20% voor het voorspellen van een cardiovasculaire ziekte?\n",
    "    "
   ]
  }
 ],
 "metadata": {
  "celltoolbar": "Diavoorstelling",
  "kernelspec": {
   "display_name": "Python 3 (ipykernel)",
   "language": "python",
   "name": "python3"
  },
  "language_info": {
   "codemirror_mode": {
    "name": "ipython",
    "version": 3
   },
   "file_extension": ".py",
   "mimetype": "text/x-python",
   "name": "python",
   "nbconvert_exporter": "python",
   "pygments_lexer": "ipython3",
   "version": "3.9.7"
  }
 },
 "nbformat": 4,
 "nbformat_minor": 5
}
