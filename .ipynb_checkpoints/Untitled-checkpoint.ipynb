{
 "cells": [
  {
   "cell_type": "markdown",
   "id": "e5d8405d-c508-40f0-aaf9-343914d591f5",
   "metadata": {
    "slideshow": {
     "slide_type": "slide"
    },
    "tags": []
   },
   "source": [
    "# Business Understanding\n",
    "\n",
    "## Wie (de opdrachtgever)? \n",
    "\n",
    "Appbakkers (Corné & Guido) is een bedrijf die (mobiele) applicaties ontwikkeld.  "
   ]
  },
  {
   "cell_type": "markdown",
   "id": "f96bb855",
   "metadata": {
    "slideshow": {
     "slide_type": "subslide"
    }
   },
   "source": [
    "## Wat (de opdracht)? \n",
    "\n",
    "Bij opname van een patiënt wordt er een elektrocardiogram (ECG) gemaakt. Hierbij worden alle elektrische impulsen in het hart geregistreerd, waardoor kan worden afgeleid welke gebieden van het hart naar behoren functioneren.  \n",
    "\n",
    "Arts-onderzoekers vragen zich af of het aantal hartslagen per minuut een goede voorspeller kan zijn van de calciumscore. Gebruik de ECG-datasets om per dataset het gemiddelde aantal hartslagen per minuut te bepalen (bedenk goed welke onderdelen van de ECGs je hiervoor allemaal gaat gebruiken): indien deze boven de 100 slagen per minuut is heet dit tachycardie, indien deze onder de 60 slagen per minuut is heet dit bradycardie.  \n",
    "\n",
    "Onderzoek daarna met deze resultaten en de calciumscore uitkomsten of de aanwezigheid van bradycardie/tachycardie/normale hartslag (en meer specifiek het aantal hartslagen per minuut) de calciumscore kan voorspellen. Bepaal hierna of de datasets een regelmatig of onregelmatig hartritme vertonen en probeer je model hiermee te verbeteren. Kan je model nu accuraat de calciumscore voorspellen? Zijn er risico’s bij het gebruik van je model in de praktijk? Als je nog tijd over hebt, is het interessant om je gegevens te combineren met die van opdracht 1. Kan je elkaars modellen verder verbeteren?"
   ]
  },
  {
   "cell_type": "markdown",
   "id": "af2ab9af",
   "metadata": {
    "slideshow": {
     "slide_type": "subslide"
    }
   },
   "source": [
    "## Wanneer (tijdsframe)? \n",
    "\n",
    "Deze opdracht voeren we uit vanaf 13 april ’22. Op deze dag hebben we de kennismaking gehad met onze opdrachtgever. Hierin hebben we de opdracht besproken en een aantal afspraken gemaakt. De einddatum van de opdracht zal zijn op 3 juni ’22. "
   ]
  },
  {
   "cell_type": "markdown",
   "id": "818e7b1d",
   "metadata": {
    "slideshow": {
     "slide_type": "subslide"
    }
   },
   "source": [
    "## Waarom (doel)? \n",
    "\n",
    "Het doel is om te achterhalen of hartslag een goede voorspeller kan zijn van de calciumscore. \n",
    "\n",
    "Als het model gemaakt is om dit te voorspellen kan deze verbeterd/uitgebreid worden met de resultaten en de calciumscore uitkomsten of de aanwezigheid van bradycardie/tachycardie/normale hartslag (en meer specifiek het aantal hartslagen per minuut) de calciumscore kan voorspellen.  "
   ]
  },
  {
   "cell_type": "markdown",
   "id": "a30e08c9",
   "metadata": {
    "slideshow": {
     "slide_type": "subslide"
    }
   },
   "source": [
    "## Wat (wat gaan we gebruiken)? \n",
    "\n",
    "Door middel van Jupyter notebooks gaan wij het model ontwikkelen.  \n",
    "ECG viewer om ECG´s bestanden door te lezen. "
   ]
  },
  {
   "cell_type": "markdown",
   "id": "14e28c75-6a72-4de5-a74e-4d2eb7b89fdb",
   "metadata": {
    "slideshow": {
     "slide_type": "slide"
    }
   },
   "source": [
    "# Data Understanding\n",
    "\n",
    "Wij hebben 2 publieke datasets gekregen om mee bezig te gaan. Deze zijn \"cardio_train.csv\" en \"riskchartsampledata.xlsx\". Wij gaan gebruik maken van \"cardio_train.csv\", omdat deze het meeste lijkt op de data die we komende week ontvangen. Hieronder is te lezen wat de kolommen in deze dataset betekenen."
   ]
  },
  {
   "cell_type": "markdown",
   "id": "5968cadd-0145-46f8-b8bf-2a7912fd608c",
   "metadata": {
    "slideshow": {
     "slide_type": "subslide"
    }
   },
   "source": [
    "### \"cardio_train.csv\"\n",
    "\n",
    "* id          \n",
    "    De id van de rij, **integer** <br/>\n",
    "* age         \n",
    "    De leeftijd van de patient in dagen, **integer** <br/>\n",
    "* gender      \n",
    "    Het geslacht van de patient, waarbij 1 een man is en 2 een vrouw, **category** <br/>\n",
    "* height      \n",
    "    De lengte van de patient, gegeven in centimeters, **integer** <br/>\n",
    "* weight      \n",
    "    Het gewicht van de patient, gegeven in kilogram, **float** <br/>\n",
    "* ap_hi       \n",
    "    De bovendruk van de patient, **integer**  <br/>\n",
    "* ap_lo       \n",
    "    De onderdruk van de patient, **integer**  <br/>\n",
    "* cholesterol <br/>\n",
    "    Hoe veel cholesterol de patient heeft, **category**  <br/>\n",
    "* gluc        \n",
    "    Hoe veel glucoses de patient heeft, **category**  <br/>\n",
    "* smoke       \n",
    "    Of de patient rookt, **boolean** <br/>\n",
    "* alco        \n",
    "    Of de patient alcohol drinkt, **boolean** <br/>\n",
    "* active      \n",
    "    Of de patient actief is in het dagelijks leven, **boolean** <br/>\n",
    "* cardio      \n",
    "    Of de patient een cardiovasculaire ziekte heeft, **boolean** <br/>"
   ]
  },
  {
   "cell_type": "code",
   "execution_count": 32,
   "id": "c9de3cfd-d692-4f5a-92a0-19044189e14e",
   "metadata": {
    "slideshow": {
     "slide_type": "skip"
    }
   },
   "outputs": [],
   "source": [
    "import pandas as pd\n",
    "import numpy as np\n",
    "import matplotlib.pyplot as plt\n",
    "import seaborn as sns\n",
    "import pandas_profiling as pp\n",
    "from sklearn.model_selection import train_test_split\n",
    "from sklearn.naive_bayes import GaussianNB\n",
    "%matplotlib inline"
   ]
  },
  {
   "cell_type": "code",
   "execution_count": 8,
   "id": "133d1f38-aaad-40a0-99aa-59e790c1026f",
   "metadata": {
    "slideshow": {
     "slide_type": "skip"
    }
   },
   "outputs": [],
   "source": [
    "cardio_train = pd.read_csv(\"Data/cardio_train.csv\", delimiter=';')"
   ]
  },
  {
   "cell_type": "code",
   "execution_count": 9,
   "id": "51e2c7fc-5c35-4823-b0e9-8cf94f2422ff",
   "metadata": {
    "scrolled": false,
    "slideshow": {
     "slide_type": "subslide"
    }
   },
   "outputs": [],
   "source": [
    "report1 = pp.ProfileReport(cardio_train, progress_bar=False)\n",
    "report1.to_file('report1.html')\n"
   ]
  },
  {
   "cell_type": "markdown",
   "id": "f157f1d1",
   "metadata": {
    "slideshow": {
     "slide_type": "-"
    }
   },
   "source": [
    "[Report van cardio_train](report1.html)"
   ]
  },
  {
   "cell_type": "markdown",
   "id": "73f073ba",
   "metadata": {
    "slideshow": {
     "slide_type": "subslide"
    }
   },
   "source": [
    "## Gender in cardio_train"
   ]
  },
  {
   "cell_type": "code",
   "execution_count": 10,
   "id": "c2c8efcf-2179-42a2-88d0-fb62bdcba255",
   "metadata": {
    "scrolled": false,
    "slideshow": {
     "slide_type": "-"
    }
   },
   "outputs": [
    {
     "data": {
      "text/html": [
       "<div>\n",
       "<style scoped>\n",
       "    .dataframe tbody tr th:only-of-type {\n",
       "        vertical-align: middle;\n",
       "    }\n",
       "\n",
       "    .dataframe tbody tr th {\n",
       "        vertical-align: top;\n",
       "    }\n",
       "\n",
       "    .dataframe thead th {\n",
       "        text-align: right;\n",
       "    }\n",
       "</style>\n",
       "<table border=\"1\" class=\"dataframe\">\n",
       "  <thead>\n",
       "    <tr style=\"text-align: right;\">\n",
       "      <th></th>\n",
       "      <th>height</th>\n",
       "    </tr>\n",
       "    <tr>\n",
       "      <th>gender</th>\n",
       "      <th></th>\n",
       "    </tr>\n",
       "  </thead>\n",
       "  <tbody>\n",
       "    <tr>\n",
       "      <th>1</th>\n",
       "      <td>161.355612</td>\n",
       "    </tr>\n",
       "    <tr>\n",
       "      <th>2</th>\n",
       "      <td>169.947895</td>\n",
       "    </tr>\n",
       "  </tbody>\n",
       "</table>\n",
       "</div>"
      ],
      "text/plain": [
       "            height\n",
       "gender            \n",
       "1       161.355612\n",
       "2       169.947895"
      ]
     },
     "execution_count": 10,
     "metadata": {},
     "output_type": "execute_result"
    }
   ],
   "source": [
    "cardio_train[['gender','height']].groupby('gender').agg(np.mean)\n"
   ]
  },
  {
   "cell_type": "markdown",
   "id": "9c9c51c5-f18e-464f-9ed1-15e3bc100edf",
   "metadata": {
    "slideshow": {
     "slide_type": "skip"
    }
   },
   "source": [
    "De personen met 2 als gender zijn gemiddeld langer, dus is de 2 een man en 1 een vrouw."
   ]
  },
  {
   "cell_type": "markdown",
   "id": "94ac93c5-31ee-41be-af72-ec8ccff2a71d",
   "metadata": {
    "slideshow": {
     "slide_type": "slide"
    },
    "tags": []
   },
   "source": [
    "# Data Preparation"
   ]
  },
  {
   "cell_type": "code",
   "execution_count": 11,
   "id": "b585df08-d68b-4eda-8f84-b28d57242d77",
   "metadata": {
    "slideshow": {
     "slide_type": "skip"
    },
    "tags": []
   },
   "outputs": [],
   "source": [
    "#cardio_train.astype({'gender':'category','cholesterol':'category','gluc':'category','smoke':'bool','alco':'bool','active':'bool','cardio':'bool'}, copy=False)"
   ]
  },
  {
   "cell_type": "markdown",
   "id": "9be98d68-4af5-456f-8cd8-0c1e3d29f26e",
   "metadata": {
    "slideshow": {
     "slide_type": "-"
    }
   },
   "source": [
    "## Feature Engineering"
   ]
  },
  {
   "cell_type": "code",
   "execution_count": 12,
   "id": "51eeed6b-e7ca-4e82-9b0e-6bb4f8d50e47",
   "metadata": {
    "slideshow": {
     "slide_type": "skip"
    }
   },
   "outputs": [],
   "source": [
    "#if (1 in cardio_train['gender'].unique()):\n",
    "#    cardio_train['gender'] = ['male' if x is 2 else 'female' for x in cardio_train['gender']]\n",
    "#cardio_train.astype('category',copy=False)\n",
    "\n",
    "\n",
    "#cardio_train['age_category'] = pd.cut(cardio_train['age_in_years'], range(5,105,10))\n",
    "#age_cat = [str(x.left) + '-' + str(x.right-1) for x in cardio_train['age_category']]\n",
    "#cardio_train['age_category'] = age_cat\n",
    "#cardio_train['age_category'].astype('category',copy=False)"
   ]
  },
  {
   "cell_type": "code",
   "execution_count": 13,
   "id": "08418c88-02e3-41dd-9049-aab778ca1441",
   "metadata": {
    "slideshow": {
     "slide_type": "-"
    }
   },
   "outputs": [],
   "source": [
    "cardio_train['age'] = (cardio_train['age']/365).apply(lambda x: int(x))\n",
    "\n",
    "\n",
    "cardio_train['bmi'] = cardio_train['weight'] / (cardio_train['height']/100)**2 \n",
    "\n",
    "cardio_train['ap_difference'] = cardio_train['ap_hi'] - cardio_train['ap_lo']\n"
   ]
  },
  {
   "cell_type": "markdown",
   "id": "55fe9472",
   "metadata": {
    "slideshow": {
     "slide_type": "-"
    }
   },
   "source": [
    "## Bovendruk kan niet lager zijn dan onderdruk"
   ]
  },
  {
   "cell_type": "code",
   "execution_count": 14,
   "id": "95a5d34f",
   "metadata": {
    "slideshow": {
     "slide_type": "-"
    }
   },
   "outputs": [
    {
     "data": {
      "text/plain": [
       "(68764, 15)"
      ]
     },
     "execution_count": 14,
     "metadata": {},
     "output_type": "execute_result"
    }
   ],
   "source": [
    "# ap_hi kan niet lager zijn dan ap_lo\n",
    "cardio_train = cardio_train[:][cardio_train['ap_hi'] > cardio_train['ap_lo']]\n",
    "cardio_train.shape\n"
   ]
  },
  {
   "cell_type": "markdown",
   "id": "970d4798",
   "metadata": {
    "slideshow": {
     "slide_type": "slide"
    }
   },
   "source": [
    "# Modeling"
   ]
  },
  {
   "cell_type": "code",
   "execution_count": 85,
   "id": "77583f0f",
   "metadata": {},
   "outputs": [],
   "source": [
    "def CopyAndNormalize(toCopy, test, columnNames):\n",
    "    norm = toCopy.copy()\n",
    "    normtest = test.copy()\n",
    "    norm['gender'] = norm['gender']-1\n",
    "    normtest['gender'] = normtest['gender']-1\n",
    "    for col in columnNames:\n",
    "        normtest[col] = (norm[col]-norm[col].min()) / (norm[col].max()-norm[col].min())\n",
    "        norm[col] = (norm[col]-norm[col].min()) / (norm[col].max()-norm[col].min())\n",
    "    return (norm, normtest)\n"
   ]
  },
  {
   "cell_type": "code",
   "execution_count": 16,
   "id": "7fcaa93c-d7b3-4fcf-a0c6-5c6924867741",
   "metadata": {
    "slideshow": {
     "slide_type": "subslide"
    }
   },
   "outputs": [
    {
     "data": {
      "text/html": [
       "<div>\n",
       "<style scoped>\n",
       "    .dataframe tbody tr th:only-of-type {\n",
       "        vertical-align: middle;\n",
       "    }\n",
       "\n",
       "    .dataframe tbody tr th {\n",
       "        vertical-align: top;\n",
       "    }\n",
       "\n",
       "    .dataframe thead th {\n",
       "        text-align: right;\n",
       "    }\n",
       "</style>\n",
       "<table border=\"1\" class=\"dataframe\">\n",
       "  <thead>\n",
       "    <tr style=\"text-align: right;\">\n",
       "      <th></th>\n",
       "      <th>age</th>\n",
       "      <th>gender</th>\n",
       "      <th>ap_hi</th>\n",
       "      <th>ap_lo</th>\n",
       "      <th>cholesterol</th>\n",
       "      <th>gluc</th>\n",
       "      <th>smoke</th>\n",
       "      <th>alco</th>\n",
       "      <th>active</th>\n",
       "      <th>bmi</th>\n",
       "      <th>ap_difference</th>\n",
       "    </tr>\n",
       "  </thead>\n",
       "  <tbody>\n",
       "    <tr>\n",
       "      <th>0</th>\n",
       "      <td>50</td>\n",
       "      <td>2</td>\n",
       "      <td>110</td>\n",
       "      <td>80</td>\n",
       "      <td>1</td>\n",
       "      <td>1</td>\n",
       "      <td>0</td>\n",
       "      <td>0</td>\n",
       "      <td>1</td>\n",
       "      <td>21.967120</td>\n",
       "      <td>30</td>\n",
       "    </tr>\n",
       "    <tr>\n",
       "      <th>1</th>\n",
       "      <td>55</td>\n",
       "      <td>1</td>\n",
       "      <td>140</td>\n",
       "      <td>90</td>\n",
       "      <td>3</td>\n",
       "      <td>1</td>\n",
       "      <td>0</td>\n",
       "      <td>0</td>\n",
       "      <td>1</td>\n",
       "      <td>34.927679</td>\n",
       "      <td>50</td>\n",
       "    </tr>\n",
       "    <tr>\n",
       "      <th>2</th>\n",
       "      <td>51</td>\n",
       "      <td>1</td>\n",
       "      <td>130</td>\n",
       "      <td>70</td>\n",
       "      <td>3</td>\n",
       "      <td>1</td>\n",
       "      <td>0</td>\n",
       "      <td>0</td>\n",
       "      <td>0</td>\n",
       "      <td>23.507805</td>\n",
       "      <td>60</td>\n",
       "    </tr>\n",
       "    <tr>\n",
       "      <th>3</th>\n",
       "      <td>48</td>\n",
       "      <td>2</td>\n",
       "      <td>150</td>\n",
       "      <td>100</td>\n",
       "      <td>1</td>\n",
       "      <td>1</td>\n",
       "      <td>0</td>\n",
       "      <td>0</td>\n",
       "      <td>1</td>\n",
       "      <td>28.710479</td>\n",
       "      <td>50</td>\n",
       "    </tr>\n",
       "    <tr>\n",
       "      <th>4</th>\n",
       "      <td>47</td>\n",
       "      <td>1</td>\n",
       "      <td>100</td>\n",
       "      <td>60</td>\n",
       "      <td>1</td>\n",
       "      <td>1</td>\n",
       "      <td>0</td>\n",
       "      <td>0</td>\n",
       "      <td>0</td>\n",
       "      <td>23.011177</td>\n",
       "      <td>40</td>\n",
       "    </tr>\n",
       "    <tr>\n",
       "      <th>...</th>\n",
       "      <td>...</td>\n",
       "      <td>...</td>\n",
       "      <td>...</td>\n",
       "      <td>...</td>\n",
       "      <td>...</td>\n",
       "      <td>...</td>\n",
       "      <td>...</td>\n",
       "      <td>...</td>\n",
       "      <td>...</td>\n",
       "      <td>...</td>\n",
       "      <td>...</td>\n",
       "    </tr>\n",
       "    <tr>\n",
       "      <th>69995</th>\n",
       "      <td>52</td>\n",
       "      <td>2</td>\n",
       "      <td>120</td>\n",
       "      <td>80</td>\n",
       "      <td>1</td>\n",
       "      <td>1</td>\n",
       "      <td>1</td>\n",
       "      <td>0</td>\n",
       "      <td>1</td>\n",
       "      <td>26.927438</td>\n",
       "      <td>40</td>\n",
       "    </tr>\n",
       "    <tr>\n",
       "      <th>69996</th>\n",
       "      <td>61</td>\n",
       "      <td>1</td>\n",
       "      <td>140</td>\n",
       "      <td>90</td>\n",
       "      <td>2</td>\n",
       "      <td>2</td>\n",
       "      <td>0</td>\n",
       "      <td>0</td>\n",
       "      <td>1</td>\n",
       "      <td>50.472681</td>\n",
       "      <td>50</td>\n",
       "    </tr>\n",
       "    <tr>\n",
       "      <th>69997</th>\n",
       "      <td>52</td>\n",
       "      <td>2</td>\n",
       "      <td>180</td>\n",
       "      <td>90</td>\n",
       "      <td>3</td>\n",
       "      <td>1</td>\n",
       "      <td>0</td>\n",
       "      <td>1</td>\n",
       "      <td>0</td>\n",
       "      <td>31.353579</td>\n",
       "      <td>90</td>\n",
       "    </tr>\n",
       "    <tr>\n",
       "      <th>69998</th>\n",
       "      <td>61</td>\n",
       "      <td>1</td>\n",
       "      <td>135</td>\n",
       "      <td>80</td>\n",
       "      <td>1</td>\n",
       "      <td>2</td>\n",
       "      <td>0</td>\n",
       "      <td>0</td>\n",
       "      <td>0</td>\n",
       "      <td>27.099251</td>\n",
       "      <td>55</td>\n",
       "    </tr>\n",
       "    <tr>\n",
       "      <th>69999</th>\n",
       "      <td>56</td>\n",
       "      <td>1</td>\n",
       "      <td>120</td>\n",
       "      <td>80</td>\n",
       "      <td>2</td>\n",
       "      <td>1</td>\n",
       "      <td>0</td>\n",
       "      <td>0</td>\n",
       "      <td>1</td>\n",
       "      <td>24.913495</td>\n",
       "      <td>40</td>\n",
       "    </tr>\n",
       "  </tbody>\n",
       "</table>\n",
       "<p>68602 rows × 11 columns</p>\n",
       "</div>"
      ],
      "text/plain": [
       "       age  gender  ap_hi  ap_lo  cholesterol  gluc  smoke  alco  active  \\\n",
       "0       50       2    110     80            1     1      0     0       1   \n",
       "1       55       1    140     90            3     1      0     0       1   \n",
       "2       51       1    130     70            3     1      0     0       0   \n",
       "3       48       2    150    100            1     1      0     0       1   \n",
       "4       47       1    100     60            1     1      0     0       0   \n",
       "...    ...     ...    ...    ...          ...   ...    ...   ...     ...   \n",
       "69995   52       2    120     80            1     1      1     0       1   \n",
       "69996   61       1    140     90            2     2      0     0       1   \n",
       "69997   52       2    180     90            3     1      0     1       0   \n",
       "69998   61       1    135     80            1     2      0     0       0   \n",
       "69999   56       1    120     80            2     1      0     0       1   \n",
       "\n",
       "             bmi  ap_difference  \n",
       "0      21.967120             30  \n",
       "1      34.927679             50  \n",
       "2      23.507805             60  \n",
       "3      28.710479             50  \n",
       "4      23.011177             40  \n",
       "...          ...            ...  \n",
       "69995  26.927438             40  \n",
       "69996  50.472681             50  \n",
       "69997  31.353579             90  \n",
       "69998  27.099251             55  \n",
       "69999  24.913495             40  \n",
       "\n",
       "[68602 rows x 11 columns]"
      ]
     },
     "execution_count": 16,
     "metadata": {},
     "output_type": "execute_result"
    }
   ],
   "source": [
    "cardio_train.drop_duplicates(inplace=True)\n",
    "data = cardio_train\n",
    "data = data[~(data['bmi']>60)]\n",
    "\n",
    "\n",
    "high_ap_filter = ((data[\"ap_hi\"]>220) | (data[\"ap_lo\"]>180))\n",
    "data = data[~high_ap_filter]\n",
    "\n",
    "low_ap_filter = ((data[\"ap_hi\"] < 40) | (data[\"ap_lo\"] < 40))\n",
    "data = data[~low_ap_filter]\n",
    "\n",
    "labels = data['cardio']\n",
    "\n",
    "# Use this as a filter for which columns you dont want in your model\n",
    "columns_to_remove = ['cardio','id','height','weight']#,'gluc']\n",
    "for column in columns_to_remove:\n",
    "    data = data.loc[:, data.columns != column]\n",
    "\n",
    "\n",
    "data_train, data_test, label_train, label_test = train_test_split(data, labels, random_state=42, test_size=0.3, stratify=data['gender'])\n",
    "data"
   ]
  },
  {
   "cell_type": "code",
   "execution_count": 86,
   "id": "78f0e3eb",
   "metadata": {},
   "outputs": [],
   "source": [
    "\n",
    "cols = ['age','ap_hi','ap_lo','cholesterol','bmi','ap_difference','gluc']\n",
    "(normalized_train, normalized_test) = CopyAndNormalize(data_train,data_test,cols)\n"
   ]
  },
  {
   "cell_type": "code",
   "execution_count": 18,
   "id": "f9ec73a9-b0e8-41b3-b19f-5f5369297173",
   "metadata": {
    "slideshow": {
     "slide_type": "-"
    }
   },
   "outputs": [],
   "source": [
    "model = GaussianNB()\n",
    "model.fit(normalized_train, label_train)\n",
    "y_pred = model.predict(normalized_test)\n"
   ]
  },
  {
   "cell_type": "code",
   "execution_count": 19,
   "id": "ed665d4b",
   "metadata": {
    "slideshow": {
     "slide_type": "subslide"
    }
   },
   "outputs": [
    {
     "name": "stdout",
     "output_type": "stream",
     "text": [
      "[[8089 2376]\n",
      " [3412 6704]]\n",
      "3412 people of the 10116 that have a CVD didnt get diagnosed with it\n",
      "That is 16.58% of all patients that died because of no treatment!\n"
     ]
    }
   ],
   "source": [
    "#Score matrix\n",
    "from sklearn.metrics import accuracy_score\n",
    "from sklearn.metrics import confusion_matrix\n",
    "from sklearn.metrics import ConfusionMatrixDisplay\n",
    "\n",
    "\n",
    "conf_mat = confusion_matrix(label_test, y_pred)\n",
    "falsePositive = conf_mat[1][0]\n",
    "\n",
    "print(conf_mat)\n",
    "print(str(falsePositive) + \" people of the \" + str(conf_mat[1].sum()) + \" that have a CVD didnt get diagnosed with it\")\n",
    "print(\"That is \" + str(round(falsePositive/conf_mat.sum()*100,2)) + \"% of all patients that died because of no treatment!\")\n"
   ]
  },
  {
   "cell_type": "code",
   "execution_count": 20,
   "id": "ca77c902",
   "metadata": {
    "slideshow": {
     "slide_type": "-"
    }
   },
   "outputs": [
    {
     "name": "stdout",
     "output_type": "stream",
     "text": [
      "Accuracy van de training data: 71.5499%\n",
      "Accuracy van de test data: 71.877%\n",
      "Verschil: 0.33%\n"
     ]
    }
   ],
   "source": [
    "acc_train = round(model.score(normalized_train,label_train)*100, 4)\n",
    "print(\"Accuracy van de training data: \" + str(acc_train) + \"%\")\n",
    "\n",
    "acc_test = round(model.score(normalized_test,label_test)*100, 4)\n",
    "print(\"Accuracy van de test data: \" + str(acc_test) + \"%\")\n",
    "print(\"Verschil: \" + str(round(acc_test-acc_train,2)) + \"%\")\n"
   ]
  },
  {
   "cell_type": "code",
   "execution_count": 21,
   "id": "2bcbd545",
   "metadata": {},
   "outputs": [],
   "source": [
    "from tensorflow import keras\n",
    "from tensorflow.keras import layers"
   ]
  },
  {
   "cell_type": "code",
   "execution_count": 89,
   "id": "2a1f70d7",
   "metadata": {},
   "outputs": [
    {
     "name": "stdout",
     "output_type": "stream",
     "text": [
      "Model: \"sequential_21\"\n",
      "_________________________________________________________________\n",
      " Layer (type)                Output Shape              Param #   \n",
      "=================================================================\n",
      " dense_101 (Dense)           (None, 32)                384       \n",
      "                                                                 \n",
      " dense_102 (Dense)           (None, 64)                2112      \n",
      "                                                                 \n",
      " dense_103 (Dense)           (None, 128)               8320      \n",
      "                                                                 \n",
      " dense_104 (Dense)           (None, 256)               33024     \n",
      "                                                                 \n",
      " dense_105 (Dense)           (None, 512)               131584    \n",
      "                                                                 \n",
      " dense_106 (Dense)           (None, 512)               262656    \n",
      "                                                                 \n",
      " dense_107 (Dense)           (None, 512)               262656    \n",
      "                                                                 \n",
      " dense_108 (Dense)           (None, 1)                 513       \n",
      "                                                                 \n",
      "=================================================================\n",
      "Total params: 701,249\n",
      "Trainable params: 701,249\n",
      "Non-trainable params: 0\n",
      "_________________________________________________________________\n"
     ]
    }
   ],
   "source": [
    "# Import the sequential model and dense layer\n",
    "from keras.models import Sequential\n",
    "from keras.layers import Dense\n",
    "from tensorflow.python.keras.optimizer_v2.adam import Adam\n",
    "\n",
    "# Create a sequential model\n",
    "modelNN = Sequential()\n",
    "\n",
    "# Add a dense layer \n",
    "modelNN.add(Dense(32, input_shape=(11,), activation='relu'))\n",
    "modelNN.add(Dense(64, activation='relu'))\n",
    "modelNN.add(Dense(128, activation='relu'))\n",
    "modelNN.add(Dense(256, activation='relu'))\n",
    "modelNN.add(Dense(512, activation='relu'))\n",
    "modelNN.add(Dense(1, activation='sigmoid'))\n",
    "\n",
    "\n",
    "\n",
    "# Compile your model\n",
    "opt = Adam(learning_rate=0.1)\n",
    "modelNN.compile(loss='binary_crossentropy', optimizer='adam', metrics=['accuracy'],)\n",
    "\n",
    "# Display a summary of your model\n",
    "modelNN.summary()"
   ]
  },
  {
   "cell_type": "code",
   "execution_count": 90,
   "id": "b8f369b9",
   "metadata": {
    "scrolled": false
   },
   "outputs": [
    {
     "name": "stdout",
     "output_type": "stream",
     "text": [
      "Epoch 1/100\n",
      "1501/1501 [==============================] - 5s 3ms/step - loss: 0.5783 - accuracy: 0.7070\n",
      "Epoch 2/100\n",
      "1501/1501 [==============================] - 4s 3ms/step - loss: 0.5601 - accuracy: 0.7224\n",
      "Epoch 3/100\n",
      "1501/1501 [==============================] - 4s 3ms/step - loss: 0.5546 - accuracy: 0.7251\n",
      "Epoch 4/100\n",
      "1501/1501 [==============================] - 4s 3ms/step - loss: 0.5540 - accuracy: 0.7254\n",
      "Epoch 5/100\n",
      "1501/1501 [==============================] - 4s 3ms/step - loss: 0.5521 - accuracy: 0.7288\n",
      "Epoch 6/100\n",
      "1501/1501 [==============================] - 4s 3ms/step - loss: 0.5495 - accuracy: 0.7278\n",
      "Epoch 7/100\n",
      "1501/1501 [==============================] - 4s 3ms/step - loss: 0.5491 - accuracy: 0.7292\n",
      "Epoch 8/100\n",
      "1501/1501 [==============================] - 4s 3ms/step - loss: 0.5480 - accuracy: 0.7297\n",
      "Epoch 9/100\n",
      "1501/1501 [==============================] - 4s 3ms/step - loss: 0.5480 - accuracy: 0.7300\n",
      "Epoch 10/100\n",
      "1501/1501 [==============================] - 4s 3ms/step - loss: 0.5475 - accuracy: 0.7303\n",
      "Epoch 11/100\n",
      "1501/1501 [==============================] - 4s 3ms/step - loss: 0.5472 - accuracy: 0.7311\n",
      "Epoch 12/100\n",
      "1501/1501 [==============================] - 4s 3ms/step - loss: 0.5465 - accuracy: 0.7319\n",
      "Epoch 13/100\n",
      "1501/1501 [==============================] - 4s 3ms/step - loss: 0.5460 - accuracy: 0.7317\n",
      "Epoch 14/100\n",
      "1501/1501 [==============================] - 4s 3ms/step - loss: 0.5457 - accuracy: 0.7308\n",
      "Epoch 15/100\n",
      "1501/1501 [==============================] - 4s 3ms/step - loss: 0.5456 - accuracy: 0.7309\n",
      "Epoch 16/100\n",
      "1501/1501 [==============================] - 4s 3ms/step - loss: 0.5457 - accuracy: 0.7315\n",
      "Epoch 17/100\n",
      "1501/1501 [==============================] - 4s 3ms/step - loss: 0.5442 - accuracy: 0.7322\n",
      "Epoch 18/100\n",
      "1501/1501 [==============================] - 4s 3ms/step - loss: 0.5443 - accuracy: 0.7330\n",
      "Epoch 19/100\n",
      "1501/1501 [==============================] - 4s 3ms/step - loss: 0.5446 - accuracy: 0.7331\n",
      "Epoch 20/100\n",
      "1501/1501 [==============================] - 4s 3ms/step - loss: 0.5437 - accuracy: 0.7328\n",
      "Epoch 21/100\n",
      "1501/1501 [==============================] - 4s 3ms/step - loss: 0.5441 - accuracy: 0.7341\n",
      "Epoch 22/100\n",
      "1501/1501 [==============================] - 4s 3ms/step - loss: 0.5437 - accuracy: 0.7328\n",
      "Epoch 23/100\n",
      "1501/1501 [==============================] - 4s 3ms/step - loss: 0.5431 - accuracy: 0.7333\n",
      "Epoch 24/100\n",
      "1501/1501 [==============================] - 4s 3ms/step - loss: 0.5434 - accuracy: 0.7324\n",
      "Epoch 25/100\n",
      "1501/1501 [==============================] - 4s 3ms/step - loss: 0.5433 - accuracy: 0.7328\n",
      "Epoch 26/100\n",
      "1501/1501 [==============================] - 4s 3ms/step - loss: 0.5428 - accuracy: 0.7330\n",
      "Epoch 27/100\n",
      "1501/1501 [==============================] - 4s 3ms/step - loss: 0.5421 - accuracy: 0.7338\n",
      "Epoch 28/100\n",
      "1501/1501 [==============================] - 4s 3ms/step - loss: 0.5424 - accuracy: 0.7343\n",
      "Epoch 29/100\n",
      "1501/1501 [==============================] - 4s 3ms/step - loss: 0.5424 - accuracy: 0.7336\n",
      "Epoch 30/100\n",
      "1501/1501 [==============================] - 4s 3ms/step - loss: 0.5417 - accuracy: 0.7332\n",
      "Epoch 31/100\n",
      "1501/1501 [==============================] - 4s 3ms/step - loss: 0.5418 - accuracy: 0.7334\n",
      "Epoch 32/100\n",
      "1501/1501 [==============================] - 5s 3ms/step - loss: 0.5414 - accuracy: 0.7348\n",
      "Epoch 33/100\n",
      "1501/1501 [==============================] - 4s 3ms/step - loss: 0.5423 - accuracy: 0.7338\n",
      "Epoch 34/100\n",
      "1501/1501 [==============================] - 4s 3ms/step - loss: 0.5413 - accuracy: 0.7344\n",
      "Epoch 35/100\n",
      "1501/1501 [==============================] - 4s 3ms/step - loss: 0.5415 - accuracy: 0.7338\n",
      "Epoch 36/100\n",
      "1501/1501 [==============================] - 4s 3ms/step - loss: 0.5412 - accuracy: 0.7335\n",
      "Epoch 37/100\n",
      "1501/1501 [==============================] - 4s 3ms/step - loss: 0.5407 - accuracy: 0.7338\n",
      "Epoch 38/100\n",
      "1501/1501 [==============================] - 5s 3ms/step - loss: 0.5408 - accuracy: 0.7336\n",
      "Epoch 39/100\n",
      "1501/1501 [==============================] - 4s 3ms/step - loss: 0.5405 - accuracy: 0.7352\n",
      "Epoch 40/100\n",
      "1501/1501 [==============================] - 4s 3ms/step - loss: 0.5407 - accuracy: 0.7339\n",
      "Epoch 41/100\n",
      "1501/1501 [==============================] - 4s 3ms/step - loss: 0.5408 - accuracy: 0.7346\n",
      "Epoch 42/100\n",
      "1501/1501 [==============================] - 4s 3ms/step - loss: 0.5404 - accuracy: 0.7340\n",
      "Epoch 43/100\n",
      "1501/1501 [==============================] - 4s 3ms/step - loss: 0.5401 - accuracy: 0.7330\n",
      "Epoch 44/100\n",
      "1501/1501 [==============================] - 4s 3ms/step - loss: 0.5397 - accuracy: 0.7350\n",
      "Epoch 45/100\n",
      "1501/1501 [==============================] - 4s 3ms/step - loss: 0.5399 - accuracy: 0.7354\n",
      "Epoch 46/100\n",
      "1501/1501 [==============================] - 4s 3ms/step - loss: 0.5397 - accuracy: 0.7344\n",
      "Epoch 47/100\n",
      "1501/1501 [==============================] - 4s 3ms/step - loss: 0.5395 - accuracy: 0.7338\n",
      "Epoch 48/100\n",
      "1501/1501 [==============================] - 4s 3ms/step - loss: 0.5394 - accuracy: 0.7361\n",
      "Epoch 49/100\n",
      "1501/1501 [==============================] - 4s 3ms/step - loss: 0.5390 - accuracy: 0.7357\n",
      "Epoch 50/100\n",
      "1501/1501 [==============================] - 4s 3ms/step - loss: 0.5390 - accuracy: 0.7351\n",
      "Epoch 51/100\n",
      "1501/1501 [==============================] - 5s 3ms/step - loss: 0.5392 - accuracy: 0.7362\n",
      "Epoch 52/100\n",
      "1501/1501 [==============================] - 5s 3ms/step - loss: 0.5389 - accuracy: 0.7352\n",
      "Epoch 53/100\n",
      "1501/1501 [==============================] - 5s 3ms/step - loss: 0.5384 - accuracy: 0.7346\n",
      "Epoch 54/100\n",
      "1501/1501 [==============================] - 4s 3ms/step - loss: 0.5392 - accuracy: 0.7351\n",
      "Epoch 55/100\n",
      "1501/1501 [==============================] - 4s 3ms/step - loss: 0.5380 - accuracy: 0.7350\n",
      "Epoch 56/100\n",
      "1501/1501 [==============================] - 5s 3ms/step - loss: 0.5378 - accuracy: 0.7351\n",
      "Epoch 57/100\n",
      "1501/1501 [==============================] - 5s 3ms/step - loss: 0.5382 - accuracy: 0.7356\n",
      "Epoch 58/100\n",
      "1501/1501 [==============================] - 5s 3ms/step - loss: 0.5383 - accuracy: 0.7357\n",
      "Epoch 59/100\n",
      "1501/1501 [==============================] - 4s 3ms/step - loss: 0.5374 - accuracy: 0.7351\n",
      "Epoch 60/100\n",
      "1501/1501 [==============================] - 5s 3ms/step - loss: 0.5379 - accuracy: 0.7362\n",
      "Epoch 61/100\n",
      "1501/1501 [==============================] - 5s 3ms/step - loss: 0.5368 - accuracy: 0.7355\n",
      "Epoch 62/100\n",
      "1501/1501 [==============================] - 4s 3ms/step - loss: 0.5372 - accuracy: 0.7362\n",
      "Epoch 63/100\n",
      "1501/1501 [==============================] - 4s 3ms/step - loss: 0.5373 - accuracy: 0.7357\n",
      "Epoch 64/100\n",
      "1501/1501 [==============================] - 4s 3ms/step - loss: 0.5361 - accuracy: 0.7371\n",
      "Epoch 65/100\n",
      "1501/1501 [==============================] - 4s 3ms/step - loss: 0.5369 - accuracy: 0.7371\n",
      "Epoch 66/100\n",
      "1501/1501 [==============================] - 4s 3ms/step - loss: 0.5371 - accuracy: 0.7357\n",
      "Epoch 67/100\n",
      "1501/1501 [==============================] - 4s 3ms/step - loss: 0.5360 - accuracy: 0.7368\n",
      "Epoch 68/100\n",
      "1501/1501 [==============================] - 4s 3ms/step - loss: 0.5363 - accuracy: 0.7367\n",
      "Epoch 69/100\n",
      "1501/1501 [==============================] - 5s 3ms/step - loss: 0.5356 - accuracy: 0.7370\n",
      "Epoch 70/100\n",
      "1501/1501 [==============================] - 5s 3ms/step - loss: 0.5363 - accuracy: 0.7359\n",
      "Epoch 71/100\n",
      "1501/1501 [==============================] - 4s 3ms/step - loss: 0.5355 - accuracy: 0.7367\n",
      "Epoch 72/100\n",
      "1501/1501 [==============================] - 4s 3ms/step - loss: 0.5360 - accuracy: 0.7362\n",
      "Epoch 73/100\n",
      "1501/1501 [==============================] - 5s 3ms/step - loss: 0.5361 - accuracy: 0.7361\n",
      "Epoch 74/100\n",
      "1501/1501 [==============================] - 5s 3ms/step - loss: 0.5349 - accuracy: 0.7382\n",
      "Epoch 75/100\n",
      "1501/1501 [==============================] - 5s 3ms/step - loss: 0.5349 - accuracy: 0.7367\n",
      "Epoch 76/100\n",
      "1501/1501 [==============================] - 5s 3ms/step - loss: 0.5350 - accuracy: 0.7371\n",
      "Epoch 77/100\n",
      "1501/1501 [==============================] - 5s 3ms/step - loss: 0.5344 - accuracy: 0.7382\n",
      "Epoch 78/100\n",
      "1501/1501 [==============================] - 5s 3ms/step - loss: 0.5355 - accuracy: 0.7379\n",
      "Epoch 79/100\n"
     ]
    },
    {
     "name": "stdout",
     "output_type": "stream",
     "text": [
      "1501/1501 [==============================] - 5s 3ms/step - loss: 0.5345 - accuracy: 0.7383\n",
      "Epoch 80/100\n",
      "1501/1501 [==============================] - 4s 3ms/step - loss: 0.5343 - accuracy: 0.7374\n",
      "Epoch 81/100\n",
      "1501/1501 [==============================] - 4s 3ms/step - loss: 0.5354 - accuracy: 0.7373\n",
      "Epoch 82/100\n",
      "1501/1501 [==============================] - 4s 3ms/step - loss: 0.5347 - accuracy: 0.7383\n",
      "Epoch 83/100\n",
      "1501/1501 [==============================] - 4s 3ms/step - loss: 0.5340 - accuracy: 0.7381\n",
      "Epoch 84/100\n",
      "1501/1501 [==============================] - 4s 3ms/step - loss: 0.5339 - accuracy: 0.7373\n",
      "Epoch 85/100\n",
      "1501/1501 [==============================] - 4s 3ms/step - loss: 0.5331 - accuracy: 0.7370\n",
      "Epoch 86/100\n",
      "1501/1501 [==============================] - 4s 3ms/step - loss: 0.5347 - accuracy: 0.7374\n",
      "Epoch 87/100\n",
      "1501/1501 [==============================] - 5s 3ms/step - loss: 0.5330 - accuracy: 0.7379\n",
      "Epoch 88/100\n",
      "1501/1501 [==============================] - 4s 3ms/step - loss: 0.5325 - accuracy: 0.7385\n",
      "Epoch 89/100\n",
      "1501/1501 [==============================] - 4s 3ms/step - loss: 0.5340 - accuracy: 0.7378\n",
      "Epoch 90/100\n",
      "1501/1501 [==============================] - 4s 3ms/step - loss: 0.5341 - accuracy: 0.7381\n",
      "Epoch 91/100\n",
      "1501/1501 [==============================] - 4s 3ms/step - loss: 0.5328 - accuracy: 0.7372\n",
      "Epoch 92/100\n",
      "1501/1501 [==============================] - 5s 3ms/step - loss: 0.5320 - accuracy: 0.7386\n",
      "Epoch 93/100\n",
      "1501/1501 [==============================] - 4s 3ms/step - loss: 0.5320 - accuracy: 0.7400\n",
      "Epoch 94/100\n",
      "1501/1501 [==============================] - 4s 3ms/step - loss: 0.5318 - accuracy: 0.7378\n",
      "Epoch 95/100\n",
      "1501/1501 [==============================] - 4s 3ms/step - loss: 0.5330 - accuracy: 0.7388\n",
      "Epoch 96/100\n",
      "1501/1501 [==============================] - 5s 3ms/step - loss: 0.5312 - accuracy: 0.7394\n",
      "Epoch 97/100\n",
      "1501/1501 [==============================] - 4s 3ms/step - loss: 0.5316 - accuracy: 0.7397\n",
      "Epoch 98/100\n",
      "1501/1501 [==============================] - 5s 3ms/step - loss: 0.5309 - accuracy: 0.7398\n",
      "Epoch 99/100\n",
      "1501/1501 [==============================] - 4s 3ms/step - loss: 0.5308 - accuracy: 0.7404\n",
      "Epoch 100/100\n",
      "1501/1501 [==============================] - 5s 3ms/step - loss: 0.5317 - accuracy: 0.7385\n"
     ]
    }
   ],
   "source": [
    "\n",
    "\n",
    "history = modelNN.fit(normalized_train, label_train, epochs=100)"
   ]
  },
  {
   "cell_type": "code",
   "execution_count": 91,
   "id": "3617df2b",
   "metadata": {},
   "outputs": [
    {
     "data": {
      "image/png": "[encoded data removed]",
      "text/plain": [
       "<Figure size 432x288 with 1 Axes>"
      ]
     },
     "metadata": {
      "needs_background": "light"
     },
     "output_type": "display_data"
    },
    {
     "data": {
      "image/png": "[encoded data removed]",
      "text/plain": [
       "<Figure size 432x288 with 1 Axes>"
      ]
     },
     "metadata": {
      "needs_background": "light"
     },
     "output_type": "display_data"
    }
   ],
   "source": [
    "history_dict = history.history\n",
    "loss_values = history_dict[\"loss\"]\n",
    "#val_loss_values = history_dict[\"val_loss\"]\n",
    "epochs = range(1, len(loss_values) + 1)\n",
    "plt.plot(epochs, loss_values, \"bo\", label=\"Training loss\")\n",
    "#plt.plot(epochs, val_loss_values, \"b\", label=\"Validation loss\")\n",
    "plt.title(\"Training and validation loss\")\n",
    "plt.xlabel(\"Epochs\")\n",
    "plt.ylabel(\"Loss\")\n",
    "plt.legend()\n",
    "plt.show()\n",
    "plt.clf()\n",
    "acc = history_dict[\"accuracy\"]\n",
    "#val_acc = history_dict[\"val_accuracy\"]\n",
    "plt.plot(epochs, acc, \"bo\", label=\"Training acc\")\n",
    "#plt.plot(epochs, val_acc, \"b\", label=\"Validation acc\")\n",
    "plt.title(\"Training and validation accuracy\")\n",
    "plt.xlabel(\"Epochs\")\n",
    "plt.ylabel(\"Accuracy\")\n",
    "plt.legend()\n",
    "plt.show()"
   ]
  },
  {
   "cell_type": "code",
   "execution_count": 92,
   "id": "6d0b89f7",
   "metadata": {},
   "outputs": [
    {
     "name": "stdout",
     "output_type": "stream",
     "text": [
      "0.5084786939410135%\n"
     ]
    }
   ],
   "source": [
    "pred = modelNN.predict(normalized_test)\n",
    "pred = pred > 0.5\n",
    "pred = [bool(x) for x in pred]\n",
    "acc = label_test == pred\n",
    "print(str(acc.sum() / len(label_test)) +  \"%\")\n"
   ]
  },
  {
   "cell_type": "code",
   "execution_count": null,
   "id": "41587c67",
   "metadata": {},
   "outputs": [],
   "source": [
    "#modelNN.save('NNModel_73%_&_73%')"
   ]
  },
  {
   "cell_type": "markdown",
   "id": "9d614719",
   "metadata": {
    "slideshow": {
     "slide_type": "slide"
    }
   },
   "source": [
    "# Hoe nu verder?\n",
    "\n",
    "* Tot nu toe hebben we:</br>\n",
    "    Business Understanding</br>\n",
    "    Data Understanding</br>\n",
    "    Data Preparation</br>\n",
    "    Modeling van Naive Bayes</br>\n",
    "    </br>\n",
    "* Hoe nu verder:</br>\n",
    "    Modeling van meerdere algoritmes</br>\n",
    "    Volgende week (hopen we) bezig met echte data </br>\n",
    "    "
   ]
  }
 ],
 "metadata": {
  "celltoolbar": "Diavoorstelling",
  "kernelspec": {
   "display_name": "Python 3 (ipykernel)",
   "language": "python",
   "name": "python3"
  },
  "language_info": {
   "codemirror_mode": {
    "name": "ipython",
    "version": 3
   },
   "file_extension": ".py",
   "mimetype": "text/x-python",
   "name": "python",
   "nbconvert_exporter": "python",
   "pygments_lexer": "ipython3",
   "version": "3.9.7"
  }
 },
 "nbformat": 4,
 "nbformat_minor": 5
}
