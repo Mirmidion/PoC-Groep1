{
 "cells": [
  {
   "cell_type": "markdown",
   "id": "e5d8405d-c508-40f0-aaf9-343914d591f5",
   "metadata": {
    "slideshow": {
     "slide_type": "slide"
    },
    "tags": []
   },
   "source": [
    "# Business Understanding\n",
    "\n",
    "## Wie (de opdrachtgever)? \n",
    "\n",
    "Appbakkers (Corné & Guido) is een bedrijf die (mobiele) applicaties ontwikkeld.  "
   ]
  },
  {
   "cell_type": "markdown",
   "id": "f96bb855",
   "metadata": {
    "slideshow": {
     "slide_type": "subslide"
    }
   },
   "source": [
    "## Wat (de opdracht)? \n",
    "\n",
    "Bij opname van een patiënt wordt er een elektrocardiogram (ECG) gemaakt. Hierbij worden alle elektrische impulsen in het hart geregistreerd, waardoor kan worden afgeleid welke gebieden van het hart naar behoren functioneren.  \n",
    "\n",
    "Arts-onderzoekers vragen zich af of het aantal hartslagen per minuut een goede voorspeller kan zijn van de calciumscore. Gebruik de ECG-datasets om per dataset het gemiddelde aantal hartslagen per minuut te bepalen (bedenk goed welke onderdelen van de ECGs je hiervoor allemaal gaat gebruiken): indien deze boven de 100 slagen per minuut is heet dit tachycardie, indien deze onder de 60 slagen per minuut is heet dit bradycardie.  \n",
    "\n",
    "Onderzoek daarna met deze resultaten en de calciumscore uitkomsten of de aanwezigheid van bradycardie/tachycardie/normale hartslag (en meer specifiek het aantal hartslagen per minuut) de calciumscore kan voorspellen. Bepaal hierna of de datasets een regelmatig of onregelmatig hartritme vertonen en probeer je model hiermee te verbeteren. Kan je model nu accuraat de calciumscore voorspellen? Zijn er risico’s bij het gebruik van je model in de praktijk? Als je nog tijd over hebt, is het interessant om je gegevens te combineren met die van opdracht 1. Kan je elkaars modellen verder verbeteren?"
   ]
  },
  {
   "cell_type": "markdown",
   "id": "af2ab9af",
   "metadata": {
    "slideshow": {
     "slide_type": "subslide"
    }
   },
   "source": [
    "## Wanneer (tijdsframe)? \n",
    "\n",
    "Deze opdracht voeren we uit vanaf 13 april ’22. Op deze dag hebben we de kennismaking gehad met onze opdrachtgever. Hierin hebben we de opdracht besproken en een aantal afspraken gemaakt. De einddatum van de opdracht zal zijn op 3 juni ’22. "
   ]
  },
  {
   "cell_type": "markdown",
   "id": "818e7b1d",
   "metadata": {
    "slideshow": {
     "slide_type": "subslide"
    }
   },
   "source": [
    "## Waarom (doel)? \n",
    "\n",
    "Het doel is om te achterhalen of hartslag een goede voorspeller kan zijn van de calciumscore. \n",
    "\n",
    "Als het model gemaakt is om dit te voorspellen kan deze verbeterd/uitgebreid worden met de resultaten en de calciumscore uitkomsten of de aanwezigheid van bradycardie/tachycardie/normale hartslag (en meer specifiek het aantal hartslagen per minuut) de calciumscore kan voorspellen.  "
   ]
  },
  {
   "cell_type": "markdown",
   "id": "a30e08c9",
   "metadata": {
    "slideshow": {
     "slide_type": "subslide"
    }
   },
   "source": [
    "## Wat (wat gaan we gebruiken)? \n",
    "\n",
    "Door middel van Jupyter notebooks gaan wij het model ontwikkelen.  \n",
    "ECG viewer om ECG´s bestanden door te lezen. "
   ]
  },
  {
   "cell_type": "markdown",
   "id": "14e28c75-6a72-4de5-a74e-4d2eb7b89fdb",
   "metadata": {
    "slideshow": {
     "slide_type": "slide"
    }
   },
   "source": [
    "# Data Understanding\n",
    "\n",
    "Wij hebben 2 publieke datasets gekregen om mee bezig te gaan. Deze zijn \"cardio_train.csv\" en \"riskchartsampledata.xlsx\". Wij gaan gebruik maken van \"cardio_train.csv\", omdat deze het meeste lijkt op de data die we komende week ontvangen. Hieronder is te lezen wat de kolommen in deze dataset betekenen."
   ]
  },
  {
   "cell_type": "markdown",
   "id": "5968cadd-0145-46f8-b8bf-2a7912fd608c",
   "metadata": {
    "slideshow": {
     "slide_type": "subslide"
    }
   },
   "source": [
    "### \"cardio_train.csv\"\n",
    "\n",
    "* id          \n",
    "    De id van de rij, **integer** <br/>\n",
    "* age         \n",
    "    De leeftijd van de patient in dagen, **integer** <br/>\n",
    "* gender      \n",
    "    Het geslacht van de patient, waarbij 1 een man is en 2 een vrouw, **category** <br/>\n",
    "* height      \n",
    "    De lengte van de patient, gegeven in centimeters, **integer** <br/>\n",
    "* weight      \n",
    "    Het gewicht van de patient, gegeven in kilogram, **float** <br/>\n",
    "* ap_hi       \n",
    "    De bovendruk van de patient, **integer**  <br/>\n",
    "* ap_lo       \n",
    "    De onderdruk van de patient, **integer**  <br/>\n",
    "* cholesterol <br/>\n",
    "    Hoe veel cholesterol de patient heeft, **category**  <br/>\n",
    "* gluc        \n",
    "    Hoe veel glucoses de patient heeft, **category**  <br/>\n",
    "* smoke       \n",
    "    Of de patient rookt, **boolean** <br/>\n",
    "* alco        \n",
    "    Of de patient alcohol drinkt, **boolean** <br/>\n",
    "* active      \n",
    "    Of de patient actief is in het dagelijks leven, **boolean** <br/>\n",
    "* cardio      \n",
    "    Of de patient een cardiovasculaire ziekte heeft, **boolean** <br/>"
   ]
  },
  {
   "cell_type": "code",
   "execution_count": 1,
   "id": "c9de3cfd-d692-4f5a-92a0-19044189e14e",
   "metadata": {
    "slideshow": {
     "slide_type": "skip"
    }
   },
   "outputs": [],
   "source": [
    "import pandas as pd\n",
    "import numpy as np\n",
    "import matplotlib.pyplot as plt\n",
    "import seaborn as sns\n",
    "import pandas_profiling as pp\n",
    "from sklearn.model_selection import train_test_split\n",
    "from sklearn.naive_bayes import GaussianNB"
   ]
  },
  {
   "cell_type": "code",
   "execution_count": 2,
   "id": "133d1f38-aaad-40a0-99aa-59e790c1026f",
   "metadata": {
    "slideshow": {
     "slide_type": "skip"
    }
   },
   "outputs": [],
   "source": [
    "cardio_train = pd.read_csv(\"Data/cardio_train.csv\", delimiter=';')"
   ]
  },
  {
   "cell_type": "code",
   "execution_count": 3,
   "id": "51e2c7fc-5c35-4823-b0e9-8cf94f2422ff",
   "metadata": {
    "scrolled": false,
    "slideshow": {
     "slide_type": "subslide"
    }
   },
   "outputs": [],
   "source": [
    "report1 = pp.ProfileReport(cardio_train, progress_bar=False)\n",
    "report1.to_file('report1.html')\n"
   ]
  },
  {
   "cell_type": "markdown",
   "id": "f157f1d1",
   "metadata": {
    "slideshow": {
     "slide_type": "-"
    }
   },
   "source": [
    "[Report van cardio_train](report1.html)"
   ]
  },
  {
   "cell_type": "markdown",
   "id": "73f073ba",
   "metadata": {
    "slideshow": {
     "slide_type": "subslide"
    }
   },
   "source": [
    "## Gender in cardio_train"
   ]
  },
  {
   "cell_type": "code",
   "execution_count": 4,
   "id": "c2c8efcf-2179-42a2-88d0-fb62bdcba255",
   "metadata": {
    "scrolled": false,
    "slideshow": {
     "slide_type": "-"
    }
   },
   "outputs": [
    {
     "data": {
      "text/html": [
       "<div>\n",
       "<style scoped>\n",
       "    .dataframe tbody tr th:only-of-type {\n",
       "        vertical-align: middle;\n",
       "    }\n",
       "\n",
       "    .dataframe tbody tr th {\n",
       "        vertical-align: top;\n",
       "    }\n",
       "\n",
       "    .dataframe thead th {\n",
       "        text-align: right;\n",
       "    }\n",
       "</style>\n",
       "<table border=\"1\" class=\"dataframe\">\n",
       "  <thead>\n",
       "    <tr style=\"text-align: right;\">\n",
       "      <th></th>\n",
       "      <th>height</th>\n",
       "    </tr>\n",
       "    <tr>\n",
       "      <th>gender</th>\n",
       "      <th></th>\n",
       "    </tr>\n",
       "  </thead>\n",
       "  <tbody>\n",
       "    <tr>\n",
       "      <th>1</th>\n",
       "      <td>161.355612</td>\n",
       "    </tr>\n",
       "    <tr>\n",
       "      <th>2</th>\n",
       "      <td>169.947895</td>\n",
       "    </tr>\n",
       "  </tbody>\n",
       "</table>\n",
       "</div>"
      ],
      "text/plain": [
       "            height\n",
       "gender            \n",
       "1       161.355612\n",
       "2       169.947895"
      ]
     },
     "execution_count": 4,
     "metadata": {},
     "output_type": "execute_result"
    }
   ],
   "source": [
    "cardio_train[['gender','height']].groupby('gender').agg(np.mean)\n"
   ]
  },
  {
   "cell_type": "markdown",
   "id": "9c9c51c5-f18e-464f-9ed1-15e3bc100edf",
   "metadata": {
    "slideshow": {
     "slide_type": "skip"
    }
   },
   "source": [
    "De personen met 2 als gender zijn gemiddeld langer, dus is de 2 een man en 1 een vrouw."
   ]
  },
  {
   "cell_type": "markdown",
   "id": "94ac93c5-31ee-41be-af72-ec8ccff2a71d",
   "metadata": {
    "slideshow": {
     "slide_type": "slide"
    },
    "tags": []
   },
   "source": [
    "# Data Preparation"
   ]
  },
  {
   "cell_type": "code",
   "execution_count": 5,
   "id": "b585df08-d68b-4eda-8f84-b28d57242d77",
   "metadata": {
    "slideshow": {
     "slide_type": "skip"
    },
    "tags": []
   },
   "outputs": [],
   "source": [
    "#cardio_train.astype({'gender':'category','cholesterol':'category','gluc':'category','smoke':'bool','alco':'bool','active':'bool','cardio':'bool'}, copy=False)"
   ]
  },
  {
   "cell_type": "markdown",
   "id": "9be98d68-4af5-456f-8cd8-0c1e3d29f26e",
   "metadata": {
    "slideshow": {
     "slide_type": "-"
    }
   },
   "source": [
    "## Feature Engineering"
   ]
  },
  {
   "cell_type": "code",
   "execution_count": 6,
   "id": "51eeed6b-e7ca-4e82-9b0e-6bb4f8d50e47",
   "metadata": {
    "slideshow": {
     "slide_type": "skip"
    }
   },
   "outputs": [],
   "source": [
    "#if (1 in cardio_train['gender'].unique()):\n",
    "#    cardio_train['gender'] = ['male' if x is 2 else 'female' for x in cardio_train['gender']]\n",
    "#cardio_train.astype('category',copy=False)\n",
    "\n",
    "\n",
    "#cardio_train['age_category'] = pd.cut(cardio_train['age_in_years'], range(5,105,10))\n",
    "#age_cat = [str(x.left) + '-' + str(x.right-1) for x in cardio_train['age_category']]\n",
    "#cardio_train['age_category'] = age_cat\n",
    "#cardio_train['age_category'].astype('category',copy=False)"
   ]
  },
  {
   "cell_type": "code",
   "execution_count": 7,
   "id": "08418c88-02e3-41dd-9049-aab778ca1441",
   "metadata": {
    "slideshow": {
     "slide_type": "-"
    }
   },
   "outputs": [],
   "source": [
    "cardio_train['age'] = (cardio_train['age']/365).apply(lambda x: int(x))\n",
    "\n",
    "\n",
    "cardio_train['bmi'] = cardio_train['weight'] / (cardio_train['height']/100)**2 \n",
    "\n",
    "cardio_train['ap_difference'] = cardio_train['ap_hi'] - cardio_train['ap_lo']\n"
   ]
  },
  {
   "cell_type": "markdown",
   "id": "55fe9472",
   "metadata": {
    "slideshow": {
     "slide_type": "-"
    }
   },
   "source": [
    "## Bovendruk kan niet lager zijn dan onderdruk"
   ]
  },
  {
   "cell_type": "code",
   "execution_count": 8,
   "id": "95a5d34f",
   "metadata": {
    "slideshow": {
     "slide_type": "-"
    }
   },
   "outputs": [
    {
     "data": {
      "text/plain": [
       "(68764, 15)"
      ]
     },
     "execution_count": 8,
     "metadata": {},
     "output_type": "execute_result"
    }
   ],
   "source": [
    "# ap_hi kan niet lager zijn dan ap_lo\n",
    "cardio_train = cardio_train[:][cardio_train['ap_hi'] > cardio_train['ap_lo']]\n",
    "cardio_train.shape\n"
   ]
  },
  {
   "cell_type": "markdown",
   "id": "970d4798",
   "metadata": {
    "slideshow": {
     "slide_type": "slide"
    }
   },
   "source": [
    "# Modeling"
   ]
  },
  {
   "cell_type": "code",
   "execution_count": 9,
   "id": "77583f0f",
   "metadata": {},
   "outputs": [],
   "source": [
    "def CopyAndNormalize(toCopy, columnNames):\n",
    "    norm = toCopy.copy()\n",
    "    norm['gender'] = norm['gender']-1\n",
    "    for col in columnNames:\n",
    "        norm[col] = (norm[col]-norm[col].min()) / (norm[col].max()-norm[col].min())\n",
    "    return norm\n"
   ]
  },
  {
   "cell_type": "code",
   "execution_count": 10,
   "id": "7fcaa93c-d7b3-4fcf-a0c6-5c6924867741",
   "metadata": {
    "slideshow": {
     "slide_type": "subslide"
    }
   },
   "outputs": [
    {
     "data": {
      "text/html": [
       "<div>\n",
       "<style scoped>\n",
       "    .dataframe tbody tr th:only-of-type {\n",
       "        vertical-align: middle;\n",
       "    }\n",
       "\n",
       "    .dataframe tbody tr th {\n",
       "        vertical-align: top;\n",
       "    }\n",
       "\n",
       "    .dataframe thead th {\n",
       "        text-align: right;\n",
       "    }\n",
       "</style>\n",
       "<table border=\"1\" class=\"dataframe\">\n",
       "  <thead>\n",
       "    <tr style=\"text-align: right;\">\n",
       "      <th></th>\n",
       "      <th>age</th>\n",
       "      <th>gender</th>\n",
       "      <th>ap_hi</th>\n",
       "      <th>ap_lo</th>\n",
       "      <th>cholesterol</th>\n",
       "      <th>gluc</th>\n",
       "      <th>smoke</th>\n",
       "      <th>alco</th>\n",
       "      <th>active</th>\n",
       "      <th>bmi</th>\n",
       "      <th>ap_difference</th>\n",
       "    </tr>\n",
       "  </thead>\n",
       "  <tbody>\n",
       "    <tr>\n",
       "      <th>0</th>\n",
       "      <td>50</td>\n",
       "      <td>2</td>\n",
       "      <td>110</td>\n",
       "      <td>80</td>\n",
       "      <td>1</td>\n",
       "      <td>1</td>\n",
       "      <td>0</td>\n",
       "      <td>0</td>\n",
       "      <td>1</td>\n",
       "      <td>21.967120</td>\n",
       "      <td>30</td>\n",
       "    </tr>\n",
       "    <tr>\n",
       "      <th>1</th>\n",
       "      <td>55</td>\n",
       "      <td>1</td>\n",
       "      <td>140</td>\n",
       "      <td>90</td>\n",
       "      <td>3</td>\n",
       "      <td>1</td>\n",
       "      <td>0</td>\n",
       "      <td>0</td>\n",
       "      <td>1</td>\n",
       "      <td>34.927679</td>\n",
       "      <td>50</td>\n",
       "    </tr>\n",
       "    <tr>\n",
       "      <th>2</th>\n",
       "      <td>51</td>\n",
       "      <td>1</td>\n",
       "      <td>130</td>\n",
       "      <td>70</td>\n",
       "      <td>3</td>\n",
       "      <td>1</td>\n",
       "      <td>0</td>\n",
       "      <td>0</td>\n",
       "      <td>0</td>\n",
       "      <td>23.507805</td>\n",
       "      <td>60</td>\n",
       "    </tr>\n",
       "    <tr>\n",
       "      <th>3</th>\n",
       "      <td>48</td>\n",
       "      <td>2</td>\n",
       "      <td>150</td>\n",
       "      <td>100</td>\n",
       "      <td>1</td>\n",
       "      <td>1</td>\n",
       "      <td>0</td>\n",
       "      <td>0</td>\n",
       "      <td>1</td>\n",
       "      <td>28.710479</td>\n",
       "      <td>50</td>\n",
       "    </tr>\n",
       "    <tr>\n",
       "      <th>4</th>\n",
       "      <td>47</td>\n",
       "      <td>1</td>\n",
       "      <td>100</td>\n",
       "      <td>60</td>\n",
       "      <td>1</td>\n",
       "      <td>1</td>\n",
       "      <td>0</td>\n",
       "      <td>0</td>\n",
       "      <td>0</td>\n",
       "      <td>23.011177</td>\n",
       "      <td>40</td>\n",
       "    </tr>\n",
       "    <tr>\n",
       "      <th>...</th>\n",
       "      <td>...</td>\n",
       "      <td>...</td>\n",
       "      <td>...</td>\n",
       "      <td>...</td>\n",
       "      <td>...</td>\n",
       "      <td>...</td>\n",
       "      <td>...</td>\n",
       "      <td>...</td>\n",
       "      <td>...</td>\n",
       "      <td>...</td>\n",
       "      <td>...</td>\n",
       "    </tr>\n",
       "    <tr>\n",
       "      <th>69995</th>\n",
       "      <td>52</td>\n",
       "      <td>2</td>\n",
       "      <td>120</td>\n",
       "      <td>80</td>\n",
       "      <td>1</td>\n",
       "      <td>1</td>\n",
       "      <td>1</td>\n",
       "      <td>0</td>\n",
       "      <td>1</td>\n",
       "      <td>26.927438</td>\n",
       "      <td>40</td>\n",
       "    </tr>\n",
       "    <tr>\n",
       "      <th>69996</th>\n",
       "      <td>61</td>\n",
       "      <td>1</td>\n",
       "      <td>140</td>\n",
       "      <td>90</td>\n",
       "      <td>2</td>\n",
       "      <td>2</td>\n",
       "      <td>0</td>\n",
       "      <td>0</td>\n",
       "      <td>1</td>\n",
       "      <td>50.472681</td>\n",
       "      <td>50</td>\n",
       "    </tr>\n",
       "    <tr>\n",
       "      <th>69997</th>\n",
       "      <td>52</td>\n",
       "      <td>2</td>\n",
       "      <td>180</td>\n",
       "      <td>90</td>\n",
       "      <td>3</td>\n",
       "      <td>1</td>\n",
       "      <td>0</td>\n",
       "      <td>1</td>\n",
       "      <td>0</td>\n",
       "      <td>31.353579</td>\n",
       "      <td>90</td>\n",
       "    </tr>\n",
       "    <tr>\n",
       "      <th>69998</th>\n",
       "      <td>61</td>\n",
       "      <td>1</td>\n",
       "      <td>135</td>\n",
       "      <td>80</td>\n",
       "      <td>1</td>\n",
       "      <td>2</td>\n",
       "      <td>0</td>\n",
       "      <td>0</td>\n",
       "      <td>0</td>\n",
       "      <td>27.099251</td>\n",
       "      <td>55</td>\n",
       "    </tr>\n",
       "    <tr>\n",
       "      <th>69999</th>\n",
       "      <td>56</td>\n",
       "      <td>1</td>\n",
       "      <td>120</td>\n",
       "      <td>80</td>\n",
       "      <td>2</td>\n",
       "      <td>1</td>\n",
       "      <td>0</td>\n",
       "      <td>0</td>\n",
       "      <td>1</td>\n",
       "      <td>24.913495</td>\n",
       "      <td>40</td>\n",
       "    </tr>\n",
       "  </tbody>\n",
       "</table>\n",
       "<p>68602 rows × 11 columns</p>\n",
       "</div>"
      ],
      "text/plain": [
       "       age  gender  ap_hi  ap_lo  cholesterol  gluc  smoke  alco  active  \\\n",
       "0       50       2    110     80            1     1      0     0       1   \n",
       "1       55       1    140     90            3     1      0     0       1   \n",
       "2       51       1    130     70            3     1      0     0       0   \n",
       "3       48       2    150    100            1     1      0     0       1   \n",
       "4       47       1    100     60            1     1      0     0       0   \n",
       "...    ...     ...    ...    ...          ...   ...    ...   ...     ...   \n",
       "69995   52       2    120     80            1     1      1     0       1   \n",
       "69996   61       1    140     90            2     2      0     0       1   \n",
       "69997   52       2    180     90            3     1      0     1       0   \n",
       "69998   61       1    135     80            1     2      0     0       0   \n",
       "69999   56       1    120     80            2     1      0     0       1   \n",
       "\n",
       "             bmi  ap_difference  \n",
       "0      21.967120             30  \n",
       "1      34.927679             50  \n",
       "2      23.507805             60  \n",
       "3      28.710479             50  \n",
       "4      23.011177             40  \n",
       "...          ...            ...  \n",
       "69995  26.927438             40  \n",
       "69996  50.472681             50  \n",
       "69997  31.353579             90  \n",
       "69998  27.099251             55  \n",
       "69999  24.913495             40  \n",
       "\n",
       "[68602 rows x 11 columns]"
      ]
     },
     "execution_count": 10,
     "metadata": {},
     "output_type": "execute_result"
    }
   ],
   "source": [
    "cardio_train.drop_duplicates(inplace=True)\n",
    "data = cardio_train\n",
    "data = data[~(data['bmi']>60)]\n",
    "\n",
    "\n",
    "high_ap_filter = ((data[\"ap_hi\"]>220) | (data[\"ap_lo\"]>180))\n",
    "data = data[~high_ap_filter]\n",
    "\n",
    "low_ap_filter = ((data[\"ap_hi\"] < 40) | (data[\"ap_lo\"] < 40))\n",
    "data = data[~low_ap_filter]\n",
    "\n",
    "labels = data['cardio']\n",
    "\n",
    "# Use this as a filter for which columns you dont want in your model\n",
    "columns_to_remove = ['cardio','id','height','weight']#,'gluc']\n",
    "for column in columns_to_remove:\n",
    "    data = data.loc[:, data.columns != column]\n",
    "\n",
    "\n",
    "data_train, data_test, label_train, label_test = train_test_split(data, labels, random_state=42, test_size=0.3, stratify=data['gender'])\n",
    "data"
   ]
  },
  {
   "cell_type": "code",
   "execution_count": 11,
   "id": "f9ec73a9-b0e8-41b3-b19f-5f5369297173",
   "metadata": {
    "slideshow": {
     "slide_type": "-"
    }
   },
   "outputs": [
    {
     "ename": "NameError",
     "evalue": "name 'normalized_train' is not defined",
     "output_type": "error",
     "traceback": [
      "\u001b[1;31m---------------------------------------------------------------------------\u001b[0m",
      "\u001b[1;31mNameError\u001b[0m                                 Traceback (most recent call last)",
      "\u001b[1;32m~\\AppData\\Local\\Temp/ipykernel_9536/2440384886.py\u001b[0m in \u001b[0;36m<module>\u001b[1;34m\u001b[0m\n\u001b[0;32m      1\u001b[0m \u001b[0mmodel\u001b[0m \u001b[1;33m=\u001b[0m \u001b[0mGaussianNB\u001b[0m\u001b[1;33m(\u001b[0m\u001b[1;33m)\u001b[0m\u001b[1;33m\u001b[0m\u001b[1;33m\u001b[0m\u001b[0m\n\u001b[1;32m----> 2\u001b[1;33m \u001b[0mmodel\u001b[0m\u001b[1;33m.\u001b[0m\u001b[0mfit\u001b[0m\u001b[1;33m(\u001b[0m\u001b[0mnormalized_train\u001b[0m\u001b[1;33m,\u001b[0m \u001b[0mlabel_train\u001b[0m\u001b[1;33m)\u001b[0m\u001b[1;33m\u001b[0m\u001b[1;33m\u001b[0m\u001b[0m\n\u001b[0m\u001b[0;32m      3\u001b[0m \u001b[0my_pred\u001b[0m \u001b[1;33m=\u001b[0m \u001b[0mmodel\u001b[0m\u001b[1;33m.\u001b[0m\u001b[0mpredict\u001b[0m\u001b[1;33m(\u001b[0m\u001b[0mnormalized_test\u001b[0m\u001b[1;33m)\u001b[0m\u001b[1;33m\u001b[0m\u001b[1;33m\u001b[0m\u001b[0m\n",
      "\u001b[1;31mNameError\u001b[0m: name 'normalized_train' is not defined"
     ]
    }
   ],
   "source": [
    "model = GaussianNB()\n",
    "model.fit(normalized_train, label_train)\n",
    "y_pred = model.predict(normalized_test)\n"
   ]
  },
  {
   "cell_type": "code",
   "execution_count": null,
   "id": "ed665d4b",
   "metadata": {
    "slideshow": {
     "slide_type": "subslide"
    }
   },
   "outputs": [],
   "source": [
    "#Score matrix\n",
    "from sklearn.metrics import accuracy_score\n",
    "from sklearn.metrics import confusion_matrix\n",
    "from sklearn.metrics import ConfusionMatrixDisplay\n",
    "\n",
    "\n",
    "conf_mat = confusion_matrix(label_test, y_pred)\n",
    "falsePositive = conf_mat[1][0]\n",
    "\n",
    "print(conf_mat)\n",
    "print(str(falsePositive) + \" people of the \" + str(conf_mat[1].sum()) + \" that have a CVD didnt get diagnosed with it\")\n",
    "print(\"That is \" + str(round(falsePositive/conf_mat.sum()*100,2)) + \"% of all patients that died because of no treatment!\")\n"
   ]
  },
  {
   "cell_type": "code",
   "execution_count": 12,
   "id": "ca77c902",
   "metadata": {
    "slideshow": {
     "slide_type": "-"
    }
   },
   "outputs": [
    {
     "ename": "NameError",
     "evalue": "name 'normalized_train' is not defined",
     "output_type": "error",
     "traceback": [
      "\u001b[1;31m---------------------------------------------------------------------------\u001b[0m",
      "\u001b[1;31mNameError\u001b[0m                                 Traceback (most recent call last)",
      "\u001b[1;32m~\\AppData\\Local\\Temp/ipykernel_9536/2072520621.py\u001b[0m in \u001b[0;36m<module>\u001b[1;34m\u001b[0m\n\u001b[1;32m----> 1\u001b[1;33m \u001b[0macc_train\u001b[0m \u001b[1;33m=\u001b[0m \u001b[0mround\u001b[0m\u001b[1;33m(\u001b[0m\u001b[0mmodel\u001b[0m\u001b[1;33m.\u001b[0m\u001b[0mscore\u001b[0m\u001b[1;33m(\u001b[0m\u001b[0mnormalized_train\u001b[0m\u001b[1;33m,\u001b[0m\u001b[0mlabel_train\u001b[0m\u001b[1;33m)\u001b[0m\u001b[1;33m*\u001b[0m\u001b[1;36m100\u001b[0m\u001b[1;33m,\u001b[0m \u001b[1;36m4\u001b[0m\u001b[1;33m)\u001b[0m\u001b[1;33m\u001b[0m\u001b[1;33m\u001b[0m\u001b[0m\n\u001b[0m\u001b[0;32m      2\u001b[0m \u001b[0mprint\u001b[0m\u001b[1;33m(\u001b[0m\u001b[1;34m\"Accuracy van de training data: \"\u001b[0m \u001b[1;33m+\u001b[0m \u001b[0mstr\u001b[0m\u001b[1;33m(\u001b[0m\u001b[0macc_train\u001b[0m\u001b[1;33m)\u001b[0m \u001b[1;33m+\u001b[0m \u001b[1;34m\"%\"\u001b[0m\u001b[1;33m)\u001b[0m\u001b[1;33m\u001b[0m\u001b[1;33m\u001b[0m\u001b[0m\n\u001b[0;32m      3\u001b[0m \u001b[1;33m\u001b[0m\u001b[0m\n\u001b[0;32m      4\u001b[0m \u001b[0macc_test\u001b[0m \u001b[1;33m=\u001b[0m \u001b[0mround\u001b[0m\u001b[1;33m(\u001b[0m\u001b[0mmodel\u001b[0m\u001b[1;33m.\u001b[0m\u001b[0mscore\u001b[0m\u001b[1;33m(\u001b[0m\u001b[0mnormalized_test\u001b[0m\u001b[1;33m,\u001b[0m\u001b[0mlabel_test\u001b[0m\u001b[1;33m)\u001b[0m\u001b[1;33m*\u001b[0m\u001b[1;36m100\u001b[0m\u001b[1;33m,\u001b[0m \u001b[1;36m4\u001b[0m\u001b[1;33m)\u001b[0m\u001b[1;33m\u001b[0m\u001b[1;33m\u001b[0m\u001b[0m\n\u001b[0;32m      5\u001b[0m \u001b[0mprint\u001b[0m\u001b[1;33m(\u001b[0m\u001b[1;34m\"Accuracy van de test data: \"\u001b[0m \u001b[1;33m+\u001b[0m \u001b[0mstr\u001b[0m\u001b[1;33m(\u001b[0m\u001b[0macc_test\u001b[0m\u001b[1;33m)\u001b[0m \u001b[1;33m+\u001b[0m \u001b[1;34m\"%\"\u001b[0m\u001b[1;33m)\u001b[0m\u001b[1;33m\u001b[0m\u001b[1;33m\u001b[0m\u001b[0m\n",
      "\u001b[1;31mNameError\u001b[0m: name 'normalized_train' is not defined"
     ]
    }
   ],
   "source": [
    "acc_train = round(model.score(normalized_train,label_train)*100, 4)\n",
    "print(\"Accuracy van de training data: \" + str(acc_train) + \"%\")\n",
    "\n",
    "acc_test = round(model.score(normalized_test,label_test)*100, 4)\n",
    "print(\"Accuracy van de test data: \" + str(acc_test) + \"%\")\n",
    "print(\"Verschil: \" + str(round(acc_test-acc_train,2)) + \"%\")\n"
   ]
  },
  {
   "cell_type": "code",
   "execution_count": 13,
   "id": "2bcbd545",
   "metadata": {},
   "outputs": [],
   "source": [
    "from tensorflow import keras\n",
    "from tensorflow.keras import layers"
   ]
  },
  {
   "cell_type": "code",
   "execution_count": 14,
   "id": "78f0e3eb",
   "metadata": {},
   "outputs": [],
   "source": [
    "\n",
    "cols = ['age','ap_hi','ap_lo','cholesterol','bmi','ap_difference','gluc']\n",
    "normalized_train = CopyAndNormalize(data_train,cols)\n",
    "normalized_test = CopyAndNormalize(data_test,cols)"
   ]
  },
  {
   "cell_type": "code",
   "execution_count": 17,
   "id": "2a1f70d7",
   "metadata": {},
   "outputs": [
    {
     "name": "stdout",
     "output_type": "stream",
     "text": [
      "Model: \"sequential_1\"\n",
      "_________________________________________________________________\n",
      " Layer (type)                Output Shape              Param #   \n",
      "=================================================================\n",
      " dense_6 (Dense)             (None, 32)                384       \n",
      "                                                                 \n",
      " dense_7 (Dense)             (None, 64)                2112      \n",
      "                                                                 \n",
      " dense_8 (Dense)             (None, 128)               8320      \n",
      "                                                                 \n",
      " dense_9 (Dense)             (None, 256)               33024     \n",
      "                                                                 \n",
      " dense_10 (Dense)            (None, 512)               131584    \n",
      "                                                                 \n",
      " dense_11 (Dense)            (None, 1)                 513       \n",
      "                                                                 \n",
      "=================================================================\n",
      "Total params: 175,937\n",
      "Trainable params: 175,937\n",
      "Non-trainable params: 0\n",
      "_________________________________________________________________\n"
     ]
    }
   ],
   "source": [
    "# Import the sequential model and dense layer\n",
    "from keras.models import Sequential\n",
    "from keras.layers import Dense\n",
    "from tensorflow.python.keras.optimizer_v2.adam import Adam\n",
    "\n",
    "# Create a sequential model\n",
    "modelNN = Sequential()\n",
    "\n",
    "# Add a dense layer \n",
    "modelNN.add(Dense(32, input_shape=(11,), activation='relu'))\n",
    "modelNN.add(Dense(64, activation='relu'))\n",
    "modelNN.add(Dense(128, activation='relu'))\n",
    "modelNN.add(Dense(256, activation='relu'))\n",
    "modelNN.add(Dense(512, activation='relu'))\n",
    "#modelNN.add(Dense(512, input_shape=(512,), activation='relu'))\n",
    "#modelNN.add(Dense(512, input_shape=(512,), activation='relu'))\n",
    "modelNN.add(Dense(1, activation='sigmoid'))\n",
    "\n",
    "\n",
    "\n",
    "# Compile your model\n",
    "opt = Adam(learning_rate=0.1)\n",
    "modelNN.compile(loss='binary_crossentropy', optimizer='adam', metrics=['accuracy'],)\n",
    "\n",
    "# Display a summary of your model\n",
    "modelNN.summary()"
   ]
  },
  {
   "cell_type": "code",
   "execution_count": 18,
   "id": "b8f369b9",
   "metadata": {
    "scrolled": false
   },
   "outputs": [
    {
     "name": "stdout",
     "output_type": "stream",
     "text": [
      "Epoch 1/50\n",
      "1501/1501 [==============================] - 2s 1ms/step - loss: 0.5749 - accuracy: 0.7056 - val_loss: 0.5518 - val_accuracy: 0.7285\n",
      "Epoch 2/50\n",
      "1501/1501 [==============================] - 2s 1ms/step - loss: 0.5573 - accuracy: 0.7242 - val_loss: 0.5609 - val_accuracy: 0.7245\n",
      "Epoch 3/50\n",
      "1501/1501 [==============================] - 2s 1ms/step - loss: 0.5547 - accuracy: 0.7261 - val_loss: 0.5549 - val_accuracy: 0.7299\n",
      "Epoch 4/50\n",
      "1501/1501 [==============================] - 2s 1ms/step - loss: 0.5517 - accuracy: 0.7283 - val_loss: 0.5482 - val_accuracy: 0.7310\n",
      "Epoch 5/50\n",
      "1501/1501 [==============================] - 2s 1ms/step - loss: 0.5506 - accuracy: 0.7279 - val_loss: 0.5480 - val_accuracy: 0.7315\n",
      "Epoch 6/50\n",
      "1501/1501 [==============================] - 2s 1ms/step - loss: 0.5498 - accuracy: 0.7293 - val_loss: 0.5483 - val_accuracy: 0.7319\n",
      "Epoch 7/50\n",
      "1501/1501 [==============================] - 2s 1ms/step - loss: 0.5482 - accuracy: 0.7301 - val_loss: 0.5533 - val_accuracy: 0.7309\n",
      "Epoch 8/50\n",
      "1501/1501 [==============================] - 2s 1ms/step - loss: 0.5488 - accuracy: 0.7295 - val_loss: 0.5427 - val_accuracy: 0.7359\n",
      "Epoch 9/50\n",
      "1501/1501 [==============================] - 2s 1ms/step - loss: 0.5472 - accuracy: 0.7306 - val_loss: 0.5468 - val_accuracy: 0.7327\n",
      "Epoch 10/50\n",
      "1501/1501 [==============================] - 2s 1ms/step - loss: 0.5468 - accuracy: 0.7308 - val_loss: 0.5490 - val_accuracy: 0.7315\n",
      "Epoch 11/50\n",
      "1501/1501 [==============================] - 2s 1ms/step - loss: 0.5467 - accuracy: 0.7311 - val_loss: 0.5439 - val_accuracy: 0.7337\n",
      "Epoch 12/50\n",
      "1501/1501 [==============================] - 2s 1ms/step - loss: 0.5457 - accuracy: 0.7307 - val_loss: 0.5448 - val_accuracy: 0.7322\n",
      "Epoch 13/50\n",
      "1501/1501 [==============================] - 2s 1ms/step - loss: 0.5453 - accuracy: 0.7316 - val_loss: 0.5465 - val_accuracy: 0.7296\n",
      "Epoch 14/50\n",
      "1501/1501 [==============================] - 2s 1ms/step - loss: 0.5458 - accuracy: 0.7324 - val_loss: 0.5436 - val_accuracy: 0.7365\n",
      "Epoch 15/50\n",
      "1501/1501 [==============================] - 2s 1ms/step - loss: 0.5452 - accuracy: 0.7311 - val_loss: 0.5502 - val_accuracy: 0.7351\n",
      "Epoch 16/50\n",
      "1501/1501 [==============================] - 2s 1ms/step - loss: 0.5453 - accuracy: 0.7313 - val_loss: 0.5457 - val_accuracy: 0.7324\n",
      "Epoch 17/50\n",
      "1501/1501 [==============================] - 2s 1ms/step - loss: 0.5450 - accuracy: 0.7312 - val_loss: 0.5433 - val_accuracy: 0.7343\n",
      "Epoch 18/50\n",
      "1501/1501 [==============================] - 2s 1ms/step - loss: 0.5441 - accuracy: 0.7328 - val_loss: 0.5446 - val_accuracy: 0.7310\n",
      "Epoch 19/50\n",
      "1501/1501 [==============================] - 2s 1ms/step - loss: 0.5438 - accuracy: 0.7326 - val_loss: 0.5531 - val_accuracy: 0.7307\n",
      "Epoch 20/50\n",
      "1501/1501 [==============================] - 2s 1ms/step - loss: 0.5436 - accuracy: 0.7317 - val_loss: 0.5434 - val_accuracy: 0.7349\n",
      "Epoch 21/50\n",
      "1501/1501 [==============================] - 2s 1ms/step - loss: 0.5437 - accuracy: 0.7323 - val_loss: 0.5447 - val_accuracy: 0.7351\n",
      "Epoch 22/50\n",
      "1501/1501 [==============================] - 2s 1ms/step - loss: 0.5434 - accuracy: 0.7321 - val_loss: 0.5443 - val_accuracy: 0.7363\n",
      "Epoch 23/50\n",
      "1501/1501 [==============================] - 2s 1ms/step - loss: 0.5433 - accuracy: 0.7327 - val_loss: 0.5432 - val_accuracy: 0.7340\n",
      "Epoch 24/50\n",
      "1501/1501 [==============================] - 2s 1ms/step - loss: 0.5431 - accuracy: 0.7325 - val_loss: 0.5497 - val_accuracy: 0.7336\n",
      "Epoch 25/50\n",
      "1501/1501 [==============================] - 2s 1ms/step - loss: 0.5427 - accuracy: 0.7334 - val_loss: 0.5434 - val_accuracy: 0.7360\n",
      "Epoch 26/50\n",
      "1501/1501 [==============================] - 2s 1ms/step - loss: 0.5425 - accuracy: 0.7332 - val_loss: 0.5446 - val_accuracy: 0.7384\n",
      "Epoch 27/50\n",
      "1501/1501 [==============================] - 2s 1ms/step - loss: 0.5425 - accuracy: 0.7328 - val_loss: 0.5434 - val_accuracy: 0.7349\n",
      "Epoch 28/50\n",
      "1501/1501 [==============================] - 2s 1ms/step - loss: 0.5419 - accuracy: 0.7336 - val_loss: 0.5422 - val_accuracy: 0.7353\n",
      "Epoch 29/50\n",
      "1501/1501 [==============================] - 2s 1ms/step - loss: 0.5419 - accuracy: 0.7338 - val_loss: 0.5452 - val_accuracy: 0.7349\n",
      "Epoch 30/50\n",
      "1501/1501 [==============================] - 2s 1ms/step - loss: 0.5413 - accuracy: 0.7345 - val_loss: 0.5428 - val_accuracy: 0.7361\n",
      "Epoch 31/50\n",
      "1501/1501 [==============================] - 2s 1ms/step - loss: 0.5410 - accuracy: 0.7334 - val_loss: 0.5464 - val_accuracy: 0.7318\n",
      "Epoch 32/50\n",
      "1501/1501 [==============================] - 2s 1ms/step - loss: 0.5413 - accuracy: 0.7339 - val_loss: 0.5484 - val_accuracy: 0.7320\n",
      "Epoch 33/50\n",
      "1501/1501 [==============================] - 2s 1ms/step - loss: 0.5407 - accuracy: 0.7351 - val_loss: 0.5525 - val_accuracy: 0.7343\n",
      "Epoch 34/50\n",
      "1501/1501 [==============================] - 2s 1ms/step - loss: 0.5408 - accuracy: 0.7332 - val_loss: 0.5459 - val_accuracy: 0.7338\n",
      "Epoch 35/50\n",
      "1501/1501 [==============================] - 2s 1ms/step - loss: 0.5407 - accuracy: 0.7341 - val_loss: 0.5441 - val_accuracy: 0.7362\n",
      "Epoch 36/50\n",
      "1501/1501 [==============================] - 2s 1ms/step - loss: 0.5403 - accuracy: 0.7342 - val_loss: 0.5483 - val_accuracy: 0.7348\n",
      "Epoch 37/50\n",
      "1501/1501 [==============================] - 2s 1ms/step - loss: 0.5398 - accuracy: 0.7358 - val_loss: 0.5442 - val_accuracy: 0.7330\n",
      "Epoch 38/50\n",
      "1501/1501 [==============================] - 2s 1ms/step - loss: 0.5407 - accuracy: 0.7339 - val_loss: 0.5475 - val_accuracy: 0.7341\n",
      "Epoch 39/50\n",
      "1501/1501 [==============================] - 2s 1ms/step - loss: 0.5398 - accuracy: 0.7341 - val_loss: 0.5465 - val_accuracy: 0.7328\n",
      "Epoch 40/50\n",
      "1501/1501 [==============================] - 2s 1ms/step - loss: 0.5397 - accuracy: 0.7351 - val_loss: 0.5485 - val_accuracy: 0.7276\n",
      "Epoch 41/50\n",
      "1501/1501 [==============================] - 2s 1ms/step - loss: 0.5392 - accuracy: 0.7347 - val_loss: 0.5455 - val_accuracy: 0.7349\n",
      "Epoch 42/50\n",
      "1501/1501 [==============================] - 2s 1ms/step - loss: 0.5389 - accuracy: 0.7348 - val_loss: 0.5464 - val_accuracy: 0.7375\n",
      "Epoch 43/50\n",
      "1501/1501 [==============================] - 2s 1ms/step - loss: 0.5391 - accuracy: 0.7349 - val_loss: 0.5469 - val_accuracy: 0.7303\n",
      "Epoch 44/50\n",
      "1501/1501 [==============================] - 2s 1ms/step - loss: 0.5385 - accuracy: 0.7360 - val_loss: 0.5457 - val_accuracy: 0.7345\n",
      "Epoch 45/50\n",
      "1501/1501 [==============================] - 2s 1ms/step - loss: 0.5394 - accuracy: 0.7350 - val_loss: 0.5453 - val_accuracy: 0.7356\n",
      "Epoch 46/50\n",
      "1501/1501 [==============================] - 2s 1ms/step - loss: 0.5381 - accuracy: 0.7360 - val_loss: 0.5480 - val_accuracy: 0.7356\n",
      "Epoch 47/50\n",
      "1501/1501 [==============================] - 2s 1ms/step - loss: 0.5381 - accuracy: 0.7363 - val_loss: 0.5468 - val_accuracy: 0.7360\n",
      "Epoch 48/50\n",
      "1501/1501 [==============================] - 2s 1ms/step - loss: 0.5380 - accuracy: 0.7346 - val_loss: 0.5456 - val_accuracy: 0.7362\n",
      "Epoch 49/50\n",
      "1501/1501 [==============================] - 2s 1ms/step - loss: 0.5377 - accuracy: 0.7359 - val_loss: 0.5513 - val_accuracy: 0.7331\n",
      "Epoch 50/50\n",
      "1501/1501 [==============================] - 2s 1ms/step - loss: 0.5376 - accuracy: 0.7367 - val_loss: 0.5553 - val_accuracy: 0.7314\n"
     ]
    },
    {
     "data": {
      "text/plain": [
       "<keras.callbacks.History at 0x2827df8dcd0>"
      ]
     },
     "execution_count": 18,
     "metadata": {},
     "output_type": "execute_result"
    }
   ],
   "source": [
    "modelNN.fit(normalized_train, label_train, epochs=50, validation_data=(normalized_test, label_test))"
   ]
  },
  {
   "cell_type": "code",
   "execution_count": 19,
   "id": "6d0b89f7",
   "metadata": {},
   "outputs": [
    {
     "name": "stdout",
     "output_type": "stream",
     "text": [
      "0.7314027501093241%\n"
     ]
    }
   ],
   "source": [
    "pred = modelNN.predict(normalized_test)\n",
    "pred = pred > 0.5\n",
    "pred = [bool(x) for x in pred]\n",
    "acc = label_test == pred\n",
    "print(str(acc.sum() / len(label_test)) +  \"%\")\n"
   ]
  },
  {
   "cell_type": "code",
   "execution_count": 22,
   "id": "41587c67",
   "metadata": {},
   "outputs": [
    {
     "name": "stdout",
     "output_type": "stream",
     "text": [
      "INFO:tensorflow:Assets written to: NNModel_73%_&_73%\\assets\n"
     ]
    }
   ],
   "source": [
    "modelNN.save('NNModel_73%_&_73%')"
   ]
  },
  {
   "cell_type": "markdown",
   "id": "9d614719",
   "metadata": {
    "slideshow": {
     "slide_type": "slide"
    }
   },
   "source": [
    "# Hoe nu verder?\n",
    "\n",
    "* Tot nu toe hebben we:</br>\n",
    "    Business Understanding</br>\n",
    "    Data Understanding</br>\n",
    "    Data Preparation</br>\n",
    "    Modeling van Naive Bayes</br>\n",
    "    </br>\n",
    "* Hoe nu verder:</br>\n",
    "    Modeling van meerdere algoritmes</br>\n",
    "    Volgende week (hopen we) bezig met echte data </br>\n",
    "    "
   ]
  }
 ],
 "metadata": {
  "celltoolbar": "Diavoorstelling",
  "kernelspec": {
   "display_name": "Python 3 (ipykernel)",
   "language": "python",
   "name": "python3"
  },
  "language_info": {
   "codemirror_mode": {
    "name": "ipython",
    "version": 3
   },
   "file_extension": ".py",
   "mimetype": "text/x-python",
   "name": "python",
   "nbconvert_exporter": "python",
   "pygments_lexer": "ipython3",
   "version": "3.9.7"
  }
 },
 "nbformat": 4,
 "nbformat_minor": 5
}
