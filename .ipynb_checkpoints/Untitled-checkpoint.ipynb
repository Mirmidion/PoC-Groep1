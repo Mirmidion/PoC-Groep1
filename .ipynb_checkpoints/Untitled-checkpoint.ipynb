{
 "cells": [
  {
   "cell_type": "markdown",
   "id": "e5d8405d-c508-40f0-aaf9-343914d591f5",
   "metadata": {
    "slideshow": {
     "slide_type": "slide"
    },
    "tags": []
   },
   "source": [
    "# Business Understanding\n",
    "\n",
    "## Wie (de opdrachtgever)? \n",
    "\n",
    "Appbakkers (Corné & Guido) is een bedrijf die (mobiele) applicaties ontwikkeld.  "
   ]
  },
  {
   "cell_type": "markdown",
   "id": "f96bb855",
   "metadata": {
    "slideshow": {
     "slide_type": "subslide"
    }
   },
   "source": [
    "## Wat (de opdracht)? \n",
    "\n",
    "Bij opname van een patiënt wordt er een elektrocardiogram (ECG) gemaakt. Hierbij worden alle elektrische impulsen in het hart geregistreerd, waardoor kan worden afgeleid welke gebieden van het hart naar behoren functioneren.  \n",
    "\n",
    "Arts-onderzoekers vragen zich af of het aantal hartslagen per minuut een goede voorspeller kan zijn van de calciumscore. Gebruik de ECG-datasets om per dataset het gemiddelde aantal hartslagen per minuut te bepalen (bedenk goed welke onderdelen van de ECGs je hiervoor allemaal gaat gebruiken): indien deze boven de 100 slagen per minuut is heet dit tachycardie, indien deze onder de 60 slagen per minuut is heet dit bradycardie.  \n",
    "\n",
    "Onderzoek daarna met deze resultaten en de calciumscore uitkomsten of de aanwezigheid van bradycardie/tachycardie/normale hartslag (en meer specifiek het aantal hartslagen per minuut) de calciumscore kan voorspellen. Bepaal hierna of de datasets een regelmatig of onregelmatig hartritme vertonen en probeer je model hiermee te verbeteren. Kan je model nu accuraat de calciumscore voorspellen? Zijn er risico’s bij het gebruik van je model in de praktijk? Als je nog tijd over hebt, is het interessant om je gegevens te combineren met die van opdracht 1. Kan je elkaars modellen verder verbeteren?"
   ]
  },
  {
   "cell_type": "markdown",
   "id": "af2ab9af",
   "metadata": {
    "slideshow": {
     "slide_type": "subslide"
    }
   },
   "source": [
    "## Wanneer (tijdsframe)? \n",
    "\n",
    "Deze opdracht voeren we uit vanaf 13 april ’22. Op deze dag hebben we de kennismaking gehad met onze opdrachtgever. Hierin hebben we de opdracht besproken en een aantal afspraken gemaakt. De einddatum van de opdracht zal zijn op 3 juni ’22. "
   ]
  },
  {
   "cell_type": "markdown",
   "id": "818e7b1d",
   "metadata": {
    "slideshow": {
     "slide_type": "subslide"
    }
   },
   "source": [
    "## Waarom (doel)? \n",
    "\n",
    "Het doel is om te achterhalen of hartslag een goede voorspeller kan zijn van de calciumscore. \n",
    "\n",
    "Als het model gemaakt is om dit te voorspellen kan deze verbeterd/uitgebreid worden met de resultaten en de calciumscore uitkomsten of de aanwezigheid van bradycardie/tachycardie/normale hartslag (en meer specifiek het aantal hartslagen per minuut) de calciumscore kan voorspellen.  "
   ]
  },
  {
   "cell_type": "markdown",
   "id": "a30e08c9",
   "metadata": {
    "slideshow": {
     "slide_type": "subslide"
    }
   },
   "source": [
    "## Wat (wat gaan we gebruiken)? \n",
    "\n",
    "Door middel van Jupyter notebooks gaan wij het model ontwikkelen.  \n",
    "ECG viewer om ECG´s bestanden door te lezen. "
   ]
  },
  {
   "cell_type": "markdown",
   "id": "14e28c75-6a72-4de5-a74e-4d2eb7b89fdb",
   "metadata": {
    "slideshow": {
     "slide_type": "slide"
    }
   },
   "source": [
    "# Data Understanding\n",
    "\n",
    "Wij hebben 2 publieke datasets gekregen om mee bezig te gaan. Deze zijn \"cardio_train.csv\" en \"riskchartsampledata.xlsx\". Hieronder is te lezen wat de kolommen in deze datasets betekenen."
   ]
  },
  {
   "cell_type": "markdown",
   "id": "5968cadd-0145-46f8-b8bf-2a7912fd608c",
   "metadata": {
    "slideshow": {
     "slide_type": "subslide"
    }
   },
   "source": [
    "### \"cardio_train.csv\"\n",
    "\n",
    "* id          \n",
    "    De id van de rij, **integer** <br/>\n",
    "* age         \n",
    "    De leeftijd van de patient in dagen, **integer** <br/>\n",
    "* gender      \n",
    "    Het geslacht van de patient, waarbij 1 een man is en 2 een vrouw, **category** <br/>\n",
    "* height      \n",
    "    De lengte van de patient, gegeven in centimeters, **integer** <br/>\n",
    "* weight      \n",
    "    Het gewicht van de patient, gegeven in kilogram, **float** <br/>\n",
    "* ap_hi       \n",
    "    De bovendruk van de patient, **integer**  <br/>\n",
    "* ap_lo       \n",
    "    De onderdruk van de patient, **integer**  <br/>\n",
    "* cholesterol <br/>\n",
    "    Hoe veel cholesterol de patient heeft, **category**  <br/>\n",
    "* gluc        \n",
    "    Hoe veel glucoses de patient heeft, **category**  <br/>\n",
    "* smoke       \n",
    "    Of de patient rookt, **boolean** <br/>\n",
    "* alco        \n",
    "    Of de patient alcohol drinkt, **boolean** <br/>\n",
    "* active      \n",
    "    Of de patient actief is in het dagelijks leven, **boolean** <br/>\n",
    "* cardio      \n",
    "    Of de patient een cardiovasculaire ziekte heeft, **boolean** <br/>"
   ]
  },
  {
   "cell_type": "markdown",
   "id": "bfca2a42-2a05-4546-98d2-40e3ded9e864",
   "metadata": {
    "slideshow": {
     "slide_type": "subslide"
    }
   },
   "source": [
    "### \"riskchartsampledata.xlsx\"\n",
    "\n",
    "* Age         \n",
    "    De leeftijd van de patient, gegeven in leeftijdsgroep, **category** <br/>\n",
    "* Sex         \n",
    "    Geslacht van de patient, **category** <br/>\n",
    "* Family history of CVD      \n",
    "    Of er een CVD in de family is/was, **boolean** <br/>\n",
    "* Diabetes Mellitus      \n",
    "    Of de patient diabetes heeft, **category** <br/>\n",
    "* High WHR <br/>\n",
    "    De Waist to hip ratio van de patient, waarbij bij vrouwen Yes is als het hoger is dan 0.8, en bij mannen hoger dan 0.95, **boolean** <br/>\n",
    "* Smoking status       \n",
    "    Of de patient rookt, **boolean**  <br/>\n",
    "* SBP       \n",
    "    De systolische bloeddruk van de patient, **category**  <br/>\n",
    "* Tch <br/>\n",
    "    De totale cholesterol van de patient, **category**  <br/>"
   ]
  },
  {
   "cell_type": "code",
   "execution_count": 1,
   "id": "c9de3cfd-d692-4f5a-92a0-19044189e14e",
   "metadata": {
    "slideshow": {
     "slide_type": "skip"
    }
   },
   "outputs": [],
   "source": [
    "import pandas as pd\n",
    "import numpy as np\n",
    "import matplotlib.pyplot as plt\n",
    "import seaborn as sns\n",
    "import pandas_profiling as pp\n",
    "from sklearn.model_selection import train_test_split\n",
    "from sklearn.naive_bayes import GaussianNB"
   ]
  },
  {
   "cell_type": "code",
   "execution_count": 2,
   "id": "133d1f38-aaad-40a0-99aa-59e790c1026f",
   "metadata": {
    "slideshow": {
     "slide_type": "skip"
    }
   },
   "outputs": [],
   "source": [
    "cardio_train = pd.read_csv(\"Data/cardio_train.csv\", delimiter=';')\n",
    "riskchart = pd.read_excel(\"Data/riskchartsampledata.xlsx\", true_values=['Yes','Diabetes','Smoker'], false_values=['No','Non-diabetes','Non-smoker'])"
   ]
  },
  {
   "cell_type": "code",
   "execution_count": 3,
   "id": "51e2c7fc-5c35-4823-b0e9-8cf94f2422ff",
   "metadata": {
    "scrolled": false,
    "slideshow": {
     "slide_type": "subslide"
    }
   },
   "outputs": [],
   "source": [
    "report1 = pp.ProfileReport(cardio_train, progress_bar=False)\n",
    "report1.to_file('report1.html')\n",
    "\n",
    "report2 = pp.ProfileReport(riskchart, progress_bar=False)\n",
    "report2.to_file('report2.html')"
   ]
  },
  {
   "cell_type": "markdown",
   "id": "f157f1d1",
   "metadata": {
    "slideshow": {
     "slide_type": "subslide"
    }
   },
   "source": [
    "[Report van cardio_train](report1.html)\n",
    "\n",
    "[Report van riskchart](report2.html)"
   ]
  },
  {
   "cell_type": "code",
   "execution_count": 4,
   "id": "65328ba9-7a35-4e6e-bd9a-f7d3ac776054",
   "metadata": {
    "slideshow": {
     "slide_type": "skip"
    },
    "tags": []
   },
   "outputs": [],
   "source": [
    "#sns.pairplot(cardio_train)"
   ]
  },
  {
   "cell_type": "code",
   "execution_count": 5,
   "id": "463b295b-0fb2-452d-9edb-8a32272087b2",
   "metadata": {
    "slideshow": {
     "slide_type": "skip"
    },
    "tags": []
   },
   "outputs": [],
   "source": [
    "#sns.pairplot(riskchart)"
   ]
  },
  {
   "cell_type": "markdown",
   "id": "73f073ba",
   "metadata": {
    "slideshow": {
     "slide_type": "subslide"
    }
   },
   "source": [
    "## Gender in cardio_train"
   ]
  },
  {
   "cell_type": "code",
   "execution_count": 6,
   "id": "c2c8efcf-2179-42a2-88d0-fb62bdcba255",
   "metadata": {
    "scrolled": false,
    "slideshow": {
     "slide_type": "subslide"
    }
   },
   "outputs": [
    {
     "data": {
      "text/html": [
       "<div>\n",
       "<style scoped>\n",
       "    .dataframe tbody tr th:only-of-type {\n",
       "        vertical-align: middle;\n",
       "    }\n",
       "\n",
       "    .dataframe tbody tr th {\n",
       "        vertical-align: top;\n",
       "    }\n",
       "\n",
       "    .dataframe thead th {\n",
       "        text-align: right;\n",
       "    }\n",
       "</style>\n",
       "<table border=\"1\" class=\"dataframe\">\n",
       "  <thead>\n",
       "    <tr style=\"text-align: right;\">\n",
       "      <th></th>\n",
       "      <th>height</th>\n",
       "    </tr>\n",
       "    <tr>\n",
       "      <th>gender</th>\n",
       "      <th></th>\n",
       "    </tr>\n",
       "  </thead>\n",
       "  <tbody>\n",
       "    <tr>\n",
       "      <th>1</th>\n",
       "      <td>161.355612</td>\n",
       "    </tr>\n",
       "    <tr>\n",
       "      <th>2</th>\n",
       "      <td>169.947895</td>\n",
       "    </tr>\n",
       "  </tbody>\n",
       "</table>\n",
       "</div>"
      ],
      "text/plain": [
       "            height\n",
       "gender            \n",
       "1       161.355612\n",
       "2       169.947895"
      ]
     },
     "execution_count": 6,
     "metadata": {},
     "output_type": "execute_result"
    }
   ],
   "source": [
    "cardio_train[['gender','height']].groupby('gender').agg(np.mean)"
   ]
  },
  {
   "cell_type": "markdown",
   "id": "9c9c51c5-f18e-464f-9ed1-15e3bc100edf",
   "metadata": {
    "slideshow": {
     "slide_type": "skip"
    }
   },
   "source": [
    "De personen met 2 als gender zijn gemiddeld langer, dus is de 2 een man en 1 een vrouw."
   ]
  },
  {
   "cell_type": "markdown",
   "id": "94ac93c5-31ee-41be-af72-ec8ccff2a71d",
   "metadata": {
    "slideshow": {
     "slide_type": "slide"
    },
    "tags": []
   },
   "source": [
    "# Data Preparation"
   ]
  },
  {
   "cell_type": "code",
   "execution_count": 7,
   "id": "b585df08-d68b-4eda-8f84-b28d57242d77",
   "metadata": {
    "slideshow": {
     "slide_type": "skip"
    },
    "tags": []
   },
   "outputs": [],
   "source": [
    "#cardio_train.astype({'gender':'category','cholesterol':'category','gluc':'category','smoke':'bool','alco':'bool','active':'bool','cardio':'bool'}, copy=False)"
   ]
  },
  {
   "cell_type": "code",
   "execution_count": 8,
   "id": "103b5800-fc2b-4317-8051-9e81f6d8c768",
   "metadata": {
    "slideshow": {
     "slide_type": "skip"
    },
    "tags": []
   },
   "outputs": [
    {
     "data": {
      "text/html": [
       "<div>\n",
       "<style scoped>\n",
       "    .dataframe tbody tr th:only-of-type {\n",
       "        vertical-align: middle;\n",
       "    }\n",
       "\n",
       "    .dataframe tbody tr th {\n",
       "        vertical-align: top;\n",
       "    }\n",
       "\n",
       "    .dataframe thead th {\n",
       "        text-align: right;\n",
       "    }\n",
       "</style>\n",
       "<table border=\"1\" class=\"dataframe\">\n",
       "  <thead>\n",
       "    <tr style=\"text-align: right;\">\n",
       "      <th></th>\n",
       "      <th>Age</th>\n",
       "      <th>Sex</th>\n",
       "      <th>Family history of CVD</th>\n",
       "      <th>Diabetes Mellitus</th>\n",
       "      <th>High WHR</th>\n",
       "      <th>Smoking status</th>\n",
       "      <th>SBP</th>\n",
       "      <th>Tch</th>\n",
       "    </tr>\n",
       "  </thead>\n",
       "  <tbody>\n",
       "    <tr>\n",
       "      <th>0</th>\n",
       "      <td>55-64</td>\n",
       "      <td>male</td>\n",
       "      <td>False</td>\n",
       "      <td>True</td>\n",
       "      <td>False</td>\n",
       "      <td>True</td>\n",
       "      <td>120-139 mmHg</td>\n",
       "      <td>150-200 mg/dL</td>\n",
       "    </tr>\n",
       "    <tr>\n",
       "      <th>1</th>\n",
       "      <td>65-74</td>\n",
       "      <td>male</td>\n",
       "      <td>False</td>\n",
       "      <td>True</td>\n",
       "      <td>False</td>\n",
       "      <td>False</td>\n",
       "      <td>140-159 mmHg</td>\n",
       "      <td>&lt;150 mg/dL</td>\n",
       "    </tr>\n",
       "    <tr>\n",
       "      <th>2</th>\n",
       "      <td>65-74</td>\n",
       "      <td>female</td>\n",
       "      <td>False</td>\n",
       "      <td>False</td>\n",
       "      <td>True</td>\n",
       "      <td>False</td>\n",
       "      <td>&gt;=160 mmHg</td>\n",
       "      <td>250-300 mg/dL</td>\n",
       "    </tr>\n",
       "    <tr>\n",
       "      <th>3</th>\n",
       "      <td>65-74</td>\n",
       "      <td>male</td>\n",
       "      <td>False</td>\n",
       "      <td>True</td>\n",
       "      <td>True</td>\n",
       "      <td>True</td>\n",
       "      <td>&gt;=160 mmHg</td>\n",
       "      <td>200-250 mg/dL</td>\n",
       "    </tr>\n",
       "    <tr>\n",
       "      <th>4</th>\n",
       "      <td>65-74</td>\n",
       "      <td>male</td>\n",
       "      <td>False</td>\n",
       "      <td>False</td>\n",
       "      <td>True</td>\n",
       "      <td>False</td>\n",
       "      <td>&gt;=160 mmHg</td>\n",
       "      <td>150-200 mg/dL</td>\n",
       "    </tr>\n",
       "    <tr>\n",
       "      <th>...</th>\n",
       "      <td>...</td>\n",
       "      <td>...</td>\n",
       "      <td>...</td>\n",
       "      <td>...</td>\n",
       "      <td>...</td>\n",
       "      <td>...</td>\n",
       "      <td>...</td>\n",
       "      <td>...</td>\n",
       "    </tr>\n",
       "    <tr>\n",
       "      <th>495</th>\n",
       "      <td>55-64</td>\n",
       "      <td>female</td>\n",
       "      <td>False</td>\n",
       "      <td>False</td>\n",
       "      <td>True</td>\n",
       "      <td>False</td>\n",
       "      <td>&gt;=160 mmHg</td>\n",
       "      <td>250-300 mg/dL</td>\n",
       "    </tr>\n",
       "    <tr>\n",
       "      <th>496</th>\n",
       "      <td>45-54</td>\n",
       "      <td>female</td>\n",
       "      <td>False</td>\n",
       "      <td>False</td>\n",
       "      <td>True</td>\n",
       "      <td>False</td>\n",
       "      <td>&lt;120 mmHg</td>\n",
       "      <td>200-250 mg/dL</td>\n",
       "    </tr>\n",
       "    <tr>\n",
       "      <th>497</th>\n",
       "      <td>45-54</td>\n",
       "      <td>male</td>\n",
       "      <td>False</td>\n",
       "      <td>False</td>\n",
       "      <td>True</td>\n",
       "      <td>False</td>\n",
       "      <td>120-139 mmHg</td>\n",
       "      <td>&lt;150 mg/dL</td>\n",
       "    </tr>\n",
       "    <tr>\n",
       "      <th>498</th>\n",
       "      <td>35-44</td>\n",
       "      <td>female</td>\n",
       "      <td>False</td>\n",
       "      <td>False</td>\n",
       "      <td>True</td>\n",
       "      <td>False</td>\n",
       "      <td>&lt;120 mmHg</td>\n",
       "      <td>250-300 mg/dL</td>\n",
       "    </tr>\n",
       "    <tr>\n",
       "      <th>499</th>\n",
       "      <td>55-64</td>\n",
       "      <td>male</td>\n",
       "      <td>False</td>\n",
       "      <td>False</td>\n",
       "      <td>True</td>\n",
       "      <td>True</td>\n",
       "      <td>120-139 mmHg</td>\n",
       "      <td>150-200 mg/dL</td>\n",
       "    </tr>\n",
       "  </tbody>\n",
       "</table>\n",
       "<p>500 rows × 8 columns</p>\n",
       "</div>"
      ],
      "text/plain": [
       "       Age     Sex  Family history of CVD  Diabetes Mellitus  High WHR  \\\n",
       "0    55-64    male                  False               True     False   \n",
       "1    65-74    male                  False               True     False   \n",
       "2    65-74  female                  False              False      True   \n",
       "3    65-74    male                  False               True      True   \n",
       "4    65-74    male                  False              False      True   \n",
       "..     ...     ...                    ...                ...       ...   \n",
       "495  55-64  female                  False              False      True   \n",
       "496  45-54  female                  False              False      True   \n",
       "497  45-54    male                  False              False      True   \n",
       "498  35-44  female                  False              False      True   \n",
       "499  55-64    male                  False              False      True   \n",
       "\n",
       "     Smoking status           SBP            Tch  \n",
       "0              True  120-139 mmHg  150-200 mg/dL  \n",
       "1             False  140-159 mmHg     <150 mg/dL  \n",
       "2             False    >=160 mmHg  250-300 mg/dL  \n",
       "3              True    >=160 mmHg  200-250 mg/dL  \n",
       "4             False    >=160 mmHg  150-200 mg/dL  \n",
       "..              ...           ...            ...  \n",
       "495           False    >=160 mmHg  250-300 mg/dL  \n",
       "496           False     <120 mmHg  200-250 mg/dL  \n",
       "497           False  120-139 mmHg     <150 mg/dL  \n",
       "498           False     <120 mmHg  250-300 mg/dL  \n",
       "499            True  120-139 mmHg  150-200 mg/dL  \n",
       "\n",
       "[500 rows x 8 columns]"
      ]
     },
     "execution_count": 8,
     "metadata": {},
     "output_type": "execute_result"
    }
   ],
   "source": [
    "riskchart.astype({'Age':'category','Sex':'category','SBP':'category','Tch':'category'},copy=False)"
   ]
  },
  {
   "cell_type": "markdown",
   "id": "9be98d68-4af5-456f-8cd8-0c1e3d29f26e",
   "metadata": {
    "slideshow": {
     "slide_type": "subslide"
    }
   },
   "source": [
    "## Aanpassen van data"
   ]
  },
  {
   "cell_type": "code",
   "execution_count": 9,
   "id": "51eeed6b-e7ca-4e82-9b0e-6bb4f8d50e47",
   "metadata": {
    "slideshow": {
     "slide_type": "skip"
    }
   },
   "outputs": [],
   "source": [
    "#if (1 in cardio_train['gender'].unique()):\n",
    "#    cardio_train['gender'] = ['male' if x is 2 else 'female' for x in cardio_train['gender']]\n",
    "#cardio_train.astype('category',copy=False)\n",
    "\n",
    "\n",
    "#cardio_train['age_category'] = pd.cut(cardio_train['age_in_years'], range(5,105,10))\n",
    "#age_cat = [str(x.left) + '-' + str(x.right-1) for x in cardio_train['age_category']]\n",
    "#cardio_train['age_category'] = age_cat\n",
    "#cardio_train['age_category'].astype('category',copy=False)"
   ]
  },
  {
   "cell_type": "code",
   "execution_count": 10,
   "id": "08418c88-02e3-41dd-9049-aab778ca1441",
   "metadata": {
    "slideshow": {
     "slide_type": "subslide"
    }
   },
   "outputs": [],
   "source": [
    "cardio_train['age'] = (cardio_train['age']/365).apply(lambda x: int(x))\n",
    "\n",
    "\n",
    "cardio_train['bmi'] = cardio_train['weight'] / (cardio_train['height']/100)**2 \n",
    "\n",
    "cardio_train['ap_difference'] = cardio_train['ap_hi'] - cardio_train['ap_lo']"
   ]
  },
  {
   "cell_type": "code",
   "execution_count": 11,
   "id": "ae4f9ee5",
   "metadata": {},
   "outputs": [
    {
     "data": {
      "text/plain": [
       "(68764, 15)"
      ]
     },
     "execution_count": 11,
     "metadata": {},
     "output_type": "execute_result"
    }
   ],
   "source": [
    "# ap_hi kan niet lager zijn dan ap_lo\n",
    "cardio_train = cardio_train[:][cardio_train['ap_hi'] > cardio_train['ap_lo']]\n",
    "cardio_train.shape"
   ]
  },
  {
   "cell_type": "code",
   "execution_count": 12,
   "id": "bcece0a7-1e4f-4e35-b7e6-a1915430dd76",
   "metadata": {
    "slideshow": {
     "slide_type": "skip"
    }
   },
   "outputs": [
    {
     "data": {
      "text/html": [
       "<div>\n",
       "<style scoped>\n",
       "    .dataframe tbody tr th:only-of-type {\n",
       "        vertical-align: middle;\n",
       "    }\n",
       "\n",
       "    .dataframe tbody tr th {\n",
       "        vertical-align: top;\n",
       "    }\n",
       "\n",
       "    .dataframe thead th {\n",
       "        text-align: right;\n",
       "    }\n",
       "</style>\n",
       "<table border=\"1\" class=\"dataframe\">\n",
       "  <thead>\n",
       "    <tr style=\"text-align: right;\">\n",
       "      <th></th>\n",
       "      <th>id</th>\n",
       "      <th>age</th>\n",
       "      <th>gender</th>\n",
       "      <th>height</th>\n",
       "      <th>weight</th>\n",
       "      <th>ap_hi</th>\n",
       "      <th>ap_lo</th>\n",
       "      <th>cholesterol</th>\n",
       "      <th>gluc</th>\n",
       "      <th>smoke</th>\n",
       "      <th>alco</th>\n",
       "      <th>active</th>\n",
       "      <th>cardio</th>\n",
       "      <th>bmi</th>\n",
       "      <th>ap_difference</th>\n",
       "    </tr>\n",
       "  </thead>\n",
       "  <tbody>\n",
       "    <tr>\n",
       "      <th>0</th>\n",
       "      <td>False</td>\n",
       "      <td>False</td>\n",
       "      <td>False</td>\n",
       "      <td>False</td>\n",
       "      <td>False</td>\n",
       "      <td>False</td>\n",
       "      <td>False</td>\n",
       "      <td>False</td>\n",
       "      <td>False</td>\n",
       "      <td>False</td>\n",
       "      <td>False</td>\n",
       "      <td>False</td>\n",
       "      <td>False</td>\n",
       "      <td>False</td>\n",
       "      <td>False</td>\n",
       "    </tr>\n",
       "    <tr>\n",
       "      <th>1</th>\n",
       "      <td>False</td>\n",
       "      <td>False</td>\n",
       "      <td>False</td>\n",
       "      <td>False</td>\n",
       "      <td>False</td>\n",
       "      <td>False</td>\n",
       "      <td>False</td>\n",
       "      <td>False</td>\n",
       "      <td>False</td>\n",
       "      <td>False</td>\n",
       "      <td>False</td>\n",
       "      <td>False</td>\n",
       "      <td>False</td>\n",
       "      <td>False</td>\n",
       "      <td>False</td>\n",
       "    </tr>\n",
       "    <tr>\n",
       "      <th>2</th>\n",
       "      <td>False</td>\n",
       "      <td>False</td>\n",
       "      <td>False</td>\n",
       "      <td>False</td>\n",
       "      <td>False</td>\n",
       "      <td>False</td>\n",
       "      <td>False</td>\n",
       "      <td>False</td>\n",
       "      <td>False</td>\n",
       "      <td>False</td>\n",
       "      <td>False</td>\n",
       "      <td>False</td>\n",
       "      <td>False</td>\n",
       "      <td>False</td>\n",
       "      <td>False</td>\n",
       "    </tr>\n",
       "    <tr>\n",
       "      <th>3</th>\n",
       "      <td>False</td>\n",
       "      <td>False</td>\n",
       "      <td>False</td>\n",
       "      <td>False</td>\n",
       "      <td>False</td>\n",
       "      <td>False</td>\n",
       "      <td>False</td>\n",
       "      <td>False</td>\n",
       "      <td>False</td>\n",
       "      <td>False</td>\n",
       "      <td>False</td>\n",
       "      <td>False</td>\n",
       "      <td>False</td>\n",
       "      <td>False</td>\n",
       "      <td>False</td>\n",
       "    </tr>\n",
       "    <tr>\n",
       "      <th>4</th>\n",
       "      <td>False</td>\n",
       "      <td>False</td>\n",
       "      <td>False</td>\n",
       "      <td>False</td>\n",
       "      <td>False</td>\n",
       "      <td>False</td>\n",
       "      <td>False</td>\n",
       "      <td>False</td>\n",
       "      <td>False</td>\n",
       "      <td>False</td>\n",
       "      <td>False</td>\n",
       "      <td>False</td>\n",
       "      <td>False</td>\n",
       "      <td>False</td>\n",
       "      <td>False</td>\n",
       "    </tr>\n",
       "    <tr>\n",
       "      <th>...</th>\n",
       "      <td>...</td>\n",
       "      <td>...</td>\n",
       "      <td>...</td>\n",
       "      <td>...</td>\n",
       "      <td>...</td>\n",
       "      <td>...</td>\n",
       "      <td>...</td>\n",
       "      <td>...</td>\n",
       "      <td>...</td>\n",
       "      <td>...</td>\n",
       "      <td>...</td>\n",
       "      <td>...</td>\n",
       "      <td>...</td>\n",
       "      <td>...</td>\n",
       "      <td>...</td>\n",
       "    </tr>\n",
       "    <tr>\n",
       "      <th>69995</th>\n",
       "      <td>False</td>\n",
       "      <td>False</td>\n",
       "      <td>False</td>\n",
       "      <td>False</td>\n",
       "      <td>False</td>\n",
       "      <td>False</td>\n",
       "      <td>False</td>\n",
       "      <td>False</td>\n",
       "      <td>False</td>\n",
       "      <td>False</td>\n",
       "      <td>False</td>\n",
       "      <td>False</td>\n",
       "      <td>False</td>\n",
       "      <td>False</td>\n",
       "      <td>False</td>\n",
       "    </tr>\n",
       "    <tr>\n",
       "      <th>69996</th>\n",
       "      <td>False</td>\n",
       "      <td>False</td>\n",
       "      <td>False</td>\n",
       "      <td>False</td>\n",
       "      <td>False</td>\n",
       "      <td>False</td>\n",
       "      <td>False</td>\n",
       "      <td>False</td>\n",
       "      <td>False</td>\n",
       "      <td>False</td>\n",
       "      <td>False</td>\n",
       "      <td>False</td>\n",
       "      <td>False</td>\n",
       "      <td>False</td>\n",
       "      <td>False</td>\n",
       "    </tr>\n",
       "    <tr>\n",
       "      <th>69997</th>\n",
       "      <td>False</td>\n",
       "      <td>False</td>\n",
       "      <td>False</td>\n",
       "      <td>False</td>\n",
       "      <td>False</td>\n",
       "      <td>False</td>\n",
       "      <td>False</td>\n",
       "      <td>False</td>\n",
       "      <td>False</td>\n",
       "      <td>False</td>\n",
       "      <td>False</td>\n",
       "      <td>False</td>\n",
       "      <td>False</td>\n",
       "      <td>False</td>\n",
       "      <td>False</td>\n",
       "    </tr>\n",
       "    <tr>\n",
       "      <th>69998</th>\n",
       "      <td>False</td>\n",
       "      <td>False</td>\n",
       "      <td>False</td>\n",
       "      <td>False</td>\n",
       "      <td>False</td>\n",
       "      <td>False</td>\n",
       "      <td>False</td>\n",
       "      <td>False</td>\n",
       "      <td>False</td>\n",
       "      <td>False</td>\n",
       "      <td>False</td>\n",
       "      <td>False</td>\n",
       "      <td>False</td>\n",
       "      <td>False</td>\n",
       "      <td>False</td>\n",
       "    </tr>\n",
       "    <tr>\n",
       "      <th>69999</th>\n",
       "      <td>False</td>\n",
       "      <td>False</td>\n",
       "      <td>False</td>\n",
       "      <td>False</td>\n",
       "      <td>False</td>\n",
       "      <td>False</td>\n",
       "      <td>False</td>\n",
       "      <td>False</td>\n",
       "      <td>False</td>\n",
       "      <td>False</td>\n",
       "      <td>False</td>\n",
       "      <td>False</td>\n",
       "      <td>False</td>\n",
       "      <td>False</td>\n",
       "      <td>False</td>\n",
       "    </tr>\n",
       "  </tbody>\n",
       "</table>\n",
       "<p>68764 rows × 15 columns</p>\n",
       "</div>"
      ],
      "text/plain": [
       "          id    age  gender  height  weight  ap_hi  ap_lo  cholesterol   gluc  \\\n",
       "0      False  False   False   False   False  False  False        False  False   \n",
       "1      False  False   False   False   False  False  False        False  False   \n",
       "2      False  False   False   False   False  False  False        False  False   \n",
       "3      False  False   False   False   False  False  False        False  False   \n",
       "4      False  False   False   False   False  False  False        False  False   \n",
       "...      ...    ...     ...     ...     ...    ...    ...          ...    ...   \n",
       "69995  False  False   False   False   False  False  False        False  False   \n",
       "69996  False  False   False   False   False  False  False        False  False   \n",
       "69997  False  False   False   False   False  False  False        False  False   \n",
       "69998  False  False   False   False   False  False  False        False  False   \n",
       "69999  False  False   False   False   False  False  False        False  False   \n",
       "\n",
       "       smoke   alco  active  cardio    bmi  ap_difference  \n",
       "0      False  False   False   False  False          False  \n",
       "1      False  False   False   False  False          False  \n",
       "2      False  False   False   False  False          False  \n",
       "3      False  False   False   False  False          False  \n",
       "4      False  False   False   False  False          False  \n",
       "...      ...    ...     ...     ...    ...            ...  \n",
       "69995  False  False   False   False  False          False  \n",
       "69996  False  False   False   False  False          False  \n",
       "69997  False  False   False   False  False          False  \n",
       "69998  False  False   False   False  False          False  \n",
       "69999  False  False   False   False  False          False  \n",
       "\n",
       "[68764 rows x 15 columns]"
      ]
     },
     "execution_count": 12,
     "metadata": {},
     "output_type": "execute_result"
    }
   ],
   "source": [
    "cardio_train.isnull()"
   ]
  },
  {
   "cell_type": "code",
   "execution_count": 28,
   "id": "f71e043f-c09c-4bcb-93b6-bc7a4ab3a664",
   "metadata": {
    "slideshow": {
     "slide_type": "skip"
    }
   },
   "outputs": [
    {
     "data": {
      "text/html": [
       "<div>\n",
       "<style scoped>\n",
       "    .dataframe tbody tr th:only-of-type {\n",
       "        vertical-align: middle;\n",
       "    }\n",
       "\n",
       "    .dataframe tbody tr th {\n",
       "        vertical-align: top;\n",
       "    }\n",
       "\n",
       "    .dataframe thead th {\n",
       "        text-align: right;\n",
       "    }\n",
       "</style>\n",
       "<table border=\"1\" class=\"dataframe\">\n",
       "  <thead>\n",
       "    <tr style=\"text-align: right;\">\n",
       "      <th></th>\n",
       "      <th>id</th>\n",
       "      <th>age</th>\n",
       "      <th>gender</th>\n",
       "      <th>height</th>\n",
       "      <th>weight</th>\n",
       "      <th>ap_hi</th>\n",
       "      <th>ap_lo</th>\n",
       "      <th>cholesterol</th>\n",
       "      <th>gluc</th>\n",
       "      <th>smoke</th>\n",
       "      <th>alco</th>\n",
       "      <th>active</th>\n",
       "      <th>cardio</th>\n",
       "      <th>bmi</th>\n",
       "      <th>ap_difference</th>\n",
       "    </tr>\n",
       "  </thead>\n",
       "  <tbody>\n",
       "    <tr>\n",
       "      <th>count</th>\n",
       "      <td>68764.000000</td>\n",
       "      <td>68764.000000</td>\n",
       "      <td>68764.000000</td>\n",
       "      <td>68764.000000</td>\n",
       "      <td>68764.000000</td>\n",
       "      <td>68764.000000</td>\n",
       "      <td>68764.000000</td>\n",
       "      <td>68764.000000</td>\n",
       "      <td>68764.000000</td>\n",
       "      <td>68764.000000</td>\n",
       "      <td>68764.000000</td>\n",
       "      <td>68764.000000</td>\n",
       "      <td>68764.000000</td>\n",
       "      <td>68764.000000</td>\n",
       "      <td>68764.000000</td>\n",
       "    </tr>\n",
       "    <tr>\n",
       "      <th>mean</th>\n",
       "      <td>49977.479641</td>\n",
       "      <td>52.827628</td>\n",
       "      <td>1.348613</td>\n",
       "      <td>164.359752</td>\n",
       "      <td>74.113846</td>\n",
       "      <td>128.840440</td>\n",
       "      <td>81.245230</td>\n",
       "      <td>1.364668</td>\n",
       "      <td>1.225583</td>\n",
       "      <td>0.087880</td>\n",
       "      <td>0.053342</td>\n",
       "      <td>0.803458</td>\n",
       "      <td>0.494765</td>\n",
       "      <td>27.521579</td>\n",
       "      <td>47.595210</td>\n",
       "    </tr>\n",
       "    <tr>\n",
       "      <th>std</th>\n",
       "      <td>28842.799204</td>\n",
       "      <td>6.769515</td>\n",
       "      <td>0.476535</td>\n",
       "      <td>8.190652</td>\n",
       "      <td>14.330819</td>\n",
       "      <td>155.203641</td>\n",
       "      <td>9.693745</td>\n",
       "      <td>0.678883</td>\n",
       "      <td>0.571448</td>\n",
       "      <td>0.283123</td>\n",
       "      <td>0.224716</td>\n",
       "      <td>0.397386</td>\n",
       "      <td>0.499976</td>\n",
       "      <td>6.067645</td>\n",
       "      <td>154.768117</td>\n",
       "    </tr>\n",
       "    <tr>\n",
       "      <th>min</th>\n",
       "      <td>0.000000</td>\n",
       "      <td>29.000000</td>\n",
       "      <td>1.000000</td>\n",
       "      <td>55.000000</td>\n",
       "      <td>11.000000</td>\n",
       "      <td>12.000000</td>\n",
       "      <td>-70.000000</td>\n",
       "      <td>1.000000</td>\n",
       "      <td>1.000000</td>\n",
       "      <td>0.000000</td>\n",
       "      <td>0.000000</td>\n",
       "      <td>0.000000</td>\n",
       "      <td>0.000000</td>\n",
       "      <td>3.471784</td>\n",
       "      <td>4.000000</td>\n",
       "    </tr>\n",
       "    <tr>\n",
       "      <th>25%</th>\n",
       "      <td>25008.750000</td>\n",
       "      <td>48.000000</td>\n",
       "      <td>1.000000</td>\n",
       "      <td>159.000000</td>\n",
       "      <td>65.000000</td>\n",
       "      <td>120.000000</td>\n",
       "      <td>80.000000</td>\n",
       "      <td>1.000000</td>\n",
       "      <td>1.000000</td>\n",
       "      <td>0.000000</td>\n",
       "      <td>0.000000</td>\n",
       "      <td>1.000000</td>\n",
       "      <td>0.000000</td>\n",
       "      <td>23.875115</td>\n",
       "      <td>40.000000</td>\n",
       "    </tr>\n",
       "    <tr>\n",
       "      <th>50%</th>\n",
       "      <td>50021.500000</td>\n",
       "      <td>53.000000</td>\n",
       "      <td>1.000000</td>\n",
       "      <td>165.000000</td>\n",
       "      <td>72.000000</td>\n",
       "      <td>120.000000</td>\n",
       "      <td>80.000000</td>\n",
       "      <td>1.000000</td>\n",
       "      <td>1.000000</td>\n",
       "      <td>0.000000</td>\n",
       "      <td>0.000000</td>\n",
       "      <td>1.000000</td>\n",
       "      <td>0.000000</td>\n",
       "      <td>26.346494</td>\n",
       "      <td>40.000000</td>\n",
       "    </tr>\n",
       "    <tr>\n",
       "      <th>75%</th>\n",
       "      <td>74867.250000</td>\n",
       "      <td>58.000000</td>\n",
       "      <td>2.000000</td>\n",
       "      <td>170.000000</td>\n",
       "      <td>82.000000</td>\n",
       "      <td>140.000000</td>\n",
       "      <td>90.000000</td>\n",
       "      <td>2.000000</td>\n",
       "      <td>1.000000</td>\n",
       "      <td>0.000000</td>\n",
       "      <td>0.000000</td>\n",
       "      <td>1.000000</td>\n",
       "      <td>1.000000</td>\n",
       "      <td>30.119376</td>\n",
       "      <td>50.000000</td>\n",
       "    </tr>\n",
       "    <tr>\n",
       "      <th>max</th>\n",
       "      <td>99999.000000</td>\n",
       "      <td>64.000000</td>\n",
       "      <td>2.000000</td>\n",
       "      <td>250.000000</td>\n",
       "      <td>200.000000</td>\n",
       "      <td>16020.000000</td>\n",
       "      <td>182.000000</td>\n",
       "      <td>3.000000</td>\n",
       "      <td>3.000000</td>\n",
       "      <td>1.000000</td>\n",
       "      <td>1.000000</td>\n",
       "      <td>1.000000</td>\n",
       "      <td>1.000000</td>\n",
       "      <td>298.666667</td>\n",
       "      <td>15940.000000</td>\n",
       "    </tr>\n",
       "  </tbody>\n",
       "</table>\n",
       "</div>"
      ],
      "text/plain": [
       "                 id           age        gender        height        weight  \\\n",
       "count  68764.000000  68764.000000  68764.000000  68764.000000  68764.000000   \n",
       "mean   49977.479641     52.827628      1.348613    164.359752     74.113846   \n",
       "std    28842.799204      6.769515      0.476535      8.190652     14.330819   \n",
       "min        0.000000     29.000000      1.000000     55.000000     11.000000   \n",
       "25%    25008.750000     48.000000      1.000000    159.000000     65.000000   \n",
       "50%    50021.500000     53.000000      1.000000    165.000000     72.000000   \n",
       "75%    74867.250000     58.000000      2.000000    170.000000     82.000000   \n",
       "max    99999.000000     64.000000      2.000000    250.000000    200.000000   \n",
       "\n",
       "              ap_hi         ap_lo   cholesterol          gluc         smoke  \\\n",
       "count  68764.000000  68764.000000  68764.000000  68764.000000  68764.000000   \n",
       "mean     128.840440     81.245230      1.364668      1.225583      0.087880   \n",
       "std      155.203641      9.693745      0.678883      0.571448      0.283123   \n",
       "min       12.000000    -70.000000      1.000000      1.000000      0.000000   \n",
       "25%      120.000000     80.000000      1.000000      1.000000      0.000000   \n",
       "50%      120.000000     80.000000      1.000000      1.000000      0.000000   \n",
       "75%      140.000000     90.000000      2.000000      1.000000      0.000000   \n",
       "max    16020.000000    182.000000      3.000000      3.000000      1.000000   \n",
       "\n",
       "               alco        active        cardio           bmi  ap_difference  \n",
       "count  68764.000000  68764.000000  68764.000000  68764.000000   68764.000000  \n",
       "mean       0.053342      0.803458      0.494765     27.521579      47.595210  \n",
       "std        0.224716      0.397386      0.499976      6.067645     154.768117  \n",
       "min        0.000000      0.000000      0.000000      3.471784       4.000000  \n",
       "25%        0.000000      1.000000      0.000000     23.875115      40.000000  \n",
       "50%        0.000000      1.000000      0.000000     26.346494      40.000000  \n",
       "75%        0.000000      1.000000      1.000000     30.119376      50.000000  \n",
       "max        1.000000      1.000000      1.000000    298.666667   15940.000000  "
      ]
     },
     "execution_count": 28,
     "metadata": {},
     "output_type": "execute_result"
    }
   ],
   "source": [
    "cardio_train.describe()"
   ]
  },
  {
   "cell_type": "markdown",
   "id": "970d4798",
   "metadata": {
    "slideshow": {
     "slide_type": "slide"
    }
   },
   "source": [
    "# Modeling"
   ]
  },
  {
   "cell_type": "code",
   "execution_count": 29,
   "id": "7fcaa93c-d7b3-4fcf-a0c6-5c6924867741",
   "metadata": {
    "slideshow": {
     "slide_type": "subslide"
    }
   },
   "outputs": [],
   "source": [
    "cardio_train.drop_duplicates(inplace=True)\n",
    "data = cardio_train\n",
    "data = data[~(data['bmi']>60)]\n",
    "\n",
    "high_ap_filter = ((data[\"ap_hi\"]>220) | (data[\"ap_lo\"]>180))\n",
    "data = data[~high_ap_filter]\n",
    "\n",
    "low_ap_filter = ((data[\"ap_hi\"] < 0) | (data[\"ap_lo\"] < 0))\n",
    "data = data[~low_ap_filter]\n",
    "\n",
    "labels = data['cardio']\n",
    "\n",
    "# Use this as a filter for which columns you dont want in your model\n",
    "columns_to_remove = ['cardio','id','height','weight','gluc']\n",
    "for column in columns_to_remove:\n",
    "    data = data.loc[:, data.columns != column]\n",
    "\n",
    "\n",
    "data_train, data_test, label_train, label_test = train_test_split(data, labels, random_state=42, test_size=0.3, stratify=data['gender'])"
   ]
  },
  {
   "cell_type": "code",
   "execution_count": 30,
   "id": "f9ec73a9-b0e8-41b3-b19f-5f5369297173",
   "metadata": {
    "slideshow": {
     "slide_type": "subslide"
    }
   },
   "outputs": [],
   "source": [
    "model = GaussianNB()\n",
    "model.fit(data_train, label_train)\n",
    "y_pred = model.predict(data_test)"
   ]
  },
  {
   "cell_type": "code",
   "execution_count": 31,
   "id": "ed665d4b",
   "metadata": {},
   "outputs": [
    {
     "name": "stdout",
     "output_type": "stream",
     "text": [
      "[[8711 1761]\n",
      " [3997 6127]]\n",
      "3997 people of the 10124 that have a CVD didnt get diagnosed with it\n",
      "That is 19.41% that died because of no treatment!\n"
     ]
    }
   ],
   "source": [
    "#Score matrix\n",
    "from sklearn.metrics import accuracy_score\n",
    "from sklearn.metrics import confusion_matrix\n",
    "from sklearn.metrics import ConfusionMatrixDisplay\n",
    "\n",
    "\n",
    "conf_mat = confusion_matrix(label_test, y_pred)\n",
    "falsePositive = conf_mat[1][0]\n",
    "\n",
    "print(conf_mat)\n",
    "print(str(falsePositive) + \" people of the \" + str(conf_mat[1].sum()) + \" that have a CVD didnt get diagnosed with it\")\n",
    "print(\"That is \" + str(round(falsePositive/conf_mat.sum()*100,2)) + \"% that died because of no treatment!\")"
   ]
  },
  {
   "cell_type": "code",
   "execution_count": 32,
   "id": "ca77c902",
   "metadata": {
    "slideshow": {
     "slide_type": "subslide"
    }
   },
   "outputs": [
    {
     "name": "stdout",
     "output_type": "stream",
     "text": [
      "Accuracy van de training data: 72.0826%\n",
      "Accuracy van de test data: 72.0431%\n",
      "Verschil: -0.04%\n"
     ]
    }
   ],
   "source": [
    "acc_train = round(model.score(data_train,label_train)*100, 4)\n",
    "print(\"Accuracy van de training data: \" + str(acc_train) + \"%\")\n",
    "\n",
    "acc_test = round(model.score(data_test,label_test)*100, 4)\n",
    "print(\"Accuracy van de test data: \" + str(acc_test) + \"%\")\n",
    "print(\"Verschil: \" + str(round(acc_test-acc_train,2)) + \"%\")"
   ]
  },
  {
   "cell_type": "code",
   "execution_count": null,
   "id": "3447e3c9",
   "metadata": {},
   "outputs": [],
   "source": []
  }
 ],
 "metadata": {
  "celltoolbar": "Diavoorstelling",
  "kernelspec": {
   "display_name": "Python 3 (ipykernel)",
   "language": "python",
   "name": "python3"
  },
  "language_info": {
   "codemirror_mode": {
    "name": "ipython",
    "version": 3
   },
   "file_extension": ".py",
   "mimetype": "text/x-python",
   "name": "python",
   "nbconvert_exporter": "python",
   "pygments_lexer": "ipython3",
   "version": "3.9.7"
  }
 },
 "nbformat": 4,
 "nbformat_minor": 5
}
