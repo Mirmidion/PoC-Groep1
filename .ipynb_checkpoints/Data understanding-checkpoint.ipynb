{
 "cells": [
  {
   "cell_type": "markdown",
   "id": "442a5527-8309-4140-a8b9-4d0c7be82b2b",
   "metadata": {
    "tags": []
   },
   "source": [
    "# Business Understanding"
   ]
  },
  {
   "cell_type": "markdown",
   "id": "e5d8405d-c508-40f0-aaf9-343914d591f5",
   "metadata": {
    "tags": []
   },
   "source": [
    "## Wie (de opdrachtgever)? \n",
    "\n",
    "Appbakkers (Corné & Guido) is een bedrijf die (mobiele) applicaties ontwikkeld.  \n",
    "\n",
    " \n",
    "\n",
    "## Wat (de opdracht)? \n",
    "\n",
    "Bij opname van een patiënt wordt er een elektrocardiogram (ECG) gemaakt. Hierbij worden alle elektrische impulsen in het hart geregistreerd, waardoor kan worden afgeleid welke gebieden van het hart naar behoren functioneren.  \n",
    "\n",
    "Arts-onderzoekers vragen zich af of het aantal hartslagen per minuut een goede voorspeller kan zijn van de calciumscore. Gebruik de ECG-datasets om per dataset het gemiddelde aantal hartslagen per minuut te bepalen (bedenk goed welke onderdelen van de ECGs je hiervoor allemaal gaat gebruiken): indien deze boven de 100 slagen per minuut is heet dit tachycardie, indien deze onder de 60 slagen per minuut is heet dit bradycardie.  \n",
    "\n",
    "Onderzoek daarna met deze resultaten en de calciumscore uitkomsten of de aanwezigheid van bradycardie/tachycardie/normale hartslag (en meer specifiek het aantal hartslagen per minuut) de calciumscore kan voorspellen. Bepaal hierna of de datasets een regelmatig of onregelmatig hartritme vertonen en probeer je model hiermee te verbeteren. Kan je model nu accuraat de calciumscore voorspellen? Zijn er risico’s bij het gebruik van je model in de praktijk? Als je nog tijd over hebt, is het interessant om je gegevens te combineren met die van opdracht 1. Kan je elkaars modellen verder verbeteren? \n",
    "\n",
    " \n",
    "\n",
    "## Wanneer (tijdsframe)? \n",
    "\n",
    "Deze opdracht voeren we uit vanaf 13 april ’22. Op deze dag hebben we de kennismaking gehad met onze opdrachtgever. Hierin hebben we de opdracht besproken en een aantal afspraken gemaakt. De einddatum van de opdracht zal zijn op 3 juni ’22. \n",
    "\n",
    " \n",
    "\n",
    "## Waarom (doel)? \n",
    "\n",
    "Het doel is om te achterhalen of hartslag een goede voorspeller kan zijn van de calciumscore. \n",
    "\n",
    "Als het model gemaakt is om dit te voorspellen kan deze verbeterd/uitgebreid worden met de resultaten en de calciumscore uitkomsten of de aanwezigheid van bradycardie/tachycardie/normale hartslag (en meer specifiek het aantal hartslagen per minuut) de calciumscore kan voorspellen.  \n",
    "\n",
    " \n",
    "\n",
    "## Wat (wat gaan we gebruiken)? \n",
    "\n",
    "Door middel van Jupyter notebooks gaan wij het model ontwikkelen.  \n",
    "ECG viewer om ECG´s bestanden door te lezen. "
   ]
  },
  {
   "cell_type": "markdown",
   "id": "42ac6956-51d7-458d-9ec2-d6059a4c5827",
   "metadata": {},
   "source": [
    "# Data Understanding"
   ]
  },
  {
   "cell_type": "markdown",
   "id": "14e28c75-6a72-4de5-a74e-4d2eb7b89fdb",
   "metadata": {},
   "source": [
    "Wij hebben 2 publieke datasets gekregen om mee bezig te gaan. Deze zijn \"cardio_train.csv\" en \"riskchartsampledata.xlsx\". Hieronder is te lezen wat de kolommen in deze datasets betekenen."
   ]
  },
  {
   "cell_type": "markdown",
   "id": "c7d8e439-fc89-437e-ad66-b09781fb0a62",
   "metadata": {
    "tags": []
   },
   "source": [
    "### \"cardio_train.csv\""
   ]
  },
  {
   "cell_type": "markdown",
   "id": "5968cadd-0145-46f8-b8bf-2a7912fd608c",
   "metadata": {},
   "source": [
    "* id          \n",
    "    De id van de rij, **integer** <br/>\n",
    "* age         \n",
    "    De leeftijd van de patient in dagen, **integer** <br/>\n",
    "* gender      \n",
    "    Het geslacht van de patient, waarbij 1 een man is en 2 een vrouw, **category** <br/>\n",
    "* height      \n",
    "    De lengte van de patient, gegeven in centimeters, **integer** <br/>\n",
    "* weight      \n",
    "    Het gewicht van de patient, gegeven in kilogram, **float** <br/>\n",
    "* ap_hi       \n",
    "    De bovendruk van de patient, **integer**  <br/>\n",
    "* ap_lo       \n",
    "    De onderdruk van de patient, **integer**  <br/>\n",
    "* cholesterol <br/>\n",
    "    Hoe veel cholesterol de patient heeft, **category**  <br/>\n",
    "* gluc        \n",
    "    Hoe veel glucoses de patient heeft, **category**  <br/>\n",
    "* smoke       \n",
    "    Of de patient rookt, **boolean** <br/>\n",
    "* alco        \n",
    "    Of de patient alcohol drinkt, **boolean** <br/>\n",
    "* active      \n",
    "    Of de patient actief is in het dagelijks leven, **boolean** <br/>\n",
    "* cardio      \n",
    "    Of de patient een cardiovasculaire ziekte heeft, **boolean** <br/>"
   ]
  },
  {
   "cell_type": "code",
   "execution_count": 85,
   "id": "c9de3cfd-d692-4f5a-92a0-19044189e14e",
   "metadata": {},
   "outputs": [],
   "source": [
    "import pandas as pd\n",
    "import numpy as np\n",
    "import matplotlib.pyplot as plt\n",
    "import seaborn as sns\n",
    "import pandas_profiling as pp\n",
    "from sklearn.model_selection import train_test_split\n",
    "from sklearn.naive_bayes import GaussianNB\n",
    "from sklearn.preprocessing import StandardScaler\n",
    "from sklearn.neighbors import KNeighborsClassifier"
   ]
  },
  {
   "cell_type": "code",
   "execution_count": 86,
   "id": "133d1f38-aaad-40a0-99aa-59e790c1026f",
   "metadata": {},
   "outputs": [],
   "source": [
    "cardio_train = pd.read_csv(\"Data/cardio_train.csv\", delimiter=';')\n",
    "#riskchart = pd.read_excel(\"Data/riskchartsampledata.xlsx\", true_values=['Yes','Diabetes','Smoker'], false_values=['No','Non-diabetes','Non-smoker'])"
   ]
  },
  {
   "cell_type": "code",
   "execution_count": 88,
   "id": "51e2c7fc-5c35-4823-b0e9-8cf94f2422ff",
   "metadata": {},
   "outputs": [
    {
     "data": {
      "application/vnd.jupyter.widget-view+json": {
       "model_id": "d03d6bf766514ae9a7787c5ef3c92a34",
       "version_major": 2,
       "version_minor": 0
      },
      "text/plain": [
       "Summarize dataset:   0%|          | 0/5 [00:00<?, ?it/s]"
      ]
     },
     "metadata": {},
     "output_type": "display_data"
    },
    {
     "data": {
      "application/vnd.jupyter.widget-view+json": {
       "model_id": "42ea9dcdff044b85a3b73db5241aadac",
       "version_major": 2,
       "version_minor": 0
      },
      "text/plain": [
       "Generate report structure:   0%|          | 0/1 [00:00<?, ?it/s]"
      ]
     },
     "metadata": {},
     "output_type": "display_data"
    },
    {
     "data": {
      "application/vnd.jupyter.widget-view+json": {
       "model_id": "0983c1b59fe84c12ac6f353f6503f128",
       "version_major": 2,
       "version_minor": 0
      },
      "text/plain": [
       "Render HTML:   0%|          | 0/1 [00:00<?, ?it/s]"
      ]
     },
     "metadata": {},
     "output_type": "display_data"
    },
    {
     "data": {
      "application/vnd.jupyter.widget-view+json": {
       "model_id": "cc248c76c5d0482992b81e4ddbc50c32",
       "version_major": 2,
       "version_minor": 0
      },
      "text/plain": [
       "Export report to file:   0%|          | 0/1 [00:00<?, ?it/s]"
      ]
     },
     "metadata": {},
     "output_type": "display_data"
    }
   ],
   "source": [
    "profile = pp.ProfileReport(cardio_train)\n",
    "profile.to_file(\"Cardio_train_Report.html\")\n",
    "#GiveInformationOfDataframe(cardio_train)"
   ]
  },
  {
   "cell_type": "code",
   "execution_count": 105,
   "id": "65328ba9-7a35-4e6e-bd9a-f7d3ac776054",
   "metadata": {
    "tags": []
   },
   "outputs": [
    {
     "data": {
      "text/plain": [
       "<seaborn.axisgrid.PairGrid at 0x23a5cbbe550>"
      ]
     },
     "execution_count": 105,
     "metadata": {},
     "output_type": "execute_result"
    }
   ],
   "source": [
    "sns.pairplot(cardio_train)"
   ]
  },
  {
   "cell_type": "code",
   "execution_count": 94,
   "id": "c2c8efcf-2179-42a2-88d0-fb62bdcba255",
   "metadata": {},
   "outputs": [
    {
     "data": {
      "text/html": [
       "<div>\n",
       "<style scoped>\n",
       "    .dataframe tbody tr th:only-of-type {\n",
       "        vertical-align: middle;\n",
       "    }\n",
       "\n",
       "    .dataframe tbody tr th {\n",
       "        vertical-align: top;\n",
       "    }\n",
       "\n",
       "    .dataframe thead th {\n",
       "        text-align: right;\n",
       "    }\n",
       "</style>\n",
       "<table border=\"1\" class=\"dataframe\">\n",
       "  <thead>\n",
       "    <tr style=\"text-align: right;\">\n",
       "      <th></th>\n",
       "      <th>height</th>\n",
       "    </tr>\n",
       "    <tr>\n",
       "      <th>gender</th>\n",
       "      <th></th>\n",
       "    </tr>\n",
       "  </thead>\n",
       "  <tbody>\n",
       "    <tr>\n",
       "      <th>1</th>\n",
       "      <td>161.355612</td>\n",
       "    </tr>\n",
       "    <tr>\n",
       "      <th>2</th>\n",
       "      <td>169.947895</td>\n",
       "    </tr>\n",
       "  </tbody>\n",
       "</table>\n",
       "</div>"
      ],
      "text/plain": [
       "            height\n",
       "gender            \n",
       "1       161.355612\n",
       "2       169.947895"
      ]
     },
     "execution_count": 94,
     "metadata": {},
     "output_type": "execute_result"
    }
   ],
   "source": [
    "cardio_train[['gender','height']].groupby('gender').agg(np.mean)"
   ]
  },
  {
   "cell_type": "markdown",
   "id": "9c9c51c5-f18e-464f-9ed1-15e3bc100edf",
   "metadata": {},
   "source": [
    "De personen met 2 als gender zijn gemiddeld langer, dus is de 2 een man en 1 een vrouw."
   ]
  },
  {
   "cell_type": "code",
   "execution_count": 116,
   "id": "394d2da2",
   "metadata": {},
   "outputs": [],
   "source": [
    "# Functie om uit te rekenen hoeveel procent een cardiovasuclaire ziekte heeft bij een andere conditie.\n",
    "def percentage(waardeInKolom, tabelKolom):\n",
    "    percentage = cardio_train[(cardio_train.cardio == 1) & (tabelKolom == waardeInKolom)]['id'].count() / 70000 * 100\n",
    "    percentage = round(percentage, 2)\n",
    "    print (percentage,'%')"
   ]
  },
  {
   "cell_type": "code",
   "execution_count": 118,
   "id": "446c6b7e",
   "metadata": {},
   "outputs": [
    {
     "name": "stdout",
     "output_type": "stream",
     "text": [
      "17.66 %\n"
     ]
    }
   ],
   "source": [
    "percentage(2, cardio_train.gender)"
   ]
  },
  {
   "cell_type": "markdown",
   "id": "0f868069",
   "metadata": {},
   "source": [
    "### Uitleg van de data"
   ]
  },
  {
   "cell_type": "markdown",
   "id": "06239c64",
   "metadata": {},
   "source": [
    "De dataset ‘cardio_train.csv’ bevat 70000 rijen en 13 kolommen. De inhoud van de kolommen wordt hieronder uitgelegd. Daarnaast worden er een aantal statistieken meegegeven.\n",
    "\n",
    "Id: in de kolom ‘id’ staan de id’s van elke rij. Genummerd vanaf 0 tot en met 69999.\n",
    "\n",
    "Age: in de kolom ‘age’ staat de leeftijd van de patiënt in dagen.  De minimale leeftijd is 10798 dagen  wat omgerekend naar jaren 29 is. De hoogste leeftijd is 23713 dagen, dit is omgerekend 64 jaar. De gemiddelde leeftijd is 53 jaar.\n",
    "\n",
    "Gender: De kolom ‘gender’ bevat het geslacht van de patiënt, een ‘1’ staat voor een vrouw en een ‘2’ staat voor een man. 65% van de patiënten zijn vrouw. Uit de data blijkt dat 32,31% van de vrouwen een cardiovasculaire ziekte heeft en 17,66% van de mannen.\n",
    "\n",
    "Height: in de kolom ‘height’ staat de lengte van de patiënt in centimeters. De kleinste persoon is volgens de data 55 centimeter en de langste persoon is volgens de data 250 centimeter. De gemiddelde lengte is 164,36 centimeter.\n",
    "\n",
    "Weight: De kolom ‘weight’ bevat het gewicht van de patiënten in kilogrammen. De lichtste persoon in volgens de data 10 kilogram en de zwaarste persoon is 200 kilogram. Het gemiddelde gewicht is 74,2 kilo.\n",
    "\n",
    "Ap_hi: De kolom ‘ap_hi’  bevat de bovendruk van de patiënten in mmHg. De hoogste waarde is 16020 en de laagste waarde is -150. Het gemiddelde ligt op 128.\n",
    "\n",
    "Ap_lo: De kolom ‘ap_lo’  bevat de onderdruk van de patiënten in mmHg. De hoogste waarde is 11000 en de laagste waarde is -70. Het gemiddelde ligt op 96.\n",
    "\n",
    "Colesterol: de kolom ‘colesterol’ bevat het cholesterol gehalte van de patiënt. De kolom bevat drie waarden ‘1’ normaal, ‘2’ boven normaal en ‘3’ ruim boven normaal. De meesten vallen in categorie 1. \n",
    "\n",
    "Gluc: de kolom ‘gluc’ bevat het glucose gehalte van de patiënt. De kolom bevat drie waarden ‘1’ normaal, ‘2’ boven normaal en ‘3’ ruim boven normaal. De meesten vallen in categorie 1. \n",
    "\n",
    "Smoke: de kolom ‘smoke’ geeft aan of de patiënt rookt. De kolom bevat twee waarden, ‘0’ de patiënt rookt niet en ‘1’ de patiënt rookt. Uit de data blijkt dat 4,18% van de patiënten die roken een cardiovasculaire ziekte heeft en 45,79% van de patiënten die roken een cardiovasculaire ziekte heeft.\n",
    "\n",
    "Alco: de kolom ‘alco’ geeft aan of de patiënt alcohol drinkt. De kolom bevat twee waarden, ‘0’ de patiënt drinkt geen alcohol en ‘1’ de patiënt drinkt alcohol. Uit de data blijkt dat 2,60% van de patiënten die drinken een cardiovasculaire ziekte heeft en 47,37% van de patiënten die niet drinken een cardiovasculaire ziekte heeft.\n",
    "\n",
    "Active: de kolom ‘active’ geeft aan of de patiënt actief is. De kolom bevat twee waarden, ‘0’ de patiënt is niet actief en ‘1’ de patiënt is actief. Uit de data blijkt dat 39,45% van de patiënten die actief zijn een cardiovasculaire ziekte heeft en 10,51% van de patiënten die niet actief zijn een cardiovasculaire ziekte heeft.\n",
    "\n",
    "Cardio: de kolom ‘cardio’ geeft aan of de patiënt een cardiovasculaire ziekte heeft. De kolom bevat twee waarden, ‘0’ de patiënt heeft geen cardiovasculaire ziekte en ‘1’ de patiënt heeft een cardiovasculaire ziekte. In de data heeft 49,97% van de patiënten een cardiovasculaire ziekte."
   ]
  },
  {
   "cell_type": "markdown",
   "id": "94ac93c5-31ee-41be-af72-ec8ccff2a71d",
   "metadata": {
    "tags": []
   },
   "source": [
    "# Data Preparation"
   ]
  },
  {
   "cell_type": "code",
   "execution_count": 95,
   "id": "b585df08-d68b-4eda-8f84-b28d57242d77",
   "metadata": {
    "tags": []
   },
   "outputs": [
    {
     "data": {
      "text/html": [
       "<div>\n",
       "<style scoped>\n",
       "    .dataframe tbody tr th:only-of-type {\n",
       "        vertical-align: middle;\n",
       "    }\n",
       "\n",
       "    .dataframe tbody tr th {\n",
       "        vertical-align: top;\n",
       "    }\n",
       "\n",
       "    .dataframe thead th {\n",
       "        text-align: right;\n",
       "    }\n",
       "</style>\n",
       "<table border=\"1\" class=\"dataframe\">\n",
       "  <thead>\n",
       "    <tr style=\"text-align: right;\">\n",
       "      <th></th>\n",
       "      <th>id</th>\n",
       "      <th>age</th>\n",
       "      <th>gender</th>\n",
       "      <th>height</th>\n",
       "      <th>weight</th>\n",
       "      <th>ap_hi</th>\n",
       "      <th>ap_lo</th>\n",
       "      <th>cholesterol</th>\n",
       "      <th>gluc</th>\n",
       "      <th>smoke</th>\n",
       "      <th>alco</th>\n",
       "      <th>active</th>\n",
       "      <th>cardio</th>\n",
       "    </tr>\n",
       "  </thead>\n",
       "  <tbody>\n",
       "    <tr>\n",
       "      <th>0</th>\n",
       "      <td>0</td>\n",
       "      <td>18393</td>\n",
       "      <td>2</td>\n",
       "      <td>168</td>\n",
       "      <td>62.0</td>\n",
       "      <td>110</td>\n",
       "      <td>80</td>\n",
       "      <td>1</td>\n",
       "      <td>1</td>\n",
       "      <td>False</td>\n",
       "      <td>False</td>\n",
       "      <td>True</td>\n",
       "      <td>False</td>\n",
       "    </tr>\n",
       "    <tr>\n",
       "      <th>1</th>\n",
       "      <td>1</td>\n",
       "      <td>20228</td>\n",
       "      <td>1</td>\n",
       "      <td>156</td>\n",
       "      <td>85.0</td>\n",
       "      <td>140</td>\n",
       "      <td>90</td>\n",
       "      <td>3</td>\n",
       "      <td>1</td>\n",
       "      <td>False</td>\n",
       "      <td>False</td>\n",
       "      <td>True</td>\n",
       "      <td>True</td>\n",
       "    </tr>\n",
       "    <tr>\n",
       "      <th>2</th>\n",
       "      <td>2</td>\n",
       "      <td>18857</td>\n",
       "      <td>1</td>\n",
       "      <td>165</td>\n",
       "      <td>64.0</td>\n",
       "      <td>130</td>\n",
       "      <td>70</td>\n",
       "      <td>3</td>\n",
       "      <td>1</td>\n",
       "      <td>False</td>\n",
       "      <td>False</td>\n",
       "      <td>False</td>\n",
       "      <td>True</td>\n",
       "    </tr>\n",
       "    <tr>\n",
       "      <th>3</th>\n",
       "      <td>3</td>\n",
       "      <td>17623</td>\n",
       "      <td>2</td>\n",
       "      <td>169</td>\n",
       "      <td>82.0</td>\n",
       "      <td>150</td>\n",
       "      <td>100</td>\n",
       "      <td>1</td>\n",
       "      <td>1</td>\n",
       "      <td>False</td>\n",
       "      <td>False</td>\n",
       "      <td>True</td>\n",
       "      <td>True</td>\n",
       "    </tr>\n",
       "    <tr>\n",
       "      <th>4</th>\n",
       "      <td>4</td>\n",
       "      <td>17474</td>\n",
       "      <td>1</td>\n",
       "      <td>156</td>\n",
       "      <td>56.0</td>\n",
       "      <td>100</td>\n",
       "      <td>60</td>\n",
       "      <td>1</td>\n",
       "      <td>1</td>\n",
       "      <td>False</td>\n",
       "      <td>False</td>\n",
       "      <td>False</td>\n",
       "      <td>False</td>\n",
       "    </tr>\n",
       "    <tr>\n",
       "      <th>...</th>\n",
       "      <td>...</td>\n",
       "      <td>...</td>\n",
       "      <td>...</td>\n",
       "      <td>...</td>\n",
       "      <td>...</td>\n",
       "      <td>...</td>\n",
       "      <td>...</td>\n",
       "      <td>...</td>\n",
       "      <td>...</td>\n",
       "      <td>...</td>\n",
       "      <td>...</td>\n",
       "      <td>...</td>\n",
       "      <td>...</td>\n",
       "    </tr>\n",
       "    <tr>\n",
       "      <th>69995</th>\n",
       "      <td>99993</td>\n",
       "      <td>19240</td>\n",
       "      <td>2</td>\n",
       "      <td>168</td>\n",
       "      <td>76.0</td>\n",
       "      <td>120</td>\n",
       "      <td>80</td>\n",
       "      <td>1</td>\n",
       "      <td>1</td>\n",
       "      <td>True</td>\n",
       "      <td>False</td>\n",
       "      <td>True</td>\n",
       "      <td>False</td>\n",
       "    </tr>\n",
       "    <tr>\n",
       "      <th>69996</th>\n",
       "      <td>99995</td>\n",
       "      <td>22601</td>\n",
       "      <td>1</td>\n",
       "      <td>158</td>\n",
       "      <td>126.0</td>\n",
       "      <td>140</td>\n",
       "      <td>90</td>\n",
       "      <td>2</td>\n",
       "      <td>2</td>\n",
       "      <td>False</td>\n",
       "      <td>False</td>\n",
       "      <td>True</td>\n",
       "      <td>True</td>\n",
       "    </tr>\n",
       "    <tr>\n",
       "      <th>69997</th>\n",
       "      <td>99996</td>\n",
       "      <td>19066</td>\n",
       "      <td>2</td>\n",
       "      <td>183</td>\n",
       "      <td>105.0</td>\n",
       "      <td>180</td>\n",
       "      <td>90</td>\n",
       "      <td>3</td>\n",
       "      <td>1</td>\n",
       "      <td>False</td>\n",
       "      <td>True</td>\n",
       "      <td>False</td>\n",
       "      <td>True</td>\n",
       "    </tr>\n",
       "    <tr>\n",
       "      <th>69998</th>\n",
       "      <td>99998</td>\n",
       "      <td>22431</td>\n",
       "      <td>1</td>\n",
       "      <td>163</td>\n",
       "      <td>72.0</td>\n",
       "      <td>135</td>\n",
       "      <td>80</td>\n",
       "      <td>1</td>\n",
       "      <td>2</td>\n",
       "      <td>False</td>\n",
       "      <td>False</td>\n",
       "      <td>False</td>\n",
       "      <td>True</td>\n",
       "    </tr>\n",
       "    <tr>\n",
       "      <th>69999</th>\n",
       "      <td>99999</td>\n",
       "      <td>20540</td>\n",
       "      <td>1</td>\n",
       "      <td>170</td>\n",
       "      <td>72.0</td>\n",
       "      <td>120</td>\n",
       "      <td>80</td>\n",
       "      <td>2</td>\n",
       "      <td>1</td>\n",
       "      <td>False</td>\n",
       "      <td>False</td>\n",
       "      <td>True</td>\n",
       "      <td>False</td>\n",
       "    </tr>\n",
       "  </tbody>\n",
       "</table>\n",
       "<p>70000 rows × 13 columns</p>\n",
       "</div>"
      ],
      "text/plain": [
       "          id    age gender  height  weight  ap_hi  ap_lo cholesterol gluc  \\\n",
       "0          0  18393      2     168    62.0    110     80           1    1   \n",
       "1          1  20228      1     156    85.0    140     90           3    1   \n",
       "2          2  18857      1     165    64.0    130     70           3    1   \n",
       "3          3  17623      2     169    82.0    150    100           1    1   \n",
       "4          4  17474      1     156    56.0    100     60           1    1   \n",
       "...      ...    ...    ...     ...     ...    ...    ...         ...  ...   \n",
       "69995  99993  19240      2     168    76.0    120     80           1    1   \n",
       "69996  99995  22601      1     158   126.0    140     90           2    2   \n",
       "69997  99996  19066      2     183   105.0    180     90           3    1   \n",
       "69998  99998  22431      1     163    72.0    135     80           1    2   \n",
       "69999  99999  20540      1     170    72.0    120     80           2    1   \n",
       "\n",
       "       smoke   alco  active  cardio  \n",
       "0      False  False    True   False  \n",
       "1      False  False    True    True  \n",
       "2      False  False   False    True  \n",
       "3      False  False    True    True  \n",
       "4      False  False   False   False  \n",
       "...      ...    ...     ...     ...  \n",
       "69995   True  False    True   False  \n",
       "69996  False  False    True    True  \n",
       "69997  False   True   False    True  \n",
       "69998  False  False   False    True  \n",
       "69999  False  False    True   False  \n",
       "\n",
       "[70000 rows x 13 columns]"
      ]
     },
     "execution_count": 95,
     "metadata": {},
     "output_type": "execute_result"
    }
   ],
   "source": [
    "cardio_train.astype({'gender':'category','cholesterol':'category','gluc':'category','smoke':'bool','alco':'bool','active':'bool','cardio':'bool'}, copy=False)"
   ]
  },
  {
   "cell_type": "markdown",
   "id": "9be98d68-4af5-456f-8cd8-0c1e3d29f26e",
   "metadata": {},
   "source": [
    "### Aanpassen van data"
   ]
  },
  {
   "cell_type": "code",
   "execution_count": 96,
   "id": "08418c88-02e3-41dd-9049-aab778ca1441",
   "metadata": {},
   "outputs": [],
   "source": [
    "cardio_train.astype('category',copy=False)\n",
    "\n",
    "cardio_train['age_in_years'] = (cardio_train['age']/365).agg(np.round)\n",
    "\n",
    "#cardio_train['age_category'] = pd.cut(cardio_train['age_in_years'], range(5,105,10))\n",
    "#age_cat = [str(x.left) + '-' + str(x.right-1) for x in cardio_train['age_category']]\n",
    "#cardio_train['age_category'] = age_cat\n",
    "#cardio_train['age_category'].astype('category',copy=False)\n",
    "\n",
    "cardio_train['bmi'] = cardio_train['weight'] / (cardio_train['height']/100)**2 \n",
    "\n",
    "cardio_train['ap_difference'] = cardio_train['ap_hi'] - cardio_train['ap_lo']\n",
    "\n"
   ]
  },
  {
   "cell_type": "code",
   "execution_count": 97,
   "id": "cddefbd9",
   "metadata": {},
   "outputs": [],
   "source": [
    "cardio_train.drop_duplicates(inplace=True)\n",
    "data = cardio_train\n",
    "\n",
    "# ap_hi kan niet lager zijn dan ap_lo\n",
    "data = data[:][data['ap_hi'] > data['ap_lo']]\n",
    "\n",
    "data = data[~(data['bmi']>60)]\n",
    "\n",
    "\n",
    "high_ap_filter = ((data[\"ap_hi\"]>220) | (data[\"ap_lo\"]>180))\n",
    "data = data[~high_ap_filter]\n",
    "\n",
    "low_ap_filter = ((data[\"ap_hi\"] < 40) | (data[\"ap_lo\"] < 40))\n",
    "data = data[~low_ap_filter]\n",
    "\n",
    "labels = data['cardio']\n",
    "\n",
    "# Use this as a filter for which columns you dont want in your model\n",
    "columns_to_remove = ['id','bmi','gluc', 'ap_lo', 'smoke', 'active']\n",
    "for column in columns_to_remove:\n",
    "    data = data.loc[:, data.columns != column]"
   ]
  },
  {
   "cell_type": "code",
   "execution_count": null,
   "id": "aca18f5a",
   "metadata": {},
   "outputs": [],
   "source": []
  },
  {
   "cell_type": "code",
   "execution_count": null,
   "id": "0e5bae6e",
   "metadata": {},
   "outputs": [],
   "source": []
  },
  {
   "cell_type": "code",
   "execution_count": null,
   "id": "fdc7e637",
   "metadata": {},
   "outputs": [],
   "source": []
  },
  {
   "cell_type": "code",
   "execution_count": null,
   "id": "f13fa943",
   "metadata": {},
   "outputs": [],
   "source": []
  },
  {
   "cell_type": "code",
   "execution_count": null,
   "id": "465cce5d",
   "metadata": {},
   "outputs": [],
   "source": []
  },
  {
   "cell_type": "code",
   "execution_count": null,
   "id": "bf3b2407",
   "metadata": {},
   "outputs": [],
   "source": []
  },
  {
   "cell_type": "code",
   "execution_count": null,
   "id": "9787e200",
   "metadata": {},
   "outputs": [],
   "source": []
  },
  {
   "cell_type": "code",
   "execution_count": null,
   "id": "e8033fe4",
   "metadata": {},
   "outputs": [],
   "source": []
  },
  {
   "cell_type": "code",
   "execution_count": null,
   "id": "ff28a75c",
   "metadata": {},
   "outputs": [],
   "source": []
  },
  {
   "cell_type": "code",
   "execution_count": null,
   "id": "5eb752ac",
   "metadata": {},
   "outputs": [],
   "source": []
  }
 ],
 "metadata": {
  "kernelspec": {
   "display_name": "Python 3 (ipykernel)",
   "language": "python",
   "name": "python3"
  },
  "language_info": {
   "codemirror_mode": {
    "name": "ipython",
    "version": 3
   },
   "file_extension": ".py",
   "mimetype": "text/x-python",
   "name": "python",
   "nbconvert_exporter": "python",
   "pygments_lexer": "ipython3",
   "version": "3.9.7"
  }
 },
 "nbformat": 4,
 "nbformat_minor": 5
}
